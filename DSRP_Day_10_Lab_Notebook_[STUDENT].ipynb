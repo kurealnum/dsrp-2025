{
  "cells": [
    {
      "cell_type": "markdown",
      "metadata": {
        "id": "view-in-github",
        "colab_type": "text"
      },
      "source": [
        "<a href=\"https://colab.research.google.com/github/kurealnum/dsrp-2025/blob/main/DSRP_Day_10_Lab_Notebook_%5BSTUDENT%5D.ipynb\" target=\"_parent\"><img src=\"https://colab.research.google.com/assets/colab-badge.svg\" alt=\"Open In Colab\"/></a>"
      ]
    },
    {
      "cell_type": "markdown",
      "source": [
        "# **2015 World Happiness Report Project**\n",
        "---\n",
        "\n",
        "### **Description**\n",
        "In this project, you will use what you have learned so far about the machine learning process, Linear Regression, and KNN to analyze the official 2015 World Happiness Report from the United Nations. In particular, you will explore, wrangle, and visualize this data and then model the Happiness Score and Region of countries based on the variables reported in this dataset.\n",
        "\n",
        "<br>\n",
        "\n",
        "\n",
        "### **Overview**\n",
        "For this project, you are given data collected for the 2015 UN Happiness Report. The 2015 Happiness Report, also known as the World Happiness Report 2015, is a publication that presents rankings of countries based on their levels of happiness and well-being. The report is a collaborative effort between the Sustainable Development Solutions Network (SDSN) and the Earth Institute at Columbia University, with contributions from various researchers and experts.\n",
        "\n",
        "<br>\n",
        "\n",
        "The report includes rankings of 158 countries based on the \"World Happiness Index,\" which is calculated using survey data from the Gallup World Poll and other sources. The index combines factors such as GDP per capita, social support, healthy life expectancy, freedom to make life choices, generosity, and perceptions of corruption to assess overall happiness levels.\n",
        "\n",
        "<br>\n",
        "\n",
        "The 2015 Happiness Report sheds light on the relationship between happiness, well-being, and sustainable development, emphasizing the importance of incorporating measures of happiness into policy-making and development strategies. It provides valuable insights into global happiness levels, highlighting the factors that contribute to happiness and offering recommendations for policymakers and individuals to improve overall well-being.\n",
        "\n",
        "<br>\n",
        "\n",
        " Everything you need is provided below. But, if you are curious to learn more the [official source can be found here](https://worldhappiness.report/ed/2015/#appendices-and-data). Here is a list of variables for your reference:\n",
        "\n",
        "* `Country`: The country that the data corresponds to.\n",
        "\n",
        "* `Region`: The region that this country is classified as belong to.\n",
        "\n",
        "* `Happiness Score`: A metric measured in 2015 by asking the sampled people the question: \"How would you rate your happiness on a scale of 0 to 10 where 10 is the happiest.\"\n",
        "\n",
        "* `GDP`: The extent to which GDP contributes to the calculation of the Happiness Score.\n",
        "\n",
        "* `Social Support`: The extent to which Family contributes to the calculation of the Happiness Score\n",
        "\n",
        "* `Health Life Expectancy`: The extent to which Life expectancy contributed to the calculation of the Happiness Score\n",
        "\n",
        "* `Freedom`: The extent to which Freedom contributed to the calculation of the Happiness Score.\n",
        "\n",
        "* `Corruption Perception`: The extent to which Perception of Corruption contributes to Happiness Score.\n",
        "\n",
        "* `Generosity`: A model of the national average of response to the question “Have you donated money to a charity in the past month?” on GDP per\n",
        "capita.\n",
        "\n",
        "**NOTE**: All numerical variables except `Happiness Score` have already been standardized.\n",
        "\n",
        "<br>\n",
        "\n",
        "### **Key questions to answer**\n",
        "1. How do these variables, such as `Generosity` or `Freedom`, influence a country's `Happiness Score`?\n",
        "\n",
        "2. In 2015, which nation had the highest `Happiness Score`? Which nation had the lowest `Happiness Score`?\n",
        "\n",
        "2. What patterns can be observed visually? What patterns can be observed with deeper data exploration?\n",
        "\n",
        "3. Is Linear Regression or KNN better suited to this task of predicting Happiness Score or Region and why?\n",
        "\n",
        "4. What is the best value of K for any case where you used KNN?\n",
        "\n",
        "5. What role did feature selection play in the performance of models for both cases?\n",
        "\n",
        "6. What variables play the largest role in predicting Happiness Score or Region?\n",
        "\n",
        "<br>\n",
        "\n",
        "### **Lab Structure**\n",
        "**Part 1**:  [Data Exploration, Wrangling, and Visualization](#p1)\n",
        "\n",
        "**Part 2**:  [Predicting Happiness Score](#p2)\n",
        "\n",
        "> **Part 2.1**: [Using All Numerical Features](#p21)\n",
        ">\n",
        "> **Part 2.2**: [Using the 3 Best Numerical Features](#p22)\n",
        ">\n",
        ">\n",
        ">\n",
        "\n",
        "**Part 3**: [Predicting Region](#p3)\n",
        "\n",
        "> **Part 3.1**: [Using All Numerical Features](#p31)\n",
        ">\n",
        "> **Part 3.2**: [Using the 2 Best Numerical Features](#p32)\n",
        ">\n",
        ">\n",
        ">\n",
        "\n",
        "</br>\n",
        "\n",
        "### **Goals**\n",
        "**By the end of this project, you will have:**\n",
        "1. Cleaned, explored, and visualized this dataset.\n",
        "2. Engineered a new feature and modeled it.\n",
        "3. Decided when to use Linear Regression or KNN for different tasks.\n",
        "4. Modeled several different variables and analyzed the results.\n",
        "\n",
        "<br>\n",
        "\n",
        "\n",
        "### **Cheat Sheets**\n",
        "\n",
        "* [Python Basics](https://docs.google.com/document/d/1jC6zIdBukfEoJ8CesGf_usCtK2P6pJTWe5oxopC49aY/edit?usp=drive_link)\n",
        "\n",
        "* [EDA with pandas](https://docs.google.com/document/d/1hMsWa7ziMulT0WjoCaqLTkpoqilCO12HlOrVy4-_zwY/edit?usp=drive_link)\n",
        "\n",
        "* [Data Visualization with matplotlib](https://docs.google.com/document/d/1IA-sgjUvrQYyKlcBxFN-PIsHMEMrixwd6sh9RlMkubQ/edit?usp=drive_link)\n",
        "\n",
        "* [Linear Regression with sklearn](https://docs.google.com/document/d/1uJueuaBhszyXJ1UeRZU25Ux6LgW7m7YtG1GA5x_O120/edit?usp=drive_link)\n",
        "\n",
        "* [KNN with sklearn](https://docs.google.com/document/d/1X-aC73lEWaYwzzG9AQJCJSyCFxLvGf2rFnK6hlE_Gy8/edit?usp=drive_link)\n",
        "\n",
        "<br>\n",
        "\n",
        "**Run the cell below to import all necessary libraries and functions.**"
      ],
      "metadata": {
        "id": "8Np2oa_ZijMe"
      }
    },
    {
      "cell_type": "code",
      "execution_count": 1,
      "metadata": {
        "id": "J697Qi0eizBL"
      },
      "outputs": [],
      "source": [
        "import warnings\n",
        "warnings.filterwarnings('ignore')\n",
        "\n",
        "import numpy as np\n",
        "import pandas as pd\n",
        "import matplotlib.pyplot as plt\n",
        "\n",
        "from sklearn.feature_selection import SelectKBest\n",
        "from sklearn.model_selection import train_test_split\n",
        "from sklearn.metrics import r2_score, mean_squared_error, mean_absolute_error, accuracy_score"
      ]
    },
    {
      "cell_type": "markdown",
      "metadata": {
        "id": "PW6EDtnXdczv"
      },
      "source": [
        "<a name=\"p1\"></a>\n",
        "\n",
        "---\n",
        "## **Part 1: Data Exploration, Wrangling, and Visualization**\n",
        "---\n",
        "\n",
        "In this part, you will load in and explore the dataset for this project. This will involve using functions from pandas as well as reading source material to understand the data that you are working with.\n",
        "\n",
        "**NOTE**: In most real world situations, you will not do data exploration, wrangling, and visualization separately as we have done in the past. As such, you will simply be asked to perform tasks throughout this section without explicitly distinguishing between exploration, wrangling, and visualization.\n",
        "\n",
        "<br>\n",
        "\n",
        "**Run the code below to load in the data.**"
      ]
    },
    {
      "cell_type": "code",
      "source": [
        "url = \"https://docs.google.com/spreadsheets/d/e/2PACX-1vSUoGLZ90Qr6A5-DmdYD30CIEwMqIAmtWSbdcLgi10u5WoCtCuj_RuSm7wDsFsfcwPGRB6ZZDduCxpO/pub?gid=108149846&single=true&output=csv\"\n",
        "\n",
        "happy_df = pd.read_csv(url)"
      ],
      "metadata": {
        "id": "hRZBMlvDZn5U"
      },
      "execution_count": 2,
      "outputs": []
    },
    {
      "cell_type": "markdown",
      "source": [
        "### **Problem #1.1**\n",
        "\n",
        "Spend a few minutes getting familiar with the data. Some things to consider: how many instances are there? How many features? What are the features' datatypes?"
      ],
      "metadata": {
        "id": "NhuunxzY8Sxx"
      }
    },
    {
      "cell_type": "code",
      "source": [
        "happy_df.head()"
      ],
      "metadata": {
        "id": "NqsdS5NXcwR8",
        "outputId": "5e62a3e1-688b-4466-8ac8-c2b733017e6a",
        "colab": {
          "base_uri": "https://localhost:8080/",
          "height": 206
        }
      },
      "execution_count": 6,
      "outputs": [
        {
          "output_type": "execute_result",
          "data": {
            "text/plain": [
              "       Country          region  Happiness Score      GDP  Social_support  \\\n",
              "0  Switzerland  Western Europe            7.587  1.39651         1.34951   \n",
              "1      Iceland  Western Europe            7.561  1.30232         1.40223   \n",
              "2      Denmark  Western Europe            7.527  1.32548         1.36058   \n",
              "3       Norway  Western Europe            7.522  1.45900         1.33095   \n",
              "4       Canada   North America            7.427  1.32629         1.32261   \n",
              "\n",
              "   Healthy Life_Expectancy  Freedom  corruptionperception  Generosity  \n",
              "0                  0.94143  0.66557               0.41978     0.29678  \n",
              "1                  0.94784  0.62877               0.14145     0.43630  \n",
              "2                  0.87464  0.64938               0.48357     0.34139  \n",
              "3                  0.88521  0.66973               0.36503     0.34699  \n",
              "4                  0.90563  0.63297               0.32957     0.45811  "
            ],
            "text/html": [
              "\n",
              "  <div id=\"df-fe4b897b-afba-43ac-abab-a9ee012a1fab\" class=\"colab-df-container\">\n",
              "    <div>\n",
              "<style scoped>\n",
              "    .dataframe tbody tr th:only-of-type {\n",
              "        vertical-align: middle;\n",
              "    }\n",
              "\n",
              "    .dataframe tbody tr th {\n",
              "        vertical-align: top;\n",
              "    }\n",
              "\n",
              "    .dataframe thead th {\n",
              "        text-align: right;\n",
              "    }\n",
              "</style>\n",
              "<table border=\"1\" class=\"dataframe\">\n",
              "  <thead>\n",
              "    <tr style=\"text-align: right;\">\n",
              "      <th></th>\n",
              "      <th>Country</th>\n",
              "      <th>region</th>\n",
              "      <th>Happiness Score</th>\n",
              "      <th>GDP</th>\n",
              "      <th>Social_support</th>\n",
              "      <th>Healthy Life_Expectancy</th>\n",
              "      <th>Freedom</th>\n",
              "      <th>corruptionperception</th>\n",
              "      <th>Generosity</th>\n",
              "    </tr>\n",
              "  </thead>\n",
              "  <tbody>\n",
              "    <tr>\n",
              "      <th>0</th>\n",
              "      <td>Switzerland</td>\n",
              "      <td>Western Europe</td>\n",
              "      <td>7.587</td>\n",
              "      <td>1.39651</td>\n",
              "      <td>1.34951</td>\n",
              "      <td>0.94143</td>\n",
              "      <td>0.66557</td>\n",
              "      <td>0.41978</td>\n",
              "      <td>0.29678</td>\n",
              "    </tr>\n",
              "    <tr>\n",
              "      <th>1</th>\n",
              "      <td>Iceland</td>\n",
              "      <td>Western Europe</td>\n",
              "      <td>7.561</td>\n",
              "      <td>1.30232</td>\n",
              "      <td>1.40223</td>\n",
              "      <td>0.94784</td>\n",
              "      <td>0.62877</td>\n",
              "      <td>0.14145</td>\n",
              "      <td>0.43630</td>\n",
              "    </tr>\n",
              "    <tr>\n",
              "      <th>2</th>\n",
              "      <td>Denmark</td>\n",
              "      <td>Western Europe</td>\n",
              "      <td>7.527</td>\n",
              "      <td>1.32548</td>\n",
              "      <td>1.36058</td>\n",
              "      <td>0.87464</td>\n",
              "      <td>0.64938</td>\n",
              "      <td>0.48357</td>\n",
              "      <td>0.34139</td>\n",
              "    </tr>\n",
              "    <tr>\n",
              "      <th>3</th>\n",
              "      <td>Norway</td>\n",
              "      <td>Western Europe</td>\n",
              "      <td>7.522</td>\n",
              "      <td>1.45900</td>\n",
              "      <td>1.33095</td>\n",
              "      <td>0.88521</td>\n",
              "      <td>0.66973</td>\n",
              "      <td>0.36503</td>\n",
              "      <td>0.34699</td>\n",
              "    </tr>\n",
              "    <tr>\n",
              "      <th>4</th>\n",
              "      <td>Canada</td>\n",
              "      <td>North America</td>\n",
              "      <td>7.427</td>\n",
              "      <td>1.32629</td>\n",
              "      <td>1.32261</td>\n",
              "      <td>0.90563</td>\n",
              "      <td>0.63297</td>\n",
              "      <td>0.32957</td>\n",
              "      <td>0.45811</td>\n",
              "    </tr>\n",
              "  </tbody>\n",
              "</table>\n",
              "</div>\n",
              "    <div class=\"colab-df-buttons\">\n",
              "\n",
              "  <div class=\"colab-df-container\">\n",
              "    <button class=\"colab-df-convert\" onclick=\"convertToInteractive('df-fe4b897b-afba-43ac-abab-a9ee012a1fab')\"\n",
              "            title=\"Convert this dataframe to an interactive table.\"\n",
              "            style=\"display:none;\">\n",
              "\n",
              "  <svg xmlns=\"http://www.w3.org/2000/svg\" height=\"24px\" viewBox=\"0 -960 960 960\">\n",
              "    <path d=\"M120-120v-720h720v720H120Zm60-500h600v-160H180v160Zm220 220h160v-160H400v160Zm0 220h160v-160H400v160ZM180-400h160v-160H180v160Zm440 0h160v-160H620v160ZM180-180h160v-160H180v160Zm440 0h160v-160H620v160Z\"/>\n",
              "  </svg>\n",
              "    </button>\n",
              "\n",
              "  <style>\n",
              "    .colab-df-container {\n",
              "      display:flex;\n",
              "      gap: 12px;\n",
              "    }\n",
              "\n",
              "    .colab-df-convert {\n",
              "      background-color: #E8F0FE;\n",
              "      border: none;\n",
              "      border-radius: 50%;\n",
              "      cursor: pointer;\n",
              "      display: none;\n",
              "      fill: #1967D2;\n",
              "      height: 32px;\n",
              "      padding: 0 0 0 0;\n",
              "      width: 32px;\n",
              "    }\n",
              "\n",
              "    .colab-df-convert:hover {\n",
              "      background-color: #E2EBFA;\n",
              "      box-shadow: 0px 1px 2px rgba(60, 64, 67, 0.3), 0px 1px 3px 1px rgba(60, 64, 67, 0.15);\n",
              "      fill: #174EA6;\n",
              "    }\n",
              "\n",
              "    .colab-df-buttons div {\n",
              "      margin-bottom: 4px;\n",
              "    }\n",
              "\n",
              "    [theme=dark] .colab-df-convert {\n",
              "      background-color: #3B4455;\n",
              "      fill: #D2E3FC;\n",
              "    }\n",
              "\n",
              "    [theme=dark] .colab-df-convert:hover {\n",
              "      background-color: #434B5C;\n",
              "      box-shadow: 0px 1px 3px 1px rgba(0, 0, 0, 0.15);\n",
              "      filter: drop-shadow(0px 1px 2px rgba(0, 0, 0, 0.3));\n",
              "      fill: #FFFFFF;\n",
              "    }\n",
              "  </style>\n",
              "\n",
              "    <script>\n",
              "      const buttonEl =\n",
              "        document.querySelector('#df-fe4b897b-afba-43ac-abab-a9ee012a1fab button.colab-df-convert');\n",
              "      buttonEl.style.display =\n",
              "        google.colab.kernel.accessAllowed ? 'block' : 'none';\n",
              "\n",
              "      async function convertToInteractive(key) {\n",
              "        const element = document.querySelector('#df-fe4b897b-afba-43ac-abab-a9ee012a1fab');\n",
              "        const dataTable =\n",
              "          await google.colab.kernel.invokeFunction('convertToInteractive',\n",
              "                                                    [key], {});\n",
              "        if (!dataTable) return;\n",
              "\n",
              "        const docLinkHtml = 'Like what you see? Visit the ' +\n",
              "          '<a target=\"_blank\" href=https://colab.research.google.com/notebooks/data_table.ipynb>data table notebook</a>'\n",
              "          + ' to learn more about interactive tables.';\n",
              "        element.innerHTML = '';\n",
              "        dataTable['output_type'] = 'display_data';\n",
              "        await google.colab.output.renderOutput(dataTable, element);\n",
              "        const docLink = document.createElement('div');\n",
              "        docLink.innerHTML = docLinkHtml;\n",
              "        element.appendChild(docLink);\n",
              "      }\n",
              "    </script>\n",
              "  </div>\n",
              "\n",
              "\n",
              "    <div id=\"df-37dcba27-6f4f-4ba8-b717-883b95e9e204\">\n",
              "      <button class=\"colab-df-quickchart\" onclick=\"quickchart('df-37dcba27-6f4f-4ba8-b717-883b95e9e204')\"\n",
              "                title=\"Suggest charts\"\n",
              "                style=\"display:none;\">\n",
              "\n",
              "<svg xmlns=\"http://www.w3.org/2000/svg\" height=\"24px\"viewBox=\"0 0 24 24\"\n",
              "     width=\"24px\">\n",
              "    <g>\n",
              "        <path d=\"M19 3H5c-1.1 0-2 .9-2 2v14c0 1.1.9 2 2 2h14c1.1 0 2-.9 2-2V5c0-1.1-.9-2-2-2zM9 17H7v-7h2v7zm4 0h-2V7h2v10zm4 0h-2v-4h2v4z\"/>\n",
              "    </g>\n",
              "</svg>\n",
              "      </button>\n",
              "\n",
              "<style>\n",
              "  .colab-df-quickchart {\n",
              "      --bg-color: #E8F0FE;\n",
              "      --fill-color: #1967D2;\n",
              "      --hover-bg-color: #E2EBFA;\n",
              "      --hover-fill-color: #174EA6;\n",
              "      --disabled-fill-color: #AAA;\n",
              "      --disabled-bg-color: #DDD;\n",
              "  }\n",
              "\n",
              "  [theme=dark] .colab-df-quickchart {\n",
              "      --bg-color: #3B4455;\n",
              "      --fill-color: #D2E3FC;\n",
              "      --hover-bg-color: #434B5C;\n",
              "      --hover-fill-color: #FFFFFF;\n",
              "      --disabled-bg-color: #3B4455;\n",
              "      --disabled-fill-color: #666;\n",
              "  }\n",
              "\n",
              "  .colab-df-quickchart {\n",
              "    background-color: var(--bg-color);\n",
              "    border: none;\n",
              "    border-radius: 50%;\n",
              "    cursor: pointer;\n",
              "    display: none;\n",
              "    fill: var(--fill-color);\n",
              "    height: 32px;\n",
              "    padding: 0;\n",
              "    width: 32px;\n",
              "  }\n",
              "\n",
              "  .colab-df-quickchart:hover {\n",
              "    background-color: var(--hover-bg-color);\n",
              "    box-shadow: 0 1px 2px rgba(60, 64, 67, 0.3), 0 1px 3px 1px rgba(60, 64, 67, 0.15);\n",
              "    fill: var(--button-hover-fill-color);\n",
              "  }\n",
              "\n",
              "  .colab-df-quickchart-complete:disabled,\n",
              "  .colab-df-quickchart-complete:disabled:hover {\n",
              "    background-color: var(--disabled-bg-color);\n",
              "    fill: var(--disabled-fill-color);\n",
              "    box-shadow: none;\n",
              "  }\n",
              "\n",
              "  .colab-df-spinner {\n",
              "    border: 2px solid var(--fill-color);\n",
              "    border-color: transparent;\n",
              "    border-bottom-color: var(--fill-color);\n",
              "    animation:\n",
              "      spin 1s steps(1) infinite;\n",
              "  }\n",
              "\n",
              "  @keyframes spin {\n",
              "    0% {\n",
              "      border-color: transparent;\n",
              "      border-bottom-color: var(--fill-color);\n",
              "      border-left-color: var(--fill-color);\n",
              "    }\n",
              "    20% {\n",
              "      border-color: transparent;\n",
              "      border-left-color: var(--fill-color);\n",
              "      border-top-color: var(--fill-color);\n",
              "    }\n",
              "    30% {\n",
              "      border-color: transparent;\n",
              "      border-left-color: var(--fill-color);\n",
              "      border-top-color: var(--fill-color);\n",
              "      border-right-color: var(--fill-color);\n",
              "    }\n",
              "    40% {\n",
              "      border-color: transparent;\n",
              "      border-right-color: var(--fill-color);\n",
              "      border-top-color: var(--fill-color);\n",
              "    }\n",
              "    60% {\n",
              "      border-color: transparent;\n",
              "      border-right-color: var(--fill-color);\n",
              "    }\n",
              "    80% {\n",
              "      border-color: transparent;\n",
              "      border-right-color: var(--fill-color);\n",
              "      border-bottom-color: var(--fill-color);\n",
              "    }\n",
              "    90% {\n",
              "      border-color: transparent;\n",
              "      border-bottom-color: var(--fill-color);\n",
              "    }\n",
              "  }\n",
              "</style>\n",
              "\n",
              "      <script>\n",
              "        async function quickchart(key) {\n",
              "          const quickchartButtonEl =\n",
              "            document.querySelector('#' + key + ' button');\n",
              "          quickchartButtonEl.disabled = true;  // To prevent multiple clicks.\n",
              "          quickchartButtonEl.classList.add('colab-df-spinner');\n",
              "          try {\n",
              "            const charts = await google.colab.kernel.invokeFunction(\n",
              "                'suggestCharts', [key], {});\n",
              "          } catch (error) {\n",
              "            console.error('Error during call to suggestCharts:', error);\n",
              "          }\n",
              "          quickchartButtonEl.classList.remove('colab-df-spinner');\n",
              "          quickchartButtonEl.classList.add('colab-df-quickchart-complete');\n",
              "        }\n",
              "        (() => {\n",
              "          let quickchartButtonEl =\n",
              "            document.querySelector('#df-37dcba27-6f4f-4ba8-b717-883b95e9e204 button');\n",
              "          quickchartButtonEl.style.display =\n",
              "            google.colab.kernel.accessAllowed ? 'block' : 'none';\n",
              "        })();\n",
              "      </script>\n",
              "    </div>\n",
              "\n",
              "    </div>\n",
              "  </div>\n"
            ],
            "application/vnd.google.colaboratory.intrinsic+json": {
              "type": "dataframe",
              "variable_name": "happy_df",
              "summary": "{\n  \"name\": \"happy_df\",\n  \"rows\": 163,\n  \"fields\": [\n    {\n      \"column\": \"Country\",\n      \"properties\": {\n        \"dtype\": \"string\",\n        \"num_unique_values\": 158,\n        \"samples\": [\n          \"Myanmar\",\n          \"Japan\",\n          \"Egypt\"\n        ],\n        \"semantic_type\": \"\",\n        \"description\": \"\"\n      }\n    },\n    {\n      \"column\": \"region\",\n      \"properties\": {\n        \"dtype\": \"category\",\n        \"num_unique_values\": 10,\n        \"samples\": [\n          \"Sub-Saharan Africa\",\n          \"North America\",\n          \"Southeastern Asia\"\n        ],\n        \"semantic_type\": \"\",\n        \"description\": \"\"\n      }\n    },\n    {\n      \"column\": \"Happiness Score\",\n      \"properties\": {\n        \"dtype\": \"number\",\n        \"std\": 1.154048675826735,\n        \"min\": 2.839,\n        \"max\": 7.587,\n        \"num_unique_values\": 156,\n        \"samples\": [\n          4.876,\n          5.477,\n          5.129\n        ],\n        \"semantic_type\": \"\",\n        \"description\": \"\"\n      }\n    },\n    {\n      \"column\": \"GDP\",\n      \"properties\": {\n        \"dtype\": \"number\",\n        \"std\": 0.41212756756086344,\n        \"min\": 0.0,\n        \"max\": 1.69042,\n        \"num_unique_values\": 158,\n        \"samples\": [\n          0.27108,\n          1.27074,\n          0.8818\n        ],\n        \"semantic_type\": \"\",\n        \"description\": \"\"\n      }\n    },\n    {\n      \"column\": \"Social_support\",\n      \"properties\": {\n        \"dtype\": \"number\",\n        \"std\": 0.27151046922024547,\n        \"min\": 0.0,\n        \"max\": 1.40223,\n        \"num_unique_values\": 158,\n        \"samples\": [\n          0.70905,\n          1.25712,\n          0.747\n        ],\n        \"semantic_type\": \"\",\n        \"description\": \"\"\n      }\n    },\n    {\n      \"column\": \"Healthy Life_Expectancy\",\n      \"properties\": {\n        \"dtype\": \"number\",\n        \"std\": 0.2536970632923328,\n        \"min\": 0.0,\n        \"max\": 1.02525,\n        \"num_unique_values\": 156,\n        \"samples\": [\n          0.54909,\n          1.01328,\n          0.29924\n        ],\n        \"semantic_type\": \"\",\n        \"description\": \"\"\n      }\n    },\n    {\n      \"column\": \"Freedom\",\n      \"properties\": {\n        \"dtype\": \"number\",\n        \"std\": 0.15246848923010878,\n        \"min\": 0.0,\n        \"max\": 0.66973,\n        \"num_unique_values\": 158,\n        \"samples\": [\n          0.44017,\n          0.49615,\n          0.17288\n        ],\n        \"semantic_type\": \"\",\n        \"description\": \"\"\n      }\n    },\n    {\n      \"column\": \"corruptionperception\",\n      \"properties\": {\n        \"dtype\": \"number\",\n        \"std\": 0.12289106136780918,\n        \"min\": 0.0,\n        \"max\": 0.55191,\n        \"num_unique_values\": 157,\n        \"samples\": [\n          0.12474,\n          0.07857,\n          0.06324\n        ],\n        \"semantic_type\": \"\",\n        \"description\": \"\"\n      }\n    },\n    {\n      \"column\": \"Generosity\",\n      \"properties\": {\n        \"dtype\": \"number\",\n        \"std\": 0.12665846183797475,\n        \"min\": 0.0,\n        \"max\": 0.79588,\n        \"num_unique_values\": 158,\n        \"samples\": [\n          0.79588,\n          0.10705,\n          0.11291\n        ],\n        \"semantic_type\": \"\",\n        \"description\": \"\"\n      }\n    }\n  ]\n}"
            }
          },
          "metadata": {},
          "execution_count": 6
        }
      ]
    },
    {
      "cell_type": "markdown",
      "source": [
        "### **Problem #1.2**\n",
        "\n",
        "This data currently has no consistent naming convention for columns, which is very bad practice. So, rename each column to be of the style, `'Column Name'`, where each word is separated by a space (not an underscore, slash, or anything else) and starts uppercase. Furthermore, make sure all words are spelled correctly.\n",
        "\n",
        "<br>\n",
        "\n",
        "**Hint**: It may make you life easier to quickly print the current column names here using the `.columns` attribute."
      ],
      "metadata": {
        "id": "SN4uAbT-0GLi"
      }
    },
    {
      "cell_type": "code",
      "source": [
        "happy_df.columns = [\n",
        "    'Country',\n",
        "    'Region',\n",
        "    'Happiness Score',\n",
        "    'GDP',\n",
        "    'Social Support',\n",
        "    'Healthy Life Expectancy',\n",
        "    'Freedom',\n",
        "    'Corruption Perception',\n",
        "    'Generosity'\n",
        "]"
      ],
      "metadata": {
        "id": "T1dokwjC0GLj"
      },
      "execution_count": 8,
      "outputs": []
    },
    {
      "cell_type": "markdown",
      "source": [
        "### **Problem #1.3**\n",
        "\n",
        "Drop any duplicate rows."
      ],
      "metadata": {
        "id": "f5ZW7Yo_ypkD"
      }
    },
    {
      "cell_type": "code",
      "source": [
        "happy_df.drop_duplicates(inplace = True)"
      ],
      "metadata": {
        "id": "t3srgtUjypkE"
      },
      "execution_count": 32,
      "outputs": []
    },
    {
      "cell_type": "markdown",
      "source": [
        "### **Problem #1.4**\n",
        "\n",
        "Determine the datatypes of each feature. Determine the number of non-null values in each column."
      ],
      "metadata": {
        "id": "9k5LjqCxwpHa"
      }
    },
    {
      "cell_type": "code",
      "source": [
        "happy_df.info()"
      ],
      "metadata": {
        "id": "D9tg8YBiwpHb",
        "outputId": "f77c4efa-2c56-403e-f5d7-adff41c059b7",
        "colab": {
          "base_uri": "https://localhost:8080/"
        }
      },
      "execution_count": 33,
      "outputs": [
        {
          "output_type": "stream",
          "name": "stdout",
          "text": [
            "<class 'pandas.core.frame.DataFrame'>\n",
            "Index: 156 entries, 0 to 161\n",
            "Data columns (total 10 columns):\n",
            " #   Column                   Non-Null Count  Dtype  \n",
            "---  ------                   --------------  -----  \n",
            " 0   Country                  156 non-null    object \n",
            " 1   Region                   156 non-null    object \n",
            " 2   Happiness Score          156 non-null    float64\n",
            " 3   GDP                      156 non-null    float64\n",
            " 4   Social Support           156 non-null    float64\n",
            " 5   Healthy Life Expectancy  156 non-null    float64\n",
            " 6   Freedom                  156 non-null    float64\n",
            " 7   Corruption Perception    156 non-null    float64\n",
            " 8   Generosity               156 non-null    float64\n",
            " 9   Region Encoded           156 non-null    int64  \n",
            "dtypes: float64(7), int64(1), object(2)\n",
            "memory usage: 13.4+ KB\n"
          ]
        }
      ]
    },
    {
      "cell_type": "markdown",
      "source": [
        "### **Problem #1.5**\n",
        "\n",
        "You should have seen from Problem #1.4 that there are 3 columns with null values. We need to either impute by filling with the average or drop the rows with null values.\n",
        "\n",
        "\n",
        "Let's deal with these columns by type, specifically:\n",
        "1. Impute or drop the numerical null values.\n",
        "2. Impute or drop the object (string) null values."
      ],
      "metadata": {
        "id": "eIcT3HdYy0Tz"
      }
    },
    {
      "cell_type": "markdown",
      "source": [
        "#### **1. Impute or drop the numerical null values.**\n",
        "\n",
        "Complete the code below to *drop* the numerical null values. There's an argument for dropping or imputing, but dropping is a safer choice that does not rely on making any assumptions about these variables."
      ],
      "metadata": {
        "id": "kZJ25BOCTusV"
      }
    },
    {
      "cell_type": "code",
      "source": [
        "happy_df = happy_df.dropna(axis = 0, how='any', subset = [\"Happiness Score\", \"Healthy Life Expectancy\"])"
      ],
      "metadata": {
        "id": "X463Ho8By0Tz"
      },
      "execution_count": 34,
      "outputs": []
    },
    {
      "cell_type": "markdown",
      "source": [
        "#### **2. Impute or drop the object (string) null values.**\n",
        "\n",
        "Complete the code below to *impute* the object (string) null value(s). This is something we can look up, so it's completely reasonable to fill in the missing values manually and not have to sacrifice more data points.\n",
        "\n",
        "<br>\n",
        "\n",
        "**NOTE**: You will likely need to use the following three commands to accomplish this:\n",
        "\n",
        "1. `happy_df[happy_df['column name'].isnull()]`: Print the specific data point(s) with a null value for `'column name'`.\n",
        "2. `happy_df['column name'].unique()`: Print the possible values that we could use to fill in the null value found above.\n",
        "3. `happy_df.loc[happy_df['column name'].isnull(), 'column name'] = 'non-null value'`: Fill in the null value with a new value. This should be the best option from the list of unique values found above."
      ],
      "metadata": {
        "id": "o43u1mzRUYH0"
      }
    },
    {
      "cell_type": "code",
      "source": [
        "happy_df[happy_df['Region'].isnull()]"
      ],
      "metadata": {
        "id": "5qKWwPnPUv9u",
        "outputId": "4998068d-d91e-4f45-e433-b9a984be316d",
        "colab": {
          "base_uri": "https://localhost:8080/",
          "height": 53
        }
      },
      "execution_count": 35,
      "outputs": [
        {
          "output_type": "execute_result",
          "data": {
            "text/plain": [
              "Empty DataFrame\n",
              "Columns: [Country, Region, Happiness Score, GDP, Social Support, Healthy Life Expectancy, Freedom, Corruption Perception, Generosity, Region Encoded]\n",
              "Index: []"
            ],
            "text/html": [
              "\n",
              "  <div id=\"df-8f1057ff-6023-42e9-8f52-0cba3eed8c0b\" class=\"colab-df-container\">\n",
              "    <div>\n",
              "<style scoped>\n",
              "    .dataframe tbody tr th:only-of-type {\n",
              "        vertical-align: middle;\n",
              "    }\n",
              "\n",
              "    .dataframe tbody tr th {\n",
              "        vertical-align: top;\n",
              "    }\n",
              "\n",
              "    .dataframe thead th {\n",
              "        text-align: right;\n",
              "    }\n",
              "</style>\n",
              "<table border=\"1\" class=\"dataframe\">\n",
              "  <thead>\n",
              "    <tr style=\"text-align: right;\">\n",
              "      <th></th>\n",
              "      <th>Country</th>\n",
              "      <th>Region</th>\n",
              "      <th>Happiness Score</th>\n",
              "      <th>GDP</th>\n",
              "      <th>Social Support</th>\n",
              "      <th>Healthy Life Expectancy</th>\n",
              "      <th>Freedom</th>\n",
              "      <th>Corruption Perception</th>\n",
              "      <th>Generosity</th>\n",
              "      <th>Region Encoded</th>\n",
              "    </tr>\n",
              "  </thead>\n",
              "  <tbody>\n",
              "  </tbody>\n",
              "</table>\n",
              "</div>\n",
              "    <div class=\"colab-df-buttons\">\n",
              "\n",
              "  <div class=\"colab-df-container\">\n",
              "    <button class=\"colab-df-convert\" onclick=\"convertToInteractive('df-8f1057ff-6023-42e9-8f52-0cba3eed8c0b')\"\n",
              "            title=\"Convert this dataframe to an interactive table.\"\n",
              "            style=\"display:none;\">\n",
              "\n",
              "  <svg xmlns=\"http://www.w3.org/2000/svg\" height=\"24px\" viewBox=\"0 -960 960 960\">\n",
              "    <path d=\"M120-120v-720h720v720H120Zm60-500h600v-160H180v160Zm220 220h160v-160H400v160Zm0 220h160v-160H400v160ZM180-400h160v-160H180v160Zm440 0h160v-160H620v160ZM180-180h160v-160H180v160Zm440 0h160v-160H620v160Z\"/>\n",
              "  </svg>\n",
              "    </button>\n",
              "\n",
              "  <style>\n",
              "    .colab-df-container {\n",
              "      display:flex;\n",
              "      gap: 12px;\n",
              "    }\n",
              "\n",
              "    .colab-df-convert {\n",
              "      background-color: #E8F0FE;\n",
              "      border: none;\n",
              "      border-radius: 50%;\n",
              "      cursor: pointer;\n",
              "      display: none;\n",
              "      fill: #1967D2;\n",
              "      height: 32px;\n",
              "      padding: 0 0 0 0;\n",
              "      width: 32px;\n",
              "    }\n",
              "\n",
              "    .colab-df-convert:hover {\n",
              "      background-color: #E2EBFA;\n",
              "      box-shadow: 0px 1px 2px rgba(60, 64, 67, 0.3), 0px 1px 3px 1px rgba(60, 64, 67, 0.15);\n",
              "      fill: #174EA6;\n",
              "    }\n",
              "\n",
              "    .colab-df-buttons div {\n",
              "      margin-bottom: 4px;\n",
              "    }\n",
              "\n",
              "    [theme=dark] .colab-df-convert {\n",
              "      background-color: #3B4455;\n",
              "      fill: #D2E3FC;\n",
              "    }\n",
              "\n",
              "    [theme=dark] .colab-df-convert:hover {\n",
              "      background-color: #434B5C;\n",
              "      box-shadow: 0px 1px 3px 1px rgba(0, 0, 0, 0.15);\n",
              "      filter: drop-shadow(0px 1px 2px rgba(0, 0, 0, 0.3));\n",
              "      fill: #FFFFFF;\n",
              "    }\n",
              "  </style>\n",
              "\n",
              "    <script>\n",
              "      const buttonEl =\n",
              "        document.querySelector('#df-8f1057ff-6023-42e9-8f52-0cba3eed8c0b button.colab-df-convert');\n",
              "      buttonEl.style.display =\n",
              "        google.colab.kernel.accessAllowed ? 'block' : 'none';\n",
              "\n",
              "      async function convertToInteractive(key) {\n",
              "        const element = document.querySelector('#df-8f1057ff-6023-42e9-8f52-0cba3eed8c0b');\n",
              "        const dataTable =\n",
              "          await google.colab.kernel.invokeFunction('convertToInteractive',\n",
              "                                                    [key], {});\n",
              "        if (!dataTable) return;\n",
              "\n",
              "        const docLinkHtml = 'Like what you see? Visit the ' +\n",
              "          '<a target=\"_blank\" href=https://colab.research.google.com/notebooks/data_table.ipynb>data table notebook</a>'\n",
              "          + ' to learn more about interactive tables.';\n",
              "        element.innerHTML = '';\n",
              "        dataTable['output_type'] = 'display_data';\n",
              "        await google.colab.output.renderOutput(dataTable, element);\n",
              "        const docLink = document.createElement('div');\n",
              "        docLink.innerHTML = docLinkHtml;\n",
              "        element.appendChild(docLink);\n",
              "      }\n",
              "    </script>\n",
              "  </div>\n",
              "\n",
              "\n",
              "    </div>\n",
              "  </div>\n"
            ],
            "application/vnd.google.colaboratory.intrinsic+json": {
              "type": "dataframe",
              "repr_error": "Out of range float values are not JSON compliant: nan"
            }
          },
          "metadata": {},
          "execution_count": 35
        }
      ]
    },
    {
      "cell_type": "code",
      "source": [
        "happy_df['Region'].unique()"
      ],
      "metadata": {
        "id": "WduNjaE2V-dS",
        "outputId": "bfec807d-0c0a-4c40-e650-faae3f10e45a",
        "colab": {
          "base_uri": "https://localhost:8080/"
        }
      },
      "execution_count": 36,
      "outputs": [
        {
          "output_type": "execute_result",
          "data": {
            "text/plain": [
              "array(['Western Europe', 'North America', 'Australia and New Zealand',\n",
              "       'Middle East and Northern Africa', 'Latin America and Caribbean',\n",
              "       'Southeastern Asia', 'Central and Eastern Europe', 'Eastern Asia',\n",
              "       'Sub-Saharan Africa', 'Southern Asia'], dtype=object)"
            ]
          },
          "metadata": {},
          "execution_count": 36
        }
      ]
    },
    {
      "cell_type": "code",
      "source": [
        "happy_df.loc[happy_df['Region'].isnull(), 'Region'] = 'Middle East and Northern Africa'"
      ],
      "metadata": {
        "id": "ri19lCOQWBId"
      },
      "execution_count": 37,
      "outputs": []
    },
    {
      "cell_type": "markdown",
      "source": [
        "### **Problem #1.6**\n",
        "\n",
        "Now that the data should be clean, take some time to understand the variables in this dataset, by looking at the [official statistical appendix/codebook here](https://files.worldhappiness.report/WHR15_Statistical_Appendix.pdf) and answering the multiple choice questions below.\n",
        "\n",
        "You will only need to refer to the first 2.5 pages of information, until they start mentioning the \"expanded data set\". You do not need to read anything after this.\n",
        "\n",
        "<br>\n",
        "\n",
        "**1. Which of the following best describes the `Happiness Score`?**\n",
        "\n",
        ">**a.** We can also call this measure the \"life ladder”.\n",
        "\n",
        ">**b.** We can also call this measure the “objective well-being”.\n",
        "\n",
        ">**c.** This is a measure of how many ladders people own in a country on average. The more ladders, the happier the people.\n",
        "\n",
        ">**d.** Respondents were asked how happy they were on a scale of 1 - 10.\n",
        "\n",
        "<br>\n",
        "\n",
        "**2. How is `Social Support` measured?**\n",
        "\n",
        ">**a.** This represents the average of responses on a scale of 1 - 10.\n",
        "\n",
        ">**b.** This is measured differently for each country.\n",
        "\n",
        ">**c**. Respondents were asked, “If you were in trouble, would you have support?”\n",
        "\n",
        ">**d.** Respondents were asked, “If you were in trouble, do you have relatives or friends you can count on to help you whenever you need them, or not?”\n",
        "\n",
        "<br>\n",
        "\n",
        "**3. How is `Freedom` measured?**\n",
        "\n",
        ">**a.** This represents the average of responses on a scale of 1 - 10.\n",
        "\n",
        ">**b.** This is measured differently for each country.\n",
        "\n",
        ">**c**. Respondents were asked, “Are you satisfied or dissatisfied with your freedom to choose what you do with your life?”\n",
        "\n",
        ">**d.** Respondents were asked, “How free are you?”"
      ],
      "metadata": {
        "id": "0sOSncGP8fNU"
      }
    },
    {
      "cell_type": "code",
      "source": [
        "# A"
      ],
      "metadata": {
        "id": "P-KFjeVWXhgl"
      },
      "execution_count": null,
      "outputs": []
    },
    {
      "cell_type": "code",
      "source": [
        "# D"
      ],
      "metadata": {
        "id": "YHP1QIDaXjpU"
      },
      "execution_count": null,
      "outputs": []
    },
    {
      "cell_type": "code",
      "source": [
        "# C"
      ],
      "metadata": {
        "id": "vaOGD6ifXk8M"
      },
      "execution_count": null,
      "outputs": []
    },
    {
      "cell_type": "markdown",
      "source": [
        "### **Problem #1.7**\n",
        "\n",
        "Determine the average (mean) and standard deviation (std) of the numerical variables."
      ],
      "metadata": {
        "id": "1pSRy496-WVf"
      }
    },
    {
      "cell_type": "code",
      "source": [
        "happy_df.describe()"
      ],
      "metadata": {
        "id": "X-GpnCl0tkcO",
        "outputId": "c55bd187-1210-4a5c-bdad-2b8d736c1890",
        "colab": {
          "base_uri": "https://localhost:8080/",
          "height": 300
        }
      },
      "execution_count": 38,
      "outputs": [
        {
          "output_type": "execute_result",
          "data": {
            "text/plain": [
              "       Happiness Score         GDP  Social Support  Healthy Life Expectancy  \\\n",
              "count       156.000000  156.000000      156.000000               156.000000   \n",
              "mean          5.360750    0.844602        0.988929                 0.628669   \n",
              "std           1.142177    0.403282        0.273001                 0.247780   \n",
              "min           2.839000    0.000000        0.000000                 0.000000   \n",
              "25%           4.517750    0.539453        0.854692                 0.437897   \n",
              "50%           5.203000    0.910245        1.029510                 0.696705   \n",
              "75%           6.193250    1.155523        1.210735                 0.809837   \n",
              "max           7.587000    1.690420        1.402230                 1.025250   \n",
              "\n",
              "          Freedom  Corruption Perception  Generosity  Region Encoded  \n",
              "count  156.000000             156.000000  156.000000      156.000000  \n",
              "mean     0.428004               0.143960    0.236874        5.076923  \n",
              "std      0.150628               0.120321    0.127258        2.753387  \n",
              "min      0.000000               0.000000    0.000000        0.000000  \n",
              "25%      0.326865               0.062105    0.148800        3.000000  \n",
              "50%      0.435515               0.107220    0.216130        6.000000  \n",
              "75%      0.547057               0.179565    0.307547        8.000000  \n",
              "max      0.669730               0.551910    0.795880        9.000000  "
            ],
            "text/html": [
              "\n",
              "  <div id=\"df-4b0cd6fa-d3d2-446e-9f38-a482b752fa82\" class=\"colab-df-container\">\n",
              "    <div>\n",
              "<style scoped>\n",
              "    .dataframe tbody tr th:only-of-type {\n",
              "        vertical-align: middle;\n",
              "    }\n",
              "\n",
              "    .dataframe tbody tr th {\n",
              "        vertical-align: top;\n",
              "    }\n",
              "\n",
              "    .dataframe thead th {\n",
              "        text-align: right;\n",
              "    }\n",
              "</style>\n",
              "<table border=\"1\" class=\"dataframe\">\n",
              "  <thead>\n",
              "    <tr style=\"text-align: right;\">\n",
              "      <th></th>\n",
              "      <th>Happiness Score</th>\n",
              "      <th>GDP</th>\n",
              "      <th>Social Support</th>\n",
              "      <th>Healthy Life Expectancy</th>\n",
              "      <th>Freedom</th>\n",
              "      <th>Corruption Perception</th>\n",
              "      <th>Generosity</th>\n",
              "      <th>Region Encoded</th>\n",
              "    </tr>\n",
              "  </thead>\n",
              "  <tbody>\n",
              "    <tr>\n",
              "      <th>count</th>\n",
              "      <td>156.000000</td>\n",
              "      <td>156.000000</td>\n",
              "      <td>156.000000</td>\n",
              "      <td>156.000000</td>\n",
              "      <td>156.000000</td>\n",
              "      <td>156.000000</td>\n",
              "      <td>156.000000</td>\n",
              "      <td>156.000000</td>\n",
              "    </tr>\n",
              "    <tr>\n",
              "      <th>mean</th>\n",
              "      <td>5.360750</td>\n",
              "      <td>0.844602</td>\n",
              "      <td>0.988929</td>\n",
              "      <td>0.628669</td>\n",
              "      <td>0.428004</td>\n",
              "      <td>0.143960</td>\n",
              "      <td>0.236874</td>\n",
              "      <td>5.076923</td>\n",
              "    </tr>\n",
              "    <tr>\n",
              "      <th>std</th>\n",
              "      <td>1.142177</td>\n",
              "      <td>0.403282</td>\n",
              "      <td>0.273001</td>\n",
              "      <td>0.247780</td>\n",
              "      <td>0.150628</td>\n",
              "      <td>0.120321</td>\n",
              "      <td>0.127258</td>\n",
              "      <td>2.753387</td>\n",
              "    </tr>\n",
              "    <tr>\n",
              "      <th>min</th>\n",
              "      <td>2.839000</td>\n",
              "      <td>0.000000</td>\n",
              "      <td>0.000000</td>\n",
              "      <td>0.000000</td>\n",
              "      <td>0.000000</td>\n",
              "      <td>0.000000</td>\n",
              "      <td>0.000000</td>\n",
              "      <td>0.000000</td>\n",
              "    </tr>\n",
              "    <tr>\n",
              "      <th>25%</th>\n",
              "      <td>4.517750</td>\n",
              "      <td>0.539453</td>\n",
              "      <td>0.854692</td>\n",
              "      <td>0.437897</td>\n",
              "      <td>0.326865</td>\n",
              "      <td>0.062105</td>\n",
              "      <td>0.148800</td>\n",
              "      <td>3.000000</td>\n",
              "    </tr>\n",
              "    <tr>\n",
              "      <th>50%</th>\n",
              "      <td>5.203000</td>\n",
              "      <td>0.910245</td>\n",
              "      <td>1.029510</td>\n",
              "      <td>0.696705</td>\n",
              "      <td>0.435515</td>\n",
              "      <td>0.107220</td>\n",
              "      <td>0.216130</td>\n",
              "      <td>6.000000</td>\n",
              "    </tr>\n",
              "    <tr>\n",
              "      <th>75%</th>\n",
              "      <td>6.193250</td>\n",
              "      <td>1.155523</td>\n",
              "      <td>1.210735</td>\n",
              "      <td>0.809837</td>\n",
              "      <td>0.547057</td>\n",
              "      <td>0.179565</td>\n",
              "      <td>0.307547</td>\n",
              "      <td>8.000000</td>\n",
              "    </tr>\n",
              "    <tr>\n",
              "      <th>max</th>\n",
              "      <td>7.587000</td>\n",
              "      <td>1.690420</td>\n",
              "      <td>1.402230</td>\n",
              "      <td>1.025250</td>\n",
              "      <td>0.669730</td>\n",
              "      <td>0.551910</td>\n",
              "      <td>0.795880</td>\n",
              "      <td>9.000000</td>\n",
              "    </tr>\n",
              "  </tbody>\n",
              "</table>\n",
              "</div>\n",
              "    <div class=\"colab-df-buttons\">\n",
              "\n",
              "  <div class=\"colab-df-container\">\n",
              "    <button class=\"colab-df-convert\" onclick=\"convertToInteractive('df-4b0cd6fa-d3d2-446e-9f38-a482b752fa82')\"\n",
              "            title=\"Convert this dataframe to an interactive table.\"\n",
              "            style=\"display:none;\">\n",
              "\n",
              "  <svg xmlns=\"http://www.w3.org/2000/svg\" height=\"24px\" viewBox=\"0 -960 960 960\">\n",
              "    <path d=\"M120-120v-720h720v720H120Zm60-500h600v-160H180v160Zm220 220h160v-160H400v160Zm0 220h160v-160H400v160ZM180-400h160v-160H180v160Zm440 0h160v-160H620v160ZM180-180h160v-160H180v160Zm440 0h160v-160H620v160Z\"/>\n",
              "  </svg>\n",
              "    </button>\n",
              "\n",
              "  <style>\n",
              "    .colab-df-container {\n",
              "      display:flex;\n",
              "      gap: 12px;\n",
              "    }\n",
              "\n",
              "    .colab-df-convert {\n",
              "      background-color: #E8F0FE;\n",
              "      border: none;\n",
              "      border-radius: 50%;\n",
              "      cursor: pointer;\n",
              "      display: none;\n",
              "      fill: #1967D2;\n",
              "      height: 32px;\n",
              "      padding: 0 0 0 0;\n",
              "      width: 32px;\n",
              "    }\n",
              "\n",
              "    .colab-df-convert:hover {\n",
              "      background-color: #E2EBFA;\n",
              "      box-shadow: 0px 1px 2px rgba(60, 64, 67, 0.3), 0px 1px 3px 1px rgba(60, 64, 67, 0.15);\n",
              "      fill: #174EA6;\n",
              "    }\n",
              "\n",
              "    .colab-df-buttons div {\n",
              "      margin-bottom: 4px;\n",
              "    }\n",
              "\n",
              "    [theme=dark] .colab-df-convert {\n",
              "      background-color: #3B4455;\n",
              "      fill: #D2E3FC;\n",
              "    }\n",
              "\n",
              "    [theme=dark] .colab-df-convert:hover {\n",
              "      background-color: #434B5C;\n",
              "      box-shadow: 0px 1px 3px 1px rgba(0, 0, 0, 0.15);\n",
              "      filter: drop-shadow(0px 1px 2px rgba(0, 0, 0, 0.3));\n",
              "      fill: #FFFFFF;\n",
              "    }\n",
              "  </style>\n",
              "\n",
              "    <script>\n",
              "      const buttonEl =\n",
              "        document.querySelector('#df-4b0cd6fa-d3d2-446e-9f38-a482b752fa82 button.colab-df-convert');\n",
              "      buttonEl.style.display =\n",
              "        google.colab.kernel.accessAllowed ? 'block' : 'none';\n",
              "\n",
              "      async function convertToInteractive(key) {\n",
              "        const element = document.querySelector('#df-4b0cd6fa-d3d2-446e-9f38-a482b752fa82');\n",
              "        const dataTable =\n",
              "          await google.colab.kernel.invokeFunction('convertToInteractive',\n",
              "                                                    [key], {});\n",
              "        if (!dataTable) return;\n",
              "\n",
              "        const docLinkHtml = 'Like what you see? Visit the ' +\n",
              "          '<a target=\"_blank\" href=https://colab.research.google.com/notebooks/data_table.ipynb>data table notebook</a>'\n",
              "          + ' to learn more about interactive tables.';\n",
              "        element.innerHTML = '';\n",
              "        dataTable['output_type'] = 'display_data';\n",
              "        await google.colab.output.renderOutput(dataTable, element);\n",
              "        const docLink = document.createElement('div');\n",
              "        docLink.innerHTML = docLinkHtml;\n",
              "        element.appendChild(docLink);\n",
              "      }\n",
              "    </script>\n",
              "  </div>\n",
              "\n",
              "\n",
              "    <div id=\"df-4cccbda9-03e8-4485-9437-5e8850651fb7\">\n",
              "      <button class=\"colab-df-quickchart\" onclick=\"quickchart('df-4cccbda9-03e8-4485-9437-5e8850651fb7')\"\n",
              "                title=\"Suggest charts\"\n",
              "                style=\"display:none;\">\n",
              "\n",
              "<svg xmlns=\"http://www.w3.org/2000/svg\" height=\"24px\"viewBox=\"0 0 24 24\"\n",
              "     width=\"24px\">\n",
              "    <g>\n",
              "        <path d=\"M19 3H5c-1.1 0-2 .9-2 2v14c0 1.1.9 2 2 2h14c1.1 0 2-.9 2-2V5c0-1.1-.9-2-2-2zM9 17H7v-7h2v7zm4 0h-2V7h2v10zm4 0h-2v-4h2v4z\"/>\n",
              "    </g>\n",
              "</svg>\n",
              "      </button>\n",
              "\n",
              "<style>\n",
              "  .colab-df-quickchart {\n",
              "      --bg-color: #E8F0FE;\n",
              "      --fill-color: #1967D2;\n",
              "      --hover-bg-color: #E2EBFA;\n",
              "      --hover-fill-color: #174EA6;\n",
              "      --disabled-fill-color: #AAA;\n",
              "      --disabled-bg-color: #DDD;\n",
              "  }\n",
              "\n",
              "  [theme=dark] .colab-df-quickchart {\n",
              "      --bg-color: #3B4455;\n",
              "      --fill-color: #D2E3FC;\n",
              "      --hover-bg-color: #434B5C;\n",
              "      --hover-fill-color: #FFFFFF;\n",
              "      --disabled-bg-color: #3B4455;\n",
              "      --disabled-fill-color: #666;\n",
              "  }\n",
              "\n",
              "  .colab-df-quickchart {\n",
              "    background-color: var(--bg-color);\n",
              "    border: none;\n",
              "    border-radius: 50%;\n",
              "    cursor: pointer;\n",
              "    display: none;\n",
              "    fill: var(--fill-color);\n",
              "    height: 32px;\n",
              "    padding: 0;\n",
              "    width: 32px;\n",
              "  }\n",
              "\n",
              "  .colab-df-quickchart:hover {\n",
              "    background-color: var(--hover-bg-color);\n",
              "    box-shadow: 0 1px 2px rgba(60, 64, 67, 0.3), 0 1px 3px 1px rgba(60, 64, 67, 0.15);\n",
              "    fill: var(--button-hover-fill-color);\n",
              "  }\n",
              "\n",
              "  .colab-df-quickchart-complete:disabled,\n",
              "  .colab-df-quickchart-complete:disabled:hover {\n",
              "    background-color: var(--disabled-bg-color);\n",
              "    fill: var(--disabled-fill-color);\n",
              "    box-shadow: none;\n",
              "  }\n",
              "\n",
              "  .colab-df-spinner {\n",
              "    border: 2px solid var(--fill-color);\n",
              "    border-color: transparent;\n",
              "    border-bottom-color: var(--fill-color);\n",
              "    animation:\n",
              "      spin 1s steps(1) infinite;\n",
              "  }\n",
              "\n",
              "  @keyframes spin {\n",
              "    0% {\n",
              "      border-color: transparent;\n",
              "      border-bottom-color: var(--fill-color);\n",
              "      border-left-color: var(--fill-color);\n",
              "    }\n",
              "    20% {\n",
              "      border-color: transparent;\n",
              "      border-left-color: var(--fill-color);\n",
              "      border-top-color: var(--fill-color);\n",
              "    }\n",
              "    30% {\n",
              "      border-color: transparent;\n",
              "      border-left-color: var(--fill-color);\n",
              "      border-top-color: var(--fill-color);\n",
              "      border-right-color: var(--fill-color);\n",
              "    }\n",
              "    40% {\n",
              "      border-color: transparent;\n",
              "      border-right-color: var(--fill-color);\n",
              "      border-top-color: var(--fill-color);\n",
              "    }\n",
              "    60% {\n",
              "      border-color: transparent;\n",
              "      border-right-color: var(--fill-color);\n",
              "    }\n",
              "    80% {\n",
              "      border-color: transparent;\n",
              "      border-right-color: var(--fill-color);\n",
              "      border-bottom-color: var(--fill-color);\n",
              "    }\n",
              "    90% {\n",
              "      border-color: transparent;\n",
              "      border-bottom-color: var(--fill-color);\n",
              "    }\n",
              "  }\n",
              "</style>\n",
              "\n",
              "      <script>\n",
              "        async function quickchart(key) {\n",
              "          const quickchartButtonEl =\n",
              "            document.querySelector('#' + key + ' button');\n",
              "          quickchartButtonEl.disabled = true;  // To prevent multiple clicks.\n",
              "          quickchartButtonEl.classList.add('colab-df-spinner');\n",
              "          try {\n",
              "            const charts = await google.colab.kernel.invokeFunction(\n",
              "                'suggestCharts', [key], {});\n",
              "          } catch (error) {\n",
              "            console.error('Error during call to suggestCharts:', error);\n",
              "          }\n",
              "          quickchartButtonEl.classList.remove('colab-df-spinner');\n",
              "          quickchartButtonEl.classList.add('colab-df-quickchart-complete');\n",
              "        }\n",
              "        (() => {\n",
              "          let quickchartButtonEl =\n",
              "            document.querySelector('#df-4cccbda9-03e8-4485-9437-5e8850651fb7 button');\n",
              "          quickchartButtonEl.style.display =\n",
              "            google.colab.kernel.accessAllowed ? 'block' : 'none';\n",
              "        })();\n",
              "      </script>\n",
              "    </div>\n",
              "\n",
              "    </div>\n",
              "  </div>\n"
            ],
            "application/vnd.google.colaboratory.intrinsic+json": {
              "type": "dataframe",
              "summary": "{\n  \"name\": \"happy_df\",\n  \"rows\": 8,\n  \"fields\": [\n    {\n      \"column\": \"Happiness Score\",\n      \"properties\": {\n        \"dtype\": \"number\",\n        \"std\": 53.532094412083374,\n        \"min\": 1.1421771944616943,\n        \"max\": 156.0,\n        \"num_unique_values\": 8,\n        \"samples\": [\n          5.360749999999999,\n          5.202999999999999,\n          156.0\n        ],\n        \"semantic_type\": \"\",\n        \"description\": \"\"\n      }\n    },\n    {\n      \"column\": \"GDP\",\n      \"properties\": {\n        \"dtype\": \"number\",\n        \"std\": 54.87667929911988,\n        \"min\": 0.0,\n        \"max\": 156.0,\n        \"num_unique_values\": 8,\n        \"samples\": [\n          0.8446023717948717,\n          0.910245,\n          156.0\n        ],\n        \"semantic_type\": \"\",\n        \"description\": \"\"\n      }\n    },\n    {\n      \"column\": \"Social Support\",\n      \"properties\": {\n        \"dtype\": \"number\",\n        \"std\": 54.86545140546595,\n        \"min\": 0.0,\n        \"max\": 156.0,\n        \"num_unique_values\": 8,\n        \"samples\": [\n          0.9889291025641026,\n          1.02951,\n          156.0\n        ],\n        \"semantic_type\": \"\",\n        \"description\": \"\"\n      }\n    },\n    {\n      \"column\": \"Healthy Life Expectancy\",\n      \"properties\": {\n        \"dtype\": \"number\",\n        \"std\": 54.96101506404254,\n        \"min\": 0.0,\n        \"max\": 156.0,\n        \"num_unique_values\": 8,\n        \"samples\": [\n          0.6286685897435897,\n          0.6967049999999999,\n          156.0\n        ],\n        \"semantic_type\": \"\",\n        \"description\": \"\"\n      }\n    },\n    {\n      \"column\": \"Freedom\",\n      \"properties\": {\n        \"dtype\": \"number\",\n        \"std\": 55.02555020486534,\n        \"min\": 0.0,\n        \"max\": 156.0,\n        \"num_unique_values\": 8,\n        \"samples\": [\n          0.42800416666666674,\n          0.435515,\n          156.0\n        ],\n        \"semantic_type\": \"\",\n        \"description\": \"\"\n      }\n    },\n    {\n      \"column\": \"Corruption Perception\",\n      \"properties\": {\n        \"dtype\": \"number\",\n        \"std\": 55.09573430029732,\n        \"min\": 0.0,\n        \"max\": 156.0,\n        \"num_unique_values\": 8,\n        \"samples\": [\n          0.14395987179487177,\n          0.10722000000000001,\n          156.0\n        ],\n        \"semantic_type\": \"\",\n        \"description\": \"\"\n      }\n    },\n    {\n      \"column\": \"Generosity\",\n      \"properties\": {\n        \"dtype\": \"number\",\n        \"std\": 55.062279482105566,\n        \"min\": 0.0,\n        \"max\": 156.0,\n        \"num_unique_values\": 8,\n        \"samples\": [\n          0.23687371794871795,\n          0.21613,\n          156.0\n        ],\n        \"semantic_type\": \"\",\n        \"description\": \"\"\n      }\n    },\n    {\n      \"column\": \"Region Encoded\",\n      \"properties\": {\n        \"dtype\": \"number\",\n        \"std\": 53.525578596638105,\n        \"min\": 0.0,\n        \"max\": 156.0,\n        \"num_unique_values\": 8,\n        \"samples\": [\n          5.076923076923077,\n          6.0,\n          156.0\n        ],\n        \"semantic_type\": \"\",\n        \"description\": \"\"\n      }\n    }\n  ]\n}"
            }
          },
          "metadata": {},
          "execution_count": 38
        }
      ]
    },
    {
      "cell_type": "markdown",
      "source": [
        "### **Problem #1.8**\n",
        "\n",
        "Determine all the regions that were included in this dataset."
      ],
      "metadata": {
        "id": "tWCgavI9-q_b"
      }
    },
    {
      "cell_type": "code",
      "source": [
        "happy_df['Region'].unique()"
      ],
      "metadata": {
        "id": "2pNMjL4_t-Bh",
        "outputId": "bd948756-b590-4f1c-e216-6206ed9a1625",
        "colab": {
          "base_uri": "https://localhost:8080/"
        }
      },
      "execution_count": 39,
      "outputs": [
        {
          "output_type": "execute_result",
          "data": {
            "text/plain": [
              "array(['Western Europe', 'North America', 'Australia and New Zealand',\n",
              "       'Middle East and Northern Africa', 'Latin America and Caribbean',\n",
              "       'Southeastern Asia', 'Central and Eastern Europe', 'Eastern Asia',\n",
              "       'Sub-Saharan Africa', 'Southern Asia'], dtype=object)"
            ]
          },
          "metadata": {},
          "execution_count": 39
        }
      ]
    },
    {
      "cell_type": "markdown",
      "source": [
        "### **Problem #1.9**\n",
        "\n",
        "Run the code below to create a new feature called `Region Encoded` that encodes the regions into numerical values. Although we have not discussed feature encoding yet, this will assist in completing the preprocessing stage of our data and prepare it for further analysis.\n",
        "\n",
        "You will notice that a `Region Encoded` column has been added to the DataFrame. Each number in this column corresponds to a specific region:\n",
        "\n",
        "`0: Western Europe `\n",
        "\n",
        "`1: North America`\n",
        "\n",
        "`2: Australia and New Zealand`\n",
        "\n",
        "`3: Middle East and Northern Africa`\n",
        "\n",
        "`4: Latin America and Caribbean`\n",
        "\n",
        "`5: Southeastern Asia `\n",
        "\n",
        "`6: Central and Eastern Europe`\n",
        "\n",
        "`7: Eastern Asia`\n",
        "\n",
        "`8: Sub-Saharan Africa`\n",
        "\n",
        "`9: Southern Asia`\n",
        "\n",
        "\n"
      ],
      "metadata": {
        "id": "vD3nrzSPY9D9"
      }
    },
    {
      "cell_type": "code",
      "source": [
        "region_list = happy_df[\"Region\"].unique()\n",
        "region_map = {region_list[i]: i for i in range(len(region_list))}\n",
        "\n",
        "happy_df['Region Encoded'] = happy_df['Region'].map(region_map)\n",
        "\n",
        "happy_df.head()"
      ],
      "metadata": {
        "id": "mipCFd7AY9D9",
        "outputId": "7b25666b-bee4-4126-d3bf-ff9d8aab2315",
        "colab": {
          "base_uri": "https://localhost:8080/",
          "height": 206
        }
      },
      "execution_count": 40,
      "outputs": [
        {
          "output_type": "execute_result",
          "data": {
            "text/plain": [
              "       Country          Region  Happiness Score      GDP  Social Support  \\\n",
              "0  Switzerland  Western Europe            7.587  1.39651         1.34951   \n",
              "1      Iceland  Western Europe            7.561  1.30232         1.40223   \n",
              "2      Denmark  Western Europe            7.527  1.32548         1.36058   \n",
              "3       Norway  Western Europe            7.522  1.45900         1.33095   \n",
              "4       Canada   North America            7.427  1.32629         1.32261   \n",
              "\n",
              "   Healthy Life Expectancy  Freedom  Corruption Perception  Generosity  \\\n",
              "0                  0.94143  0.66557                0.41978     0.29678   \n",
              "1                  0.94784  0.62877                0.14145     0.43630   \n",
              "2                  0.87464  0.64938                0.48357     0.34139   \n",
              "3                  0.88521  0.66973                0.36503     0.34699   \n",
              "4                  0.90563  0.63297                0.32957     0.45811   \n",
              "\n",
              "   Region Encoded  \n",
              "0               0  \n",
              "1               0  \n",
              "2               0  \n",
              "3               0  \n",
              "4               1  "
            ],
            "text/html": [
              "\n",
              "  <div id=\"df-0f14dab1-5925-4586-a249-a39659c66821\" class=\"colab-df-container\">\n",
              "    <div>\n",
              "<style scoped>\n",
              "    .dataframe tbody tr th:only-of-type {\n",
              "        vertical-align: middle;\n",
              "    }\n",
              "\n",
              "    .dataframe tbody tr th {\n",
              "        vertical-align: top;\n",
              "    }\n",
              "\n",
              "    .dataframe thead th {\n",
              "        text-align: right;\n",
              "    }\n",
              "</style>\n",
              "<table border=\"1\" class=\"dataframe\">\n",
              "  <thead>\n",
              "    <tr style=\"text-align: right;\">\n",
              "      <th></th>\n",
              "      <th>Country</th>\n",
              "      <th>Region</th>\n",
              "      <th>Happiness Score</th>\n",
              "      <th>GDP</th>\n",
              "      <th>Social Support</th>\n",
              "      <th>Healthy Life Expectancy</th>\n",
              "      <th>Freedom</th>\n",
              "      <th>Corruption Perception</th>\n",
              "      <th>Generosity</th>\n",
              "      <th>Region Encoded</th>\n",
              "    </tr>\n",
              "  </thead>\n",
              "  <tbody>\n",
              "    <tr>\n",
              "      <th>0</th>\n",
              "      <td>Switzerland</td>\n",
              "      <td>Western Europe</td>\n",
              "      <td>7.587</td>\n",
              "      <td>1.39651</td>\n",
              "      <td>1.34951</td>\n",
              "      <td>0.94143</td>\n",
              "      <td>0.66557</td>\n",
              "      <td>0.41978</td>\n",
              "      <td>0.29678</td>\n",
              "      <td>0</td>\n",
              "    </tr>\n",
              "    <tr>\n",
              "      <th>1</th>\n",
              "      <td>Iceland</td>\n",
              "      <td>Western Europe</td>\n",
              "      <td>7.561</td>\n",
              "      <td>1.30232</td>\n",
              "      <td>1.40223</td>\n",
              "      <td>0.94784</td>\n",
              "      <td>0.62877</td>\n",
              "      <td>0.14145</td>\n",
              "      <td>0.43630</td>\n",
              "      <td>0</td>\n",
              "    </tr>\n",
              "    <tr>\n",
              "      <th>2</th>\n",
              "      <td>Denmark</td>\n",
              "      <td>Western Europe</td>\n",
              "      <td>7.527</td>\n",
              "      <td>1.32548</td>\n",
              "      <td>1.36058</td>\n",
              "      <td>0.87464</td>\n",
              "      <td>0.64938</td>\n",
              "      <td>0.48357</td>\n",
              "      <td>0.34139</td>\n",
              "      <td>0</td>\n",
              "    </tr>\n",
              "    <tr>\n",
              "      <th>3</th>\n",
              "      <td>Norway</td>\n",
              "      <td>Western Europe</td>\n",
              "      <td>7.522</td>\n",
              "      <td>1.45900</td>\n",
              "      <td>1.33095</td>\n",
              "      <td>0.88521</td>\n",
              "      <td>0.66973</td>\n",
              "      <td>0.36503</td>\n",
              "      <td>0.34699</td>\n",
              "      <td>0</td>\n",
              "    </tr>\n",
              "    <tr>\n",
              "      <th>4</th>\n",
              "      <td>Canada</td>\n",
              "      <td>North America</td>\n",
              "      <td>7.427</td>\n",
              "      <td>1.32629</td>\n",
              "      <td>1.32261</td>\n",
              "      <td>0.90563</td>\n",
              "      <td>0.63297</td>\n",
              "      <td>0.32957</td>\n",
              "      <td>0.45811</td>\n",
              "      <td>1</td>\n",
              "    </tr>\n",
              "  </tbody>\n",
              "</table>\n",
              "</div>\n",
              "    <div class=\"colab-df-buttons\">\n",
              "\n",
              "  <div class=\"colab-df-container\">\n",
              "    <button class=\"colab-df-convert\" onclick=\"convertToInteractive('df-0f14dab1-5925-4586-a249-a39659c66821')\"\n",
              "            title=\"Convert this dataframe to an interactive table.\"\n",
              "            style=\"display:none;\">\n",
              "\n",
              "  <svg xmlns=\"http://www.w3.org/2000/svg\" height=\"24px\" viewBox=\"0 -960 960 960\">\n",
              "    <path d=\"M120-120v-720h720v720H120Zm60-500h600v-160H180v160Zm220 220h160v-160H400v160Zm0 220h160v-160H400v160ZM180-400h160v-160H180v160Zm440 0h160v-160H620v160ZM180-180h160v-160H180v160Zm440 0h160v-160H620v160Z\"/>\n",
              "  </svg>\n",
              "    </button>\n",
              "\n",
              "  <style>\n",
              "    .colab-df-container {\n",
              "      display:flex;\n",
              "      gap: 12px;\n",
              "    }\n",
              "\n",
              "    .colab-df-convert {\n",
              "      background-color: #E8F0FE;\n",
              "      border: none;\n",
              "      border-radius: 50%;\n",
              "      cursor: pointer;\n",
              "      display: none;\n",
              "      fill: #1967D2;\n",
              "      height: 32px;\n",
              "      padding: 0 0 0 0;\n",
              "      width: 32px;\n",
              "    }\n",
              "\n",
              "    .colab-df-convert:hover {\n",
              "      background-color: #E2EBFA;\n",
              "      box-shadow: 0px 1px 2px rgba(60, 64, 67, 0.3), 0px 1px 3px 1px rgba(60, 64, 67, 0.15);\n",
              "      fill: #174EA6;\n",
              "    }\n",
              "\n",
              "    .colab-df-buttons div {\n",
              "      margin-bottom: 4px;\n",
              "    }\n",
              "\n",
              "    [theme=dark] .colab-df-convert {\n",
              "      background-color: #3B4455;\n",
              "      fill: #D2E3FC;\n",
              "    }\n",
              "\n",
              "    [theme=dark] .colab-df-convert:hover {\n",
              "      background-color: #434B5C;\n",
              "      box-shadow: 0px 1px 3px 1px rgba(0, 0, 0, 0.15);\n",
              "      filter: drop-shadow(0px 1px 2px rgba(0, 0, 0, 0.3));\n",
              "      fill: #FFFFFF;\n",
              "    }\n",
              "  </style>\n",
              "\n",
              "    <script>\n",
              "      const buttonEl =\n",
              "        document.querySelector('#df-0f14dab1-5925-4586-a249-a39659c66821 button.colab-df-convert');\n",
              "      buttonEl.style.display =\n",
              "        google.colab.kernel.accessAllowed ? 'block' : 'none';\n",
              "\n",
              "      async function convertToInteractive(key) {\n",
              "        const element = document.querySelector('#df-0f14dab1-5925-4586-a249-a39659c66821');\n",
              "        const dataTable =\n",
              "          await google.colab.kernel.invokeFunction('convertToInteractive',\n",
              "                                                    [key], {});\n",
              "        if (!dataTable) return;\n",
              "\n",
              "        const docLinkHtml = 'Like what you see? Visit the ' +\n",
              "          '<a target=\"_blank\" href=https://colab.research.google.com/notebooks/data_table.ipynb>data table notebook</a>'\n",
              "          + ' to learn more about interactive tables.';\n",
              "        element.innerHTML = '';\n",
              "        dataTable['output_type'] = 'display_data';\n",
              "        await google.colab.output.renderOutput(dataTable, element);\n",
              "        const docLink = document.createElement('div');\n",
              "        docLink.innerHTML = docLinkHtml;\n",
              "        element.appendChild(docLink);\n",
              "      }\n",
              "    </script>\n",
              "  </div>\n",
              "\n",
              "\n",
              "    <div id=\"df-72b7e188-0b10-4a67-a0fd-216e9b50bcb5\">\n",
              "      <button class=\"colab-df-quickchart\" onclick=\"quickchart('df-72b7e188-0b10-4a67-a0fd-216e9b50bcb5')\"\n",
              "                title=\"Suggest charts\"\n",
              "                style=\"display:none;\">\n",
              "\n",
              "<svg xmlns=\"http://www.w3.org/2000/svg\" height=\"24px\"viewBox=\"0 0 24 24\"\n",
              "     width=\"24px\">\n",
              "    <g>\n",
              "        <path d=\"M19 3H5c-1.1 0-2 .9-2 2v14c0 1.1.9 2 2 2h14c1.1 0 2-.9 2-2V5c0-1.1-.9-2-2-2zM9 17H7v-7h2v7zm4 0h-2V7h2v10zm4 0h-2v-4h2v4z\"/>\n",
              "    </g>\n",
              "</svg>\n",
              "      </button>\n",
              "\n",
              "<style>\n",
              "  .colab-df-quickchart {\n",
              "      --bg-color: #E8F0FE;\n",
              "      --fill-color: #1967D2;\n",
              "      --hover-bg-color: #E2EBFA;\n",
              "      --hover-fill-color: #174EA6;\n",
              "      --disabled-fill-color: #AAA;\n",
              "      --disabled-bg-color: #DDD;\n",
              "  }\n",
              "\n",
              "  [theme=dark] .colab-df-quickchart {\n",
              "      --bg-color: #3B4455;\n",
              "      --fill-color: #D2E3FC;\n",
              "      --hover-bg-color: #434B5C;\n",
              "      --hover-fill-color: #FFFFFF;\n",
              "      --disabled-bg-color: #3B4455;\n",
              "      --disabled-fill-color: #666;\n",
              "  }\n",
              "\n",
              "  .colab-df-quickchart {\n",
              "    background-color: var(--bg-color);\n",
              "    border: none;\n",
              "    border-radius: 50%;\n",
              "    cursor: pointer;\n",
              "    display: none;\n",
              "    fill: var(--fill-color);\n",
              "    height: 32px;\n",
              "    padding: 0;\n",
              "    width: 32px;\n",
              "  }\n",
              "\n",
              "  .colab-df-quickchart:hover {\n",
              "    background-color: var(--hover-bg-color);\n",
              "    box-shadow: 0 1px 2px rgba(60, 64, 67, 0.3), 0 1px 3px 1px rgba(60, 64, 67, 0.15);\n",
              "    fill: var(--button-hover-fill-color);\n",
              "  }\n",
              "\n",
              "  .colab-df-quickchart-complete:disabled,\n",
              "  .colab-df-quickchart-complete:disabled:hover {\n",
              "    background-color: var(--disabled-bg-color);\n",
              "    fill: var(--disabled-fill-color);\n",
              "    box-shadow: none;\n",
              "  }\n",
              "\n",
              "  .colab-df-spinner {\n",
              "    border: 2px solid var(--fill-color);\n",
              "    border-color: transparent;\n",
              "    border-bottom-color: var(--fill-color);\n",
              "    animation:\n",
              "      spin 1s steps(1) infinite;\n",
              "  }\n",
              "\n",
              "  @keyframes spin {\n",
              "    0% {\n",
              "      border-color: transparent;\n",
              "      border-bottom-color: var(--fill-color);\n",
              "      border-left-color: var(--fill-color);\n",
              "    }\n",
              "    20% {\n",
              "      border-color: transparent;\n",
              "      border-left-color: var(--fill-color);\n",
              "      border-top-color: var(--fill-color);\n",
              "    }\n",
              "    30% {\n",
              "      border-color: transparent;\n",
              "      border-left-color: var(--fill-color);\n",
              "      border-top-color: var(--fill-color);\n",
              "      border-right-color: var(--fill-color);\n",
              "    }\n",
              "    40% {\n",
              "      border-color: transparent;\n",
              "      border-right-color: var(--fill-color);\n",
              "      border-top-color: var(--fill-color);\n",
              "    }\n",
              "    60% {\n",
              "      border-color: transparent;\n",
              "      border-right-color: var(--fill-color);\n",
              "    }\n",
              "    80% {\n",
              "      border-color: transparent;\n",
              "      border-right-color: var(--fill-color);\n",
              "      border-bottom-color: var(--fill-color);\n",
              "    }\n",
              "    90% {\n",
              "      border-color: transparent;\n",
              "      border-bottom-color: var(--fill-color);\n",
              "    }\n",
              "  }\n",
              "</style>\n",
              "\n",
              "      <script>\n",
              "        async function quickchart(key) {\n",
              "          const quickchartButtonEl =\n",
              "            document.querySelector('#' + key + ' button');\n",
              "          quickchartButtonEl.disabled = true;  // To prevent multiple clicks.\n",
              "          quickchartButtonEl.classList.add('colab-df-spinner');\n",
              "          try {\n",
              "            const charts = await google.colab.kernel.invokeFunction(\n",
              "                'suggestCharts', [key], {});\n",
              "          } catch (error) {\n",
              "            console.error('Error during call to suggestCharts:', error);\n",
              "          }\n",
              "          quickchartButtonEl.classList.remove('colab-df-spinner');\n",
              "          quickchartButtonEl.classList.add('colab-df-quickchart-complete');\n",
              "        }\n",
              "        (() => {\n",
              "          let quickchartButtonEl =\n",
              "            document.querySelector('#df-72b7e188-0b10-4a67-a0fd-216e9b50bcb5 button');\n",
              "          quickchartButtonEl.style.display =\n",
              "            google.colab.kernel.accessAllowed ? 'block' : 'none';\n",
              "        })();\n",
              "      </script>\n",
              "    </div>\n",
              "\n",
              "    </div>\n",
              "  </div>\n"
            ],
            "application/vnd.google.colaboratory.intrinsic+json": {
              "type": "dataframe",
              "variable_name": "happy_df",
              "summary": "{\n  \"name\": \"happy_df\",\n  \"rows\": 156,\n  \"fields\": [\n    {\n      \"column\": \"Country\",\n      \"properties\": {\n        \"dtype\": \"string\",\n        \"num_unique_values\": 156,\n        \"samples\": [\n          \"Laos\",\n          \"Hong Kong\",\n          \"Zambia\"\n        ],\n        \"semantic_type\": \"\",\n        \"description\": \"\"\n      }\n    },\n    {\n      \"column\": \"Region\",\n      \"properties\": {\n        \"dtype\": \"category\",\n        \"num_unique_values\": 10,\n        \"samples\": [\n          \"Sub-Saharan Africa\",\n          \"North America\",\n          \"Southeastern Asia\"\n        ],\n        \"semantic_type\": \"\",\n        \"description\": \"\"\n      }\n    },\n    {\n      \"column\": \"Happiness Score\",\n      \"properties\": {\n        \"dtype\": \"number\",\n        \"std\": 1.1421771944616943,\n        \"min\": 2.839,\n        \"max\": 7.587,\n        \"num_unique_values\": 155,\n        \"samples\": [\n          5.129,\n          3.781,\n          6.477\n        ],\n        \"semantic_type\": \"\",\n        \"description\": \"\"\n      }\n    },\n    {\n      \"column\": \"GDP\",\n      \"properties\": {\n        \"dtype\": \"number\",\n        \"std\": 0.4032819223180377,\n        \"min\": 0.0,\n        \"max\": 1.69042,\n        \"num_unique_values\": 156,\n        \"samples\": [\n          0.59066,\n          1.38604,\n          0.47038\n        ],\n        \"semantic_type\": \"\",\n        \"description\": \"\"\n      }\n    },\n    {\n      \"column\": \"Social Support\",\n      \"properties\": {\n        \"dtype\": \"number\",\n        \"std\": 0.2730014013254164,\n        \"min\": 0.0,\n        \"max\": 1.40223,\n        \"num_unique_values\": 156,\n        \"samples\": [\n          0.73803,\n          1.05818,\n          0.91612\n        ],\n        \"semantic_type\": \"\",\n        \"description\": \"\"\n      }\n    },\n    {\n      \"column\": \"Healthy Life Expectancy\",\n      \"properties\": {\n        \"dtype\": \"number\",\n        \"std\": 0.24778011895682114,\n        \"min\": 0.0,\n        \"max\": 1.02525,\n        \"num_unique_values\": 155,\n        \"samples\": [\n          0.29924,\n          0.38215,\n          0.69077\n        ],\n        \"semantic_type\": \"\",\n        \"description\": \"\"\n      }\n    },\n    {\n      \"column\": \"Freedom\",\n      \"properties\": {\n        \"dtype\": \"number\",\n        \"std\": 0.15062784129386392,\n        \"min\": 0.0,\n        \"max\": 0.66973,\n        \"num_unique_values\": 156,\n        \"samples\": [\n          0.59591,\n          0.59608,\n          0.48827\n        ],\n        \"semantic_type\": \"\",\n        \"description\": \"\"\n      }\n    },\n    {\n      \"column\": \"Corruption Perception\",\n      \"properties\": {\n        \"dtype\": \"number\",\n        \"std\": 0.12032114550430165,\n        \"min\": 0.0,\n        \"max\": 0.55191,\n        \"num_unique_values\": 155,\n        \"samples\": [\n          0.12468,\n          0.05747,\n          0.0512\n        ],\n        \"semantic_type\": \"\",\n        \"description\": \"\"\n      }\n    },\n    {\n      \"column\": \"Generosity\",\n      \"properties\": {\n        \"dtype\": \"number\",\n        \"std\": 0.12725758836981232,\n        \"min\": 0.0,\n        \"max\": 0.79588,\n        \"num_unique_values\": 156,\n        \"samples\": [\n          0.42192,\n          0.39478,\n          0.19591\n        ],\n        \"semantic_type\": \"\",\n        \"description\": \"\"\n      }\n    },\n    {\n      \"column\": \"Region Encoded\",\n      \"properties\": {\n        \"dtype\": \"number\",\n        \"std\": 2,\n        \"min\": 0,\n        \"max\": 9,\n        \"num_unique_values\": 10,\n        \"samples\": [\n          8,\n          1,\n          5\n        ],\n        \"semantic_type\": \"\",\n        \"description\": \"\"\n      }\n    }\n  ]\n}"
            }
          },
          "metadata": {},
          "execution_count": 40
        }
      ]
    },
    {
      "cell_type": "markdown",
      "source": [
        "### **Problem #1.10**\n",
        "\n",
        "Let's visualize some of the data and see if we can discover some relationships. Specifically, create bar graphs of `Happiness Score` for the countries in several different regions: `\"Middle East and Northern Africa\"`, `\"Southern Asia\"`, and `\"North America\"`.\n",
        "\n",
        "\n",
        "**NOTE:** Some of the code has already been provided for the first example to help you get started."
      ],
      "metadata": {
        "id": "Qq1bhvR6-dYm"
      }
    },
    {
      "cell_type": "markdown",
      "source": [
        "#### **Middle East and Northern Africa**"
      ],
      "metadata": {
        "id": "jrmSU9K1DTB6"
      }
    },
    {
      "cell_type": "code",
      "source": [
        "x = happy_df[happy_df[\"Region\"] == \"Middle East and Northern Africa\"][\"Country\"]\n",
        "y = happy_df[happy_df[\"Region\"] == \"Middle East and Northern Africa\"][\"Happiness Score\"]\n",
        "\n",
        "plt.bar(x, y)\n",
        "\n",
        "plt.title(\"Happiness Scores in Middle East and Northern African countries\")\n",
        "plt.xlabel(\"Country\")\n",
        "plt.ylabel(\"Happiness Score\")\n",
        "plt.xticks(rotation = 90)\n",
        "\n",
        "plt.show()"
      ],
      "metadata": {
        "id": "qrv4G4yTaUA8",
        "outputId": "7e3fc074-6b46-45f8-d55f-113933eed7cb",
        "colab": {
          "base_uri": "https://localhost:8080/",
          "height": 606
        }
      },
      "execution_count": 41,
      "outputs": [
        {
          "output_type": "display_data",
          "data": {
            "text/plain": [
              "<Figure size 640x480 with 1 Axes>"
            ],
            "image/png": "[encoded data removed]"
          },
          "metadata": {}
        }
      ]
    },
    {
      "cell_type": "markdown",
      "source": [
        "#### **Southern Asia**"
      ],
      "metadata": {
        "id": "7n3OX701DXUO"
      }
    },
    {
      "cell_type": "code",
      "source": [
        "x = happy_df[happy_df[\"Region\"] == \"Southern Asia\"][\"Country\"]\n",
        "y = happy_df[happy_df[\"Region\"] == \"Southern Asia\"][\"Happiness Score\"]\n",
        "\n",
        "plt.bar(x, y)\n",
        "\n",
        "plt.title(\"Happiness Scores in Southern Asian countries\")\n",
        "plt.xlabel(\"Country\")\n",
        "plt.ylabel(\"Happiness Score\")\n",
        "plt.xticks(rotation = 90)\n",
        "\n",
        "plt.show()"
      ],
      "metadata": {
        "id": "oty9jw9MaXUm",
        "outputId": "3e97b6b4-6ab2-4074-a5a0-2f8a7b737eba",
        "colab": {
          "base_uri": "https://localhost:8080/",
          "height": 541
        }
      },
      "execution_count": 42,
      "outputs": [
        {
          "output_type": "display_data",
          "data": {
            "text/plain": [
              "<Figure size 640x480 with 1 Axes>"
            ],
            "image/png": "[encoded data removed]"
          },
          "metadata": {}
        }
      ]
    },
    {
      "cell_type": "markdown",
      "source": [
        "#### **North America**"
      ],
      "metadata": {
        "id": "QdV-HA4DaJGG"
      }
    },
    {
      "cell_type": "code",
      "source": [
        "x = happy_df[happy_df[\"Region\"] == \"North America\"][\"Country\"]\n",
        "y = happy_df[happy_df[\"Region\"] == \"North America\"][\"Happiness Score\"]\n",
        "\n",
        "plt.bar(x, y)\n",
        "\n",
        "plt.title(\"Happiness Scores in North American countries\")\n",
        "plt.xlabel(\"Country\")\n",
        "plt.ylabel(\"Happiness Score\")\n",
        "plt.xticks(rotation = 90)\n",
        "\n",
        "plt.show()"
      ],
      "metadata": {
        "id": "BMGWEHDoaX9O",
        "outputId": "9c8df184-6fe5-41b2-b69b-c267638260b6",
        "colab": {
          "base_uri": "https://localhost:8080/",
          "height": 552
        }
      },
      "execution_count": 43,
      "outputs": [
        {
          "output_type": "display_data",
          "data": {
            "text/plain": [
              "<Figure size 640x480 with 1 Axes>"
            ],
            "image/png": "[encoded data removed]"
          },
          "metadata": {}
        }
      ]
    },
    {
      "cell_type": "markdown",
      "source": [
        "### **Problem #1.11**\n",
        "\n",
        "Now, create scatter plots of `Happiness Score` on the y-axis versus several different numerical variables on the x-axis: `Social Support`, `Freedom`, and `GDP`."
      ],
      "metadata": {
        "id": "E9EZiL7Xb1cH"
      }
    },
    {
      "cell_type": "markdown",
      "source": [
        "#### **Happiness Score vs. Social Support**"
      ],
      "metadata": {
        "id": "B8J2nKMeEA34"
      }
    },
    {
      "cell_type": "code",
      "source": [
        "x = happy_df[\"Social Support\"]\n",
        "y = happy_df[\"Happiness Score\"]\n",
        "\n",
        "\n",
        "plt.scatter(x, y)\n",
        "plt.title(\"Happiness Score v.s. Social Support\")\n",
        "plt.ylabel(\"Happiness Score\")\n",
        "plt.xlabel(\"Social Support\")\n",
        "plt.plot()"
      ],
      "metadata": {
        "id": "0MwCdyWTa7aQ",
        "outputId": "abedbff3-a748-41ab-cd82-cfdb1ce18d5c",
        "colab": {
          "base_uri": "https://localhost:8080/",
          "height": 491
        }
      },
      "execution_count": 44,
      "outputs": [
        {
          "output_type": "execute_result",
          "data": {
            "text/plain": [
              "[]"
            ]
          },
          "metadata": {},
          "execution_count": 44
        },
        {
          "output_type": "display_data",
          "data": {
            "text/plain": [
              "<Figure size 640x480 with 1 Axes>"
            ],
            "image/png": "[encoded data removed]"
          },
          "metadata": {}
        }
      ]
    },
    {
      "cell_type": "markdown",
      "source": [
        "#### **Happiness Score vs. Freedom**"
      ],
      "metadata": {
        "id": "ewxAlHaobC66"
      }
    },
    {
      "cell_type": "code",
      "source": [
        "x = happy_df[\"Freedom\"]\n",
        "y = happy_df[\"Happiness Score\"]\n",
        "\n",
        "\n",
        "plt.scatter(x, y)\n",
        "plt.title(\"Happiness Score v.s. Freedom\")\n",
        "plt.ylabel(\"Happiness Score\")\n",
        "plt.xlabel(\"Freedom\")\n",
        "plt.plot()"
      ],
      "metadata": {
        "id": "-R8EnRWFbC66",
        "outputId": "e2648256-5d0f-4c2d-c8b7-2ee9df726f5f",
        "colab": {
          "base_uri": "https://localhost:8080/",
          "height": 491
        }
      },
      "execution_count": 45,
      "outputs": [
        {
          "output_type": "execute_result",
          "data": {
            "text/plain": [
              "[]"
            ]
          },
          "metadata": {},
          "execution_count": 45
        },
        {
          "output_type": "display_data",
          "data": {
            "text/plain": [
              "<Figure size 640x480 with 1 Axes>"
            ],
            "image/png": "[encoded data removed]"
          },
          "metadata": {}
        }
      ]
    },
    {
      "cell_type": "markdown",
      "source": [
        "#### **Happiness Score vs. GDP**"
      ],
      "metadata": {
        "id": "VciZBGV1bc9X"
      }
    },
    {
      "cell_type": "code",
      "source": [
        "x = happy_df[\"GDP\"]\n",
        "y = happy_df[\"Happiness Score\"]\n",
        "\n",
        "\n",
        "plt.scatter(x, y)\n",
        "plt.title(\"Happiness Score v.s. GDP\")\n",
        "plt.ylabel(\"Happiness Score\")\n",
        "plt.xlabel(\"GDP\")\n",
        "plt.plot()"
      ],
      "metadata": {
        "id": "4O-NXhTHbc9g",
        "outputId": "44d83919-4083-4623-ea58-a94249929738",
        "colab": {
          "base_uri": "https://localhost:8080/",
          "height": 491
        }
      },
      "execution_count": 46,
      "outputs": [
        {
          "output_type": "execute_result",
          "data": {
            "text/plain": [
              "[]"
            ]
          },
          "metadata": {},
          "execution_count": 46
        },
        {
          "output_type": "display_data",
          "data": {
            "text/plain": [
              "<Figure size 640x480 with 1 Axes>"
            ],
            "image/png": "[encoded data removed]"
          },
          "metadata": {}
        }
      ]
    },
    {
      "cell_type": "code",
      "source": [
        "happy_df[[\"Freedom\", \"GDP\", \"Happiness Score\", \"Social Support\"]].corr()"
      ],
      "metadata": {
        "id": "uoFrAWaH1cQf",
        "outputId": "2b23cb9b-1bef-4edd-d626-8b195e00c396",
        "colab": {
          "base_uri": "https://localhost:8080/",
          "height": 175
        }
      },
      "execution_count": 48,
      "outputs": [
        {
          "output_type": "execute_result",
          "data": {
            "text/plain": [
              "                  Freedom       GDP  Happiness Score  Social Support\n",
              "Freedom          1.000000  0.362182         0.565710        0.437326\n",
              "GDP              0.362182  1.000000         0.781898        0.643373\n",
              "Happiness Score  0.565710  0.781898         1.000000        0.738371\n",
              "Social Support   0.437326  0.643373         0.738371        1.000000"
            ],
            "text/html": [
              "\n",
              "  <div id=\"df-bd6f3fe2-b888-41bf-a9d8-4493fd96c87d\" class=\"colab-df-container\">\n",
              "    <div>\n",
              "<style scoped>\n",
              "    .dataframe tbody tr th:only-of-type {\n",
              "        vertical-align: middle;\n",
              "    }\n",
              "\n",
              "    .dataframe tbody tr th {\n",
              "        vertical-align: top;\n",
              "    }\n",
              "\n",
              "    .dataframe thead th {\n",
              "        text-align: right;\n",
              "    }\n",
              "</style>\n",
              "<table border=\"1\" class=\"dataframe\">\n",
              "  <thead>\n",
              "    <tr style=\"text-align: right;\">\n",
              "      <th></th>\n",
              "      <th>Freedom</th>\n",
              "      <th>GDP</th>\n",
              "      <th>Happiness Score</th>\n",
              "      <th>Social Support</th>\n",
              "    </tr>\n",
              "  </thead>\n",
              "  <tbody>\n",
              "    <tr>\n",
              "      <th>Freedom</th>\n",
              "      <td>1.000000</td>\n",
              "      <td>0.362182</td>\n",
              "      <td>0.565710</td>\n",
              "      <td>0.437326</td>\n",
              "    </tr>\n",
              "    <tr>\n",
              "      <th>GDP</th>\n",
              "      <td>0.362182</td>\n",
              "      <td>1.000000</td>\n",
              "      <td>0.781898</td>\n",
              "      <td>0.643373</td>\n",
              "    </tr>\n",
              "    <tr>\n",
              "      <th>Happiness Score</th>\n",
              "      <td>0.565710</td>\n",
              "      <td>0.781898</td>\n",
              "      <td>1.000000</td>\n",
              "      <td>0.738371</td>\n",
              "    </tr>\n",
              "    <tr>\n",
              "      <th>Social Support</th>\n",
              "      <td>0.437326</td>\n",
              "      <td>0.643373</td>\n",
              "      <td>0.738371</td>\n",
              "      <td>1.000000</td>\n",
              "    </tr>\n",
              "  </tbody>\n",
              "</table>\n",
              "</div>\n",
              "    <div class=\"colab-df-buttons\">\n",
              "\n",
              "  <div class=\"colab-df-container\">\n",
              "    <button class=\"colab-df-convert\" onclick=\"convertToInteractive('df-bd6f3fe2-b888-41bf-a9d8-4493fd96c87d')\"\n",
              "            title=\"Convert this dataframe to an interactive table.\"\n",
              "            style=\"display:none;\">\n",
              "\n",
              "  <svg xmlns=\"http://www.w3.org/2000/svg\" height=\"24px\" viewBox=\"0 -960 960 960\">\n",
              "    <path d=\"M120-120v-720h720v720H120Zm60-500h600v-160H180v160Zm220 220h160v-160H400v160Zm0 220h160v-160H400v160ZM180-400h160v-160H180v160Zm440 0h160v-160H620v160ZM180-180h160v-160H180v160Zm440 0h160v-160H620v160Z\"/>\n",
              "  </svg>\n",
              "    </button>\n",
              "\n",
              "  <style>\n",
              "    .colab-df-container {\n",
              "      display:flex;\n",
              "      gap: 12px;\n",
              "    }\n",
              "\n",
              "    .colab-df-convert {\n",
              "      background-color: #E8F0FE;\n",
              "      border: none;\n",
              "      border-radius: 50%;\n",
              "      cursor: pointer;\n",
              "      display: none;\n",
              "      fill: #1967D2;\n",
              "      height: 32px;\n",
              "      padding: 0 0 0 0;\n",
              "      width: 32px;\n",
              "    }\n",
              "\n",
              "    .colab-df-convert:hover {\n",
              "      background-color: #E2EBFA;\n",
              "      box-shadow: 0px 1px 2px rgba(60, 64, 67, 0.3), 0px 1px 3px 1px rgba(60, 64, 67, 0.15);\n",
              "      fill: #174EA6;\n",
              "    }\n",
              "\n",
              "    .colab-df-buttons div {\n",
              "      margin-bottom: 4px;\n",
              "    }\n",
              "\n",
              "    [theme=dark] .colab-df-convert {\n",
              "      background-color: #3B4455;\n",
              "      fill: #D2E3FC;\n",
              "    }\n",
              "\n",
              "    [theme=dark] .colab-df-convert:hover {\n",
              "      background-color: #434B5C;\n",
              "      box-shadow: 0px 1px 3px 1px rgba(0, 0, 0, 0.15);\n",
              "      filter: drop-shadow(0px 1px 2px rgba(0, 0, 0, 0.3));\n",
              "      fill: #FFFFFF;\n",
              "    }\n",
              "  </style>\n",
              "\n",
              "    <script>\n",
              "      const buttonEl =\n",
              "        document.querySelector('#df-bd6f3fe2-b888-41bf-a9d8-4493fd96c87d button.colab-df-convert');\n",
              "      buttonEl.style.display =\n",
              "        google.colab.kernel.accessAllowed ? 'block' : 'none';\n",
              "\n",
              "      async function convertToInteractive(key) {\n",
              "        const element = document.querySelector('#df-bd6f3fe2-b888-41bf-a9d8-4493fd96c87d');\n",
              "        const dataTable =\n",
              "          await google.colab.kernel.invokeFunction('convertToInteractive',\n",
              "                                                    [key], {});\n",
              "        if (!dataTable) return;\n",
              "\n",
              "        const docLinkHtml = 'Like what you see? Visit the ' +\n",
              "          '<a target=\"_blank\" href=https://colab.research.google.com/notebooks/data_table.ipynb>data table notebook</a>'\n",
              "          + ' to learn more about interactive tables.';\n",
              "        element.innerHTML = '';\n",
              "        dataTable['output_type'] = 'display_data';\n",
              "        await google.colab.output.renderOutput(dataTable, element);\n",
              "        const docLink = document.createElement('div');\n",
              "        docLink.innerHTML = docLinkHtml;\n",
              "        element.appendChild(docLink);\n",
              "      }\n",
              "    </script>\n",
              "  </div>\n",
              "\n",
              "\n",
              "    <div id=\"df-628f0eed-fc28-4c5d-a7c3-ced5a8bae5b3\">\n",
              "      <button class=\"colab-df-quickchart\" onclick=\"quickchart('df-628f0eed-fc28-4c5d-a7c3-ced5a8bae5b3')\"\n",
              "                title=\"Suggest charts\"\n",
              "                style=\"display:none;\">\n",
              "\n",
              "<svg xmlns=\"http://www.w3.org/2000/svg\" height=\"24px\"viewBox=\"0 0 24 24\"\n",
              "     width=\"24px\">\n",
              "    <g>\n",
              "        <path d=\"M19 3H5c-1.1 0-2 .9-2 2v14c0 1.1.9 2 2 2h14c1.1 0 2-.9 2-2V5c0-1.1-.9-2-2-2zM9 17H7v-7h2v7zm4 0h-2V7h2v10zm4 0h-2v-4h2v4z\"/>\n",
              "    </g>\n",
              "</svg>\n",
              "      </button>\n",
              "\n",
              "<style>\n",
              "  .colab-df-quickchart {\n",
              "      --bg-color: #E8F0FE;\n",
              "      --fill-color: #1967D2;\n",
              "      --hover-bg-color: #E2EBFA;\n",
              "      --hover-fill-color: #174EA6;\n",
              "      --disabled-fill-color: #AAA;\n",
              "      --disabled-bg-color: #DDD;\n",
              "  }\n",
              "\n",
              "  [theme=dark] .colab-df-quickchart {\n",
              "      --bg-color: #3B4455;\n",
              "      --fill-color: #D2E3FC;\n",
              "      --hover-bg-color: #434B5C;\n",
              "      --hover-fill-color: #FFFFFF;\n",
              "      --disabled-bg-color: #3B4455;\n",
              "      --disabled-fill-color: #666;\n",
              "  }\n",
              "\n",
              "  .colab-df-quickchart {\n",
              "    background-color: var(--bg-color);\n",
              "    border: none;\n",
              "    border-radius: 50%;\n",
              "    cursor: pointer;\n",
              "    display: none;\n",
              "    fill: var(--fill-color);\n",
              "    height: 32px;\n",
              "    padding: 0;\n",
              "    width: 32px;\n",
              "  }\n",
              "\n",
              "  .colab-df-quickchart:hover {\n",
              "    background-color: var(--hover-bg-color);\n",
              "    box-shadow: 0 1px 2px rgba(60, 64, 67, 0.3), 0 1px 3px 1px rgba(60, 64, 67, 0.15);\n",
              "    fill: var(--button-hover-fill-color);\n",
              "  }\n",
              "\n",
              "  .colab-df-quickchart-complete:disabled,\n",
              "  .colab-df-quickchart-complete:disabled:hover {\n",
              "    background-color: var(--disabled-bg-color);\n",
              "    fill: var(--disabled-fill-color);\n",
              "    box-shadow: none;\n",
              "  }\n",
              "\n",
              "  .colab-df-spinner {\n",
              "    border: 2px solid var(--fill-color);\n",
              "    border-color: transparent;\n",
              "    border-bottom-color: var(--fill-color);\n",
              "    animation:\n",
              "      spin 1s steps(1) infinite;\n",
              "  }\n",
              "\n",
              "  @keyframes spin {\n",
              "    0% {\n",
              "      border-color: transparent;\n",
              "      border-bottom-color: var(--fill-color);\n",
              "      border-left-color: var(--fill-color);\n",
              "    }\n",
              "    20% {\n",
              "      border-color: transparent;\n",
              "      border-left-color: var(--fill-color);\n",
              "      border-top-color: var(--fill-color);\n",
              "    }\n",
              "    30% {\n",
              "      border-color: transparent;\n",
              "      border-left-color: var(--fill-color);\n",
              "      border-top-color: var(--fill-color);\n",
              "      border-right-color: var(--fill-color);\n",
              "    }\n",
              "    40% {\n",
              "      border-color: transparent;\n",
              "      border-right-color: var(--fill-color);\n",
              "      border-top-color: var(--fill-color);\n",
              "    }\n",
              "    60% {\n",
              "      border-color: transparent;\n",
              "      border-right-color: var(--fill-color);\n",
              "    }\n",
              "    80% {\n",
              "      border-color: transparent;\n",
              "      border-right-color: var(--fill-color);\n",
              "      border-bottom-color: var(--fill-color);\n",
              "    }\n",
              "    90% {\n",
              "      border-color: transparent;\n",
              "      border-bottom-color: var(--fill-color);\n",
              "    }\n",
              "  }\n",
              "</style>\n",
              "\n",
              "      <script>\n",
              "        async function quickchart(key) {\n",
              "          const quickchartButtonEl =\n",
              "            document.querySelector('#' + key + ' button');\n",
              "          quickchartButtonEl.disabled = true;  // To prevent multiple clicks.\n",
              "          quickchartButtonEl.classList.add('colab-df-spinner');\n",
              "          try {\n",
              "            const charts = await google.colab.kernel.invokeFunction(\n",
              "                'suggestCharts', [key], {});\n",
              "          } catch (error) {\n",
              "            console.error('Error during call to suggestCharts:', error);\n",
              "          }\n",
              "          quickchartButtonEl.classList.remove('colab-df-spinner');\n",
              "          quickchartButtonEl.classList.add('colab-df-quickchart-complete');\n",
              "        }\n",
              "        (() => {\n",
              "          let quickchartButtonEl =\n",
              "            document.querySelector('#df-628f0eed-fc28-4c5d-a7c3-ced5a8bae5b3 button');\n",
              "          quickchartButtonEl.style.display =\n",
              "            google.colab.kernel.accessAllowed ? 'block' : 'none';\n",
              "        })();\n",
              "      </script>\n",
              "    </div>\n",
              "\n",
              "    </div>\n",
              "  </div>\n"
            ],
            "application/vnd.google.colaboratory.intrinsic+json": {
              "type": "dataframe",
              "summary": "{\n  \"name\": \"happy_df[[\\\"Freedom\\\", \\\"GDP\\\", \\\"Happiness Score\\\", \\\"Social Support\\\"]]\",\n  \"rows\": 4,\n  \"fields\": [\n    {\n      \"column\": \"Freedom\",\n      \"properties\": {\n        \"dtype\": \"number\",\n        \"std\": 0.28512789818513307,\n        \"min\": 0.3621815696048074,\n        \"max\": 1.0,\n        \"num_unique_values\": 4,\n        \"samples\": [\n          0.3621815696048074,\n          0.43732615052600327,\n          1.0\n        ],\n        \"semantic_type\": \"\",\n        \"description\": \"\"\n      }\n    },\n    {\n      \"column\": \"GDP\",\n      \"properties\": {\n        \"dtype\": \"number\",\n        \"std\": 0.26708044490040783,\n        \"min\": 0.3621815696048074,\n        \"max\": 1.0,\n        \"num_unique_values\": 4,\n        \"samples\": [\n          1.0,\n          0.6433731881208568,\n          0.3621815696048074\n        ],\n        \"semantic_type\": \"\",\n        \"description\": \"\"\n      }\n    },\n    {\n      \"column\": \"Happiness Score\",\n      \"properties\": {\n        \"dtype\": \"number\",\n        \"std\": 0.1786687557783479,\n        \"min\": 0.5657096975855836,\n        \"max\": 1.0,\n        \"num_unique_values\": 4,\n        \"samples\": [\n          0.7818984723026766,\n          0.7383707653116804,\n          0.5657096975855836\n        ],\n        \"semantic_type\": \"\",\n        \"description\": \"\"\n      }\n    },\n    {\n      \"column\": \"Social Support\",\n      \"properties\": {\n        \"dtype\": \"number\",\n        \"std\": 0.23351341534298797,\n        \"min\": 0.43732615052600327,\n        \"max\": 1.0,\n        \"num_unique_values\": 4,\n        \"samples\": [\n          0.6433731881208568,\n          1.0,\n          0.43732615052600327\n        ],\n        \"semantic_type\": \"\",\n        \"description\": \"\"\n      }\n    }\n  ]\n}"
            }
          },
          "metadata": {},
          "execution_count": 48
        }
      ]
    },
    {
      "cell_type": "markdown",
      "source": [
        "### **Reflection Questions**\n",
        "---\n",
        "1. Is there a noticeable difference in happiness scores between different regions?\n",
        "2. Does any region display a significant disparity between its country with the highest happiness score and its country with the lowest?\n",
        "3. How do variables such as `Social Support`, `GDP`, and `Freedom` influence a country's happiness score? Do any variables seem to influence a country's happiness score more than others?\n",
        "4. What are other relationships between variables that you think may be useful to visualize? What kind of data visualization graph would you use?\n",
        "5. Consider the conceptual definitions of the features provided in the dataset. Are there any features that seem ambiguous or open to interpretation? How might these conceptual definitions impact the accuracy and reliability of the models when predicting happiness levels?\n",
        "6. Reflect on the cultural and contextual factors that may influence the interpretation and relevance of the features in different countries. How might the meaning of a specific feature differ across diverse cultural and socioeconomic contexts?"
      ],
      "metadata": {
        "id": "uQr8LsOKkeU5"
      }
    },
    {
      "cell_type": "markdown",
      "metadata": {
        "id": "tR2_M-tIYyfD"
      },
      "source": [
        "<a name=\"p2\"></a>\n",
        "\n",
        "---\n",
        "## **Part 2: Predicting Happiness Score**\n",
        "---\n",
        "\n",
        "Now you will create, evaluate, and train a machine learning model to predict the happiness score of a country based on the provided numerical features. It is up to you to determine if you should be using Linear Regression or KNN here.\n",
        "\n",
        "<br>\n",
        "\n",
        "You will do this two times as follows:\n",
        "\n",
        "**Part 2.1**: Using All Numerical Features\n",
        "\n",
        "**Part 2.2**: Using the 3 Best Numerical Features"
      ]
    },
    {
      "cell_type": "markdown",
      "source": [
        "<a name=\"p21\"></a>\n",
        "\n",
        "---\n",
        "### **Part 2.1: Using All Numerical Features**\n",
        "---"
      ],
      "metadata": {
        "id": "lAnwuc5ie4jU"
      }
    },
    {
      "cell_type": "markdown",
      "source": [
        "#### **Step #1: Load in the data**\n",
        "\n",
        "This step was completed in Part 1!"
      ],
      "metadata": {
        "id": "4rq3tDncvCOd"
      }
    },
    {
      "cell_type": "markdown",
      "metadata": {
        "id": "Lf5OrHhNifXL"
      },
      "source": [
        "#### **Step #2: Decide independent and dependent variables**\n",
        "\n",
        "Complete the code below to decide the independent and dependent variables.\n",
        "\n",
        "<br>\n",
        "\n",
        "**NOTE**: The dependent variable (label) for all of Part 2 is `Happiness Score`. Using one of several pandas functions, you can determine the numerical features available and use them all as the independent variables."
      ]
    },
    {
      "cell_type": "code",
      "source": [
        "happy_df.select_dtypes(include='number')"
      ],
      "metadata": {
        "id": "nt2s_Sh8gE2f",
        "outputId": "0aa79777-6ad3-4adc-acc1-bf063bad2453",
        "colab": {
          "base_uri": "https://localhost:8080/",
          "height": 424
        }
      },
      "execution_count": 49,
      "outputs": [
        {
          "output_type": "execute_result",
          "data": {
            "text/plain": [
              "     Happiness Score      GDP  Social Support  Healthy Life Expectancy  \\\n",
              "0              7.587  1.39651         1.34951                  0.94143   \n",
              "1              7.561  1.30232         1.40223                  0.94784   \n",
              "2              7.527  1.32548         1.36058                  0.87464   \n",
              "3              7.522  1.45900         1.33095                  0.88521   \n",
              "4              7.427  1.32629         1.32261                  0.90563   \n",
              "..               ...      ...             ...                      ...   \n",
              "157            3.465  0.22208         0.77370                  0.42864   \n",
              "158            3.340  0.28665         0.35386                  0.31910   \n",
              "159            3.006  0.66320         0.47489                  0.72193   \n",
              "160            2.905  0.01530         0.41587                  0.22396   \n",
              "161            2.839  0.20868         0.13995                  0.28443   \n",
              "\n",
              "     Freedom  Corruption Perception  Generosity  Region Encoded  \n",
              "0    0.66557                0.41978     0.29678               0  \n",
              "1    0.62877                0.14145     0.43630               0  \n",
              "2    0.64938                0.48357     0.34139               0  \n",
              "3    0.66973                0.36503     0.34699               0  \n",
              "4    0.63297                0.32957     0.45811               1  \n",
              "..       ...                    ...         ...             ...  \n",
              "157  0.59201                0.55191     0.22628               8  \n",
              "158  0.48450                0.08010     0.18260               8  \n",
              "159  0.15684                0.18906     0.47179               3  \n",
              "160  0.11850                0.10062     0.19727               8  \n",
              "161  0.36453                0.10731     0.16681               8  \n",
              "\n",
              "[156 rows x 8 columns]"
            ],
            "text/html": [
              "\n",
              "  <div id=\"df-e72e959f-ae60-45b2-8749-a9278e3c65f0\" class=\"colab-df-container\">\n",
              "    <div>\n",
              "<style scoped>\n",
              "    .dataframe tbody tr th:only-of-type {\n",
              "        vertical-align: middle;\n",
              "    }\n",
              "\n",
              "    .dataframe tbody tr th {\n",
              "        vertical-align: top;\n",
              "    }\n",
              "\n",
              "    .dataframe thead th {\n",
              "        text-align: right;\n",
              "    }\n",
              "</style>\n",
              "<table border=\"1\" class=\"dataframe\">\n",
              "  <thead>\n",
              "    <tr style=\"text-align: right;\">\n",
              "      <th></th>\n",
              "      <th>Happiness Score</th>\n",
              "      <th>GDP</th>\n",
              "      <th>Social Support</th>\n",
              "      <th>Healthy Life Expectancy</th>\n",
              "      <th>Freedom</th>\n",
              "      <th>Corruption Perception</th>\n",
              "      <th>Generosity</th>\n",
              "      <th>Region Encoded</th>\n",
              "    </tr>\n",
              "  </thead>\n",
              "  <tbody>\n",
              "    <tr>\n",
              "      <th>0</th>\n",
              "      <td>7.587</td>\n",
              "      <td>1.39651</td>\n",
              "      <td>1.34951</td>\n",
              "      <td>0.94143</td>\n",
              "      <td>0.66557</td>\n",
              "      <td>0.41978</td>\n",
              "      <td>0.29678</td>\n",
              "      <td>0</td>\n",
              "    </tr>\n",
              "    <tr>\n",
              "      <th>1</th>\n",
              "      <td>7.561</td>\n",
              "      <td>1.30232</td>\n",
              "      <td>1.40223</td>\n",
              "      <td>0.94784</td>\n",
              "      <td>0.62877</td>\n",
              "      <td>0.14145</td>\n",
              "      <td>0.43630</td>\n",
              "      <td>0</td>\n",
              "    </tr>\n",
              "    <tr>\n",
              "      <th>2</th>\n",
              "      <td>7.527</td>\n",
              "      <td>1.32548</td>\n",
              "      <td>1.36058</td>\n",
              "      <td>0.87464</td>\n",
              "      <td>0.64938</td>\n",
              "      <td>0.48357</td>\n",
              "      <td>0.34139</td>\n",
              "      <td>0</td>\n",
              "    </tr>\n",
              "    <tr>\n",
              "      <th>3</th>\n",
              "      <td>7.522</td>\n",
              "      <td>1.45900</td>\n",
              "      <td>1.33095</td>\n",
              "      <td>0.88521</td>\n",
              "      <td>0.66973</td>\n",
              "      <td>0.36503</td>\n",
              "      <td>0.34699</td>\n",
              "      <td>0</td>\n",
              "    </tr>\n",
              "    <tr>\n",
              "      <th>4</th>\n",
              "      <td>7.427</td>\n",
              "      <td>1.32629</td>\n",
              "      <td>1.32261</td>\n",
              "      <td>0.90563</td>\n",
              "      <td>0.63297</td>\n",
              "      <td>0.32957</td>\n",
              "      <td>0.45811</td>\n",
              "      <td>1</td>\n",
              "    </tr>\n",
              "    <tr>\n",
              "      <th>...</th>\n",
              "      <td>...</td>\n",
              "      <td>...</td>\n",
              "      <td>...</td>\n",
              "      <td>...</td>\n",
              "      <td>...</td>\n",
              "      <td>...</td>\n",
              "      <td>...</td>\n",
              "      <td>...</td>\n",
              "    </tr>\n",
              "    <tr>\n",
              "      <th>157</th>\n",
              "      <td>3.465</td>\n",
              "      <td>0.22208</td>\n",
              "      <td>0.77370</td>\n",
              "      <td>0.42864</td>\n",
              "      <td>0.59201</td>\n",
              "      <td>0.55191</td>\n",
              "      <td>0.22628</td>\n",
              "      <td>8</td>\n",
              "    </tr>\n",
              "    <tr>\n",
              "      <th>158</th>\n",
              "      <td>3.340</td>\n",
              "      <td>0.28665</td>\n",
              "      <td>0.35386</td>\n",
              "      <td>0.31910</td>\n",
              "      <td>0.48450</td>\n",
              "      <td>0.08010</td>\n",
              "      <td>0.18260</td>\n",
              "      <td>8</td>\n",
              "    </tr>\n",
              "    <tr>\n",
              "      <th>159</th>\n",
              "      <td>3.006</td>\n",
              "      <td>0.66320</td>\n",
              "      <td>0.47489</td>\n",
              "      <td>0.72193</td>\n",
              "      <td>0.15684</td>\n",
              "      <td>0.18906</td>\n",
              "      <td>0.47179</td>\n",
              "      <td>3</td>\n",
              "    </tr>\n",
              "    <tr>\n",
              "      <th>160</th>\n",
              "      <td>2.905</td>\n",
              "      <td>0.01530</td>\n",
              "      <td>0.41587</td>\n",
              "      <td>0.22396</td>\n",
              "      <td>0.11850</td>\n",
              "      <td>0.10062</td>\n",
              "      <td>0.19727</td>\n",
              "      <td>8</td>\n",
              "    </tr>\n",
              "    <tr>\n",
              "      <th>161</th>\n",
              "      <td>2.839</td>\n",
              "      <td>0.20868</td>\n",
              "      <td>0.13995</td>\n",
              "      <td>0.28443</td>\n",
              "      <td>0.36453</td>\n",
              "      <td>0.10731</td>\n",
              "      <td>0.16681</td>\n",
              "      <td>8</td>\n",
              "    </tr>\n",
              "  </tbody>\n",
              "</table>\n",
              "<p>156 rows × 8 columns</p>\n",
              "</div>\n",
              "    <div class=\"colab-df-buttons\">\n",
              "\n",
              "  <div class=\"colab-df-container\">\n",
              "    <button class=\"colab-df-convert\" onclick=\"convertToInteractive('df-e72e959f-ae60-45b2-8749-a9278e3c65f0')\"\n",
              "            title=\"Convert this dataframe to an interactive table.\"\n",
              "            style=\"display:none;\">\n",
              "\n",
              "  <svg xmlns=\"http://www.w3.org/2000/svg\" height=\"24px\" viewBox=\"0 -960 960 960\">\n",
              "    <path d=\"M120-120v-720h720v720H120Zm60-500h600v-160H180v160Zm220 220h160v-160H400v160Zm0 220h160v-160H400v160ZM180-400h160v-160H180v160Zm440 0h160v-160H620v160ZM180-180h160v-160H180v160Zm440 0h160v-160H620v160Z\"/>\n",
              "  </svg>\n",
              "    </button>\n",
              "\n",
              "  <style>\n",
              "    .colab-df-container {\n",
              "      display:flex;\n",
              "      gap: 12px;\n",
              "    }\n",
              "\n",
              "    .colab-df-convert {\n",
              "      background-color: #E8F0FE;\n",
              "      border: none;\n",
              "      border-radius: 50%;\n",
              "      cursor: pointer;\n",
              "      display: none;\n",
              "      fill: #1967D2;\n",
              "      height: 32px;\n",
              "      padding: 0 0 0 0;\n",
              "      width: 32px;\n",
              "    }\n",
              "\n",
              "    .colab-df-convert:hover {\n",
              "      background-color: #E2EBFA;\n",
              "      box-shadow: 0px 1px 2px rgba(60, 64, 67, 0.3), 0px 1px 3px 1px rgba(60, 64, 67, 0.15);\n",
              "      fill: #174EA6;\n",
              "    }\n",
              "\n",
              "    .colab-df-buttons div {\n",
              "      margin-bottom: 4px;\n",
              "    }\n",
              "\n",
              "    [theme=dark] .colab-df-convert {\n",
              "      background-color: #3B4455;\n",
              "      fill: #D2E3FC;\n",
              "    }\n",
              "\n",
              "    [theme=dark] .colab-df-convert:hover {\n",
              "      background-color: #434B5C;\n",
              "      box-shadow: 0px 1px 3px 1px rgba(0, 0, 0, 0.15);\n",
              "      filter: drop-shadow(0px 1px 2px rgba(0, 0, 0, 0.3));\n",
              "      fill: #FFFFFF;\n",
              "    }\n",
              "  </style>\n",
              "\n",
              "    <script>\n",
              "      const buttonEl =\n",
              "        document.querySelector('#df-e72e959f-ae60-45b2-8749-a9278e3c65f0 button.colab-df-convert');\n",
              "      buttonEl.style.display =\n",
              "        google.colab.kernel.accessAllowed ? 'block' : 'none';\n",
              "\n",
              "      async function convertToInteractive(key) {\n",
              "        const element = document.querySelector('#df-e72e959f-ae60-45b2-8749-a9278e3c65f0');\n",
              "        const dataTable =\n",
              "          await google.colab.kernel.invokeFunction('convertToInteractive',\n",
              "                                                    [key], {});\n",
              "        if (!dataTable) return;\n",
              "\n",
              "        const docLinkHtml = 'Like what you see? Visit the ' +\n",
              "          '<a target=\"_blank\" href=https://colab.research.google.com/notebooks/data_table.ipynb>data table notebook</a>'\n",
              "          + ' to learn more about interactive tables.';\n",
              "        element.innerHTML = '';\n",
              "        dataTable['output_type'] = 'display_data';\n",
              "        await google.colab.output.renderOutput(dataTable, element);\n",
              "        const docLink = document.createElement('div');\n",
              "        docLink.innerHTML = docLinkHtml;\n",
              "        element.appendChild(docLink);\n",
              "      }\n",
              "    </script>\n",
              "  </div>\n",
              "\n",
              "\n",
              "    <div id=\"df-efdb9952-b97c-43c9-8896-7660f19adbe9\">\n",
              "      <button class=\"colab-df-quickchart\" onclick=\"quickchart('df-efdb9952-b97c-43c9-8896-7660f19adbe9')\"\n",
              "                title=\"Suggest charts\"\n",
              "                style=\"display:none;\">\n",
              "\n",
              "<svg xmlns=\"http://www.w3.org/2000/svg\" height=\"24px\"viewBox=\"0 0 24 24\"\n",
              "     width=\"24px\">\n",
              "    <g>\n",
              "        <path d=\"M19 3H5c-1.1 0-2 .9-2 2v14c0 1.1.9 2 2 2h14c1.1 0 2-.9 2-2V5c0-1.1-.9-2-2-2zM9 17H7v-7h2v7zm4 0h-2V7h2v10zm4 0h-2v-4h2v4z\"/>\n",
              "    </g>\n",
              "</svg>\n",
              "      </button>\n",
              "\n",
              "<style>\n",
              "  .colab-df-quickchart {\n",
              "      --bg-color: #E8F0FE;\n",
              "      --fill-color: #1967D2;\n",
              "      --hover-bg-color: #E2EBFA;\n",
              "      --hover-fill-color: #174EA6;\n",
              "      --disabled-fill-color: #AAA;\n",
              "      --disabled-bg-color: #DDD;\n",
              "  }\n",
              "\n",
              "  [theme=dark] .colab-df-quickchart {\n",
              "      --bg-color: #3B4455;\n",
              "      --fill-color: #D2E3FC;\n",
              "      --hover-bg-color: #434B5C;\n",
              "      --hover-fill-color: #FFFFFF;\n",
              "      --disabled-bg-color: #3B4455;\n",
              "      --disabled-fill-color: #666;\n",
              "  }\n",
              "\n",
              "  .colab-df-quickchart {\n",
              "    background-color: var(--bg-color);\n",
              "    border: none;\n",
              "    border-radius: 50%;\n",
              "    cursor: pointer;\n",
              "    display: none;\n",
              "    fill: var(--fill-color);\n",
              "    height: 32px;\n",
              "    padding: 0;\n",
              "    width: 32px;\n",
              "  }\n",
              "\n",
              "  .colab-df-quickchart:hover {\n",
              "    background-color: var(--hover-bg-color);\n",
              "    box-shadow: 0 1px 2px rgba(60, 64, 67, 0.3), 0 1px 3px 1px rgba(60, 64, 67, 0.15);\n",
              "    fill: var(--button-hover-fill-color);\n",
              "  }\n",
              "\n",
              "  .colab-df-quickchart-complete:disabled,\n",
              "  .colab-df-quickchart-complete:disabled:hover {\n",
              "    background-color: var(--disabled-bg-color);\n",
              "    fill: var(--disabled-fill-color);\n",
              "    box-shadow: none;\n",
              "  }\n",
              "\n",
              "  .colab-df-spinner {\n",
              "    border: 2px solid var(--fill-color);\n",
              "    border-color: transparent;\n",
              "    border-bottom-color: var(--fill-color);\n",
              "    animation:\n",
              "      spin 1s steps(1) infinite;\n",
              "  }\n",
              "\n",
              "  @keyframes spin {\n",
              "    0% {\n",
              "      border-color: transparent;\n",
              "      border-bottom-color: var(--fill-color);\n",
              "      border-left-color: var(--fill-color);\n",
              "    }\n",
              "    20% {\n",
              "      border-color: transparent;\n",
              "      border-left-color: var(--fill-color);\n",
              "      border-top-color: var(--fill-color);\n",
              "    }\n",
              "    30% {\n",
              "      border-color: transparent;\n",
              "      border-left-color: var(--fill-color);\n",
              "      border-top-color: var(--fill-color);\n",
              "      border-right-color: var(--fill-color);\n",
              "    }\n",
              "    40% {\n",
              "      border-color: transparent;\n",
              "      border-right-color: var(--fill-color);\n",
              "      border-top-color: var(--fill-color);\n",
              "    }\n",
              "    60% {\n",
              "      border-color: transparent;\n",
              "      border-right-color: var(--fill-color);\n",
              "    }\n",
              "    80% {\n",
              "      border-color: transparent;\n",
              "      border-right-color: var(--fill-color);\n",
              "      border-bottom-color: var(--fill-color);\n",
              "    }\n",
              "    90% {\n",
              "      border-color: transparent;\n",
              "      border-bottom-color: var(--fill-color);\n",
              "    }\n",
              "  }\n",
              "</style>\n",
              "\n",
              "      <script>\n",
              "        async function quickchart(key) {\n",
              "          const quickchartButtonEl =\n",
              "            document.querySelector('#' + key + ' button');\n",
              "          quickchartButtonEl.disabled = true;  // To prevent multiple clicks.\n",
              "          quickchartButtonEl.classList.add('colab-df-spinner');\n",
              "          try {\n",
              "            const charts = await google.colab.kernel.invokeFunction(\n",
              "                'suggestCharts', [key], {});\n",
              "          } catch (error) {\n",
              "            console.error('Error during call to suggestCharts:', error);\n",
              "          }\n",
              "          quickchartButtonEl.classList.remove('colab-df-spinner');\n",
              "          quickchartButtonEl.classList.add('colab-df-quickchart-complete');\n",
              "        }\n",
              "        (() => {\n",
              "          let quickchartButtonEl =\n",
              "            document.querySelector('#df-efdb9952-b97c-43c9-8896-7660f19adbe9 button');\n",
              "          quickchartButtonEl.style.display =\n",
              "            google.colab.kernel.accessAllowed ? 'block' : 'none';\n",
              "        })();\n",
              "      </script>\n",
              "    </div>\n",
              "\n",
              "    </div>\n",
              "  </div>\n"
            ],
            "application/vnd.google.colaboratory.intrinsic+json": {
              "type": "dataframe",
              "summary": "{\n  \"name\": \"happy_df\",\n  \"rows\": 156,\n  \"fields\": [\n    {\n      \"column\": \"Happiness Score\",\n      \"properties\": {\n        \"dtype\": \"number\",\n        \"std\": 1.1421771944616943,\n        \"min\": 2.839,\n        \"max\": 7.587,\n        \"num_unique_values\": 155,\n        \"samples\": [\n          5.129,\n          3.781,\n          6.477\n        ],\n        \"semantic_type\": \"\",\n        \"description\": \"\"\n      }\n    },\n    {\n      \"column\": \"GDP\",\n      \"properties\": {\n        \"dtype\": \"number\",\n        \"std\": 0.4032819223180377,\n        \"min\": 0.0,\n        \"max\": 1.69042,\n        \"num_unique_values\": 156,\n        \"samples\": [\n          0.59066,\n          1.38604,\n          0.47038\n        ],\n        \"semantic_type\": \"\",\n        \"description\": \"\"\n      }\n    },\n    {\n      \"column\": \"Social Support\",\n      \"properties\": {\n        \"dtype\": \"number\",\n        \"std\": 0.2730014013254164,\n        \"min\": 0.0,\n        \"max\": 1.40223,\n        \"num_unique_values\": 156,\n        \"samples\": [\n          0.73803,\n          1.05818,\n          0.91612\n        ],\n        \"semantic_type\": \"\",\n        \"description\": \"\"\n      }\n    },\n    {\n      \"column\": \"Healthy Life Expectancy\",\n      \"properties\": {\n        \"dtype\": \"number\",\n        \"std\": 0.24778011895682114,\n        \"min\": 0.0,\n        \"max\": 1.02525,\n        \"num_unique_values\": 155,\n        \"samples\": [\n          0.29924,\n          0.38215,\n          0.69077\n        ],\n        \"semantic_type\": \"\",\n        \"description\": \"\"\n      }\n    },\n    {\n      \"column\": \"Freedom\",\n      \"properties\": {\n        \"dtype\": \"number\",\n        \"std\": 0.15062784129386392,\n        \"min\": 0.0,\n        \"max\": 0.66973,\n        \"num_unique_values\": 156,\n        \"samples\": [\n          0.59591,\n          0.59608,\n          0.48827\n        ],\n        \"semantic_type\": \"\",\n        \"description\": \"\"\n      }\n    },\n    {\n      \"column\": \"Corruption Perception\",\n      \"properties\": {\n        \"dtype\": \"number\",\n        \"std\": 0.12032114550430165,\n        \"min\": 0.0,\n        \"max\": 0.55191,\n        \"num_unique_values\": 155,\n        \"samples\": [\n          0.12468,\n          0.05747,\n          0.0512\n        ],\n        \"semantic_type\": \"\",\n        \"description\": \"\"\n      }\n    },\n    {\n      \"column\": \"Generosity\",\n      \"properties\": {\n        \"dtype\": \"number\",\n        \"std\": 0.12725758836981232,\n        \"min\": 0.0,\n        \"max\": 0.79588,\n        \"num_unique_values\": 156,\n        \"samples\": [\n          0.42192,\n          0.39478,\n          0.19591\n        ],\n        \"semantic_type\": \"\",\n        \"description\": \"\"\n      }\n    },\n    {\n      \"column\": \"Region Encoded\",\n      \"properties\": {\n        \"dtype\": \"number\",\n        \"std\": 2,\n        \"min\": 0,\n        \"max\": 9,\n        \"num_unique_values\": 10,\n        \"samples\": [\n          8,\n          1,\n          5\n        ],\n        \"semantic_type\": \"\",\n        \"description\": \"\"\n      }\n    }\n  ]\n}"
            }
          },
          "metadata": {},
          "execution_count": 49
        }
      ]
    },
    {
      "cell_type": "code",
      "source": [
        "happy_df.select_dtypes(include='number').corr()"
      ],
      "metadata": {
        "id": "uGWUyban8qW7",
        "outputId": "0dc84495-1512-4078-a49a-591b4b89dc5f",
        "colab": {
          "base_uri": "https://localhost:8080/",
          "height": 300
        }
      },
      "execution_count": 61,
      "outputs": [
        {
          "output_type": "execute_result",
          "data": {
            "text/plain": [
              "                         Happiness Score       GDP  Social Support  \\\n",
              "Happiness Score                 1.000000  0.781898        0.738371   \n",
              "GDP                             0.781898  1.000000        0.643373   \n",
              "Social Support                  0.738371  0.643373        1.000000   \n",
              "Healthy Life Expectancy         0.722515  0.815871        0.527575   \n",
              "Freedom                         0.565710  0.362182        0.437326   \n",
              "Corruption Perception           0.399748  0.303918        0.205316   \n",
              "Generosity                      0.175286 -0.017218        0.082820   \n",
              "Region Encoded                 -0.687681 -0.688493       -0.495771   \n",
              "\n",
              "                         Healthy Life Expectancy   Freedom  \\\n",
              "Happiness Score                         0.722515  0.565710   \n",
              "GDP                                     0.815871  0.362182   \n",
              "Social Support                          0.527575  0.437326   \n",
              "Healthy Life Expectancy                 1.000000  0.355214   \n",
              "Freedom                                 0.355214  1.000000   \n",
              "Corruption Perception                   0.247486  0.491362   \n",
              "Generosity                              0.103858  0.370082   \n",
              "Region Encoded                         -0.709942 -0.371392   \n",
              "\n",
              "                         Corruption Perception  Generosity  Region Encoded  \n",
              "Happiness Score                       0.399748    0.175286       -0.687681  \n",
              "GDP                                   0.303918   -0.017218       -0.688493  \n",
              "Social Support                        0.205316    0.082820       -0.495771  \n",
              "Healthy Life Expectancy               0.247486    0.103858       -0.709942  \n",
              "Freedom                               0.491362    0.370082       -0.371392  \n",
              "Corruption Perception                 1.000000    0.274579       -0.340560  \n",
              "Generosity                            0.274579    1.000000       -0.155978  \n",
              "Region Encoded                       -0.340560   -0.155978        1.000000  "
            ],
            "text/html": [
              "\n",
              "  <div id=\"df-39edd0ab-54e0-4481-b381-2ee3e459dcf6\" class=\"colab-df-container\">\n",
              "    <div>\n",
              "<style scoped>\n",
              "    .dataframe tbody tr th:only-of-type {\n",
              "        vertical-align: middle;\n",
              "    }\n",
              "\n",
              "    .dataframe tbody tr th {\n",
              "        vertical-align: top;\n",
              "    }\n",
              "\n",
              "    .dataframe thead th {\n",
              "        text-align: right;\n",
              "    }\n",
              "</style>\n",
              "<table border=\"1\" class=\"dataframe\">\n",
              "  <thead>\n",
              "    <tr style=\"text-align: right;\">\n",
              "      <th></th>\n",
              "      <th>Happiness Score</th>\n",
              "      <th>GDP</th>\n",
              "      <th>Social Support</th>\n",
              "      <th>Healthy Life Expectancy</th>\n",
              "      <th>Freedom</th>\n",
              "      <th>Corruption Perception</th>\n",
              "      <th>Generosity</th>\n",
              "      <th>Region Encoded</th>\n",
              "    </tr>\n",
              "  </thead>\n",
              "  <tbody>\n",
              "    <tr>\n",
              "      <th>Happiness Score</th>\n",
              "      <td>1.000000</td>\n",
              "      <td>0.781898</td>\n",
              "      <td>0.738371</td>\n",
              "      <td>0.722515</td>\n",
              "      <td>0.565710</td>\n",
              "      <td>0.399748</td>\n",
              "      <td>0.175286</td>\n",
              "      <td>-0.687681</td>\n",
              "    </tr>\n",
              "    <tr>\n",
              "      <th>GDP</th>\n",
              "      <td>0.781898</td>\n",
              "      <td>1.000000</td>\n",
              "      <td>0.643373</td>\n",
              "      <td>0.815871</td>\n",
              "      <td>0.362182</td>\n",
              "      <td>0.303918</td>\n",
              "      <td>-0.017218</td>\n",
              "      <td>-0.688493</td>\n",
              "    </tr>\n",
              "    <tr>\n",
              "      <th>Social Support</th>\n",
              "      <td>0.738371</td>\n",
              "      <td>0.643373</td>\n",
              "      <td>1.000000</td>\n",
              "      <td>0.527575</td>\n",
              "      <td>0.437326</td>\n",
              "      <td>0.205316</td>\n",
              "      <td>0.082820</td>\n",
              "      <td>-0.495771</td>\n",
              "    </tr>\n",
              "    <tr>\n",
              "      <th>Healthy Life Expectancy</th>\n",
              "      <td>0.722515</td>\n",
              "      <td>0.815871</td>\n",
              "      <td>0.527575</td>\n",
              "      <td>1.000000</td>\n",
              "      <td>0.355214</td>\n",
              "      <td>0.247486</td>\n",
              "      <td>0.103858</td>\n",
              "      <td>-0.709942</td>\n",
              "    </tr>\n",
              "    <tr>\n",
              "      <th>Freedom</th>\n",
              "      <td>0.565710</td>\n",
              "      <td>0.362182</td>\n",
              "      <td>0.437326</td>\n",
              "      <td>0.355214</td>\n",
              "      <td>1.000000</td>\n",
              "      <td>0.491362</td>\n",
              "      <td>0.370082</td>\n",
              "      <td>-0.371392</td>\n",
              "    </tr>\n",
              "    <tr>\n",
              "      <th>Corruption Perception</th>\n",
              "      <td>0.399748</td>\n",
              "      <td>0.303918</td>\n",
              "      <td>0.205316</td>\n",
              "      <td>0.247486</td>\n",
              "      <td>0.491362</td>\n",
              "      <td>1.000000</td>\n",
              "      <td>0.274579</td>\n",
              "      <td>-0.340560</td>\n",
              "    </tr>\n",
              "    <tr>\n",
              "      <th>Generosity</th>\n",
              "      <td>0.175286</td>\n",
              "      <td>-0.017218</td>\n",
              "      <td>0.082820</td>\n",
              "      <td>0.103858</td>\n",
              "      <td>0.370082</td>\n",
              "      <td>0.274579</td>\n",
              "      <td>1.000000</td>\n",
              "      <td>-0.155978</td>\n",
              "    </tr>\n",
              "    <tr>\n",
              "      <th>Region Encoded</th>\n",
              "      <td>-0.687681</td>\n",
              "      <td>-0.688493</td>\n",
              "      <td>-0.495771</td>\n",
              "      <td>-0.709942</td>\n",
              "      <td>-0.371392</td>\n",
              "      <td>-0.340560</td>\n",
              "      <td>-0.155978</td>\n",
              "      <td>1.000000</td>\n",
              "    </tr>\n",
              "  </tbody>\n",
              "</table>\n",
              "</div>\n",
              "    <div class=\"colab-df-buttons\">\n",
              "\n",
              "  <div class=\"colab-df-container\">\n",
              "    <button class=\"colab-df-convert\" onclick=\"convertToInteractive('df-39edd0ab-54e0-4481-b381-2ee3e459dcf6')\"\n",
              "            title=\"Convert this dataframe to an interactive table.\"\n",
              "            style=\"display:none;\">\n",
              "\n",
              "  <svg xmlns=\"http://www.w3.org/2000/svg\" height=\"24px\" viewBox=\"0 -960 960 960\">\n",
              "    <path d=\"M120-120v-720h720v720H120Zm60-500h600v-160H180v160Zm220 220h160v-160H400v160Zm0 220h160v-160H400v160ZM180-400h160v-160H180v160Zm440 0h160v-160H620v160ZM180-180h160v-160H180v160Zm440 0h160v-160H620v160Z\"/>\n",
              "  </svg>\n",
              "    </button>\n",
              "\n",
              "  <style>\n",
              "    .colab-df-container {\n",
              "      display:flex;\n",
              "      gap: 12px;\n",
              "    }\n",
              "\n",
              "    .colab-df-convert {\n",
              "      background-color: #E8F0FE;\n",
              "      border: none;\n",
              "      border-radius: 50%;\n",
              "      cursor: pointer;\n",
              "      display: none;\n",
              "      fill: #1967D2;\n",
              "      height: 32px;\n",
              "      padding: 0 0 0 0;\n",
              "      width: 32px;\n",
              "    }\n",
              "\n",
              "    .colab-df-convert:hover {\n",
              "      background-color: #E2EBFA;\n",
              "      box-shadow: 0px 1px 2px rgba(60, 64, 67, 0.3), 0px 1px 3px 1px rgba(60, 64, 67, 0.15);\n",
              "      fill: #174EA6;\n",
              "    }\n",
              "\n",
              "    .colab-df-buttons div {\n",
              "      margin-bottom: 4px;\n",
              "    }\n",
              "\n",
              "    [theme=dark] .colab-df-convert {\n",
              "      background-color: #3B4455;\n",
              "      fill: #D2E3FC;\n",
              "    }\n",
              "\n",
              "    [theme=dark] .colab-df-convert:hover {\n",
              "      background-color: #434B5C;\n",
              "      box-shadow: 0px 1px 3px 1px rgba(0, 0, 0, 0.15);\n",
              "      filter: drop-shadow(0px 1px 2px rgba(0, 0, 0, 0.3));\n",
              "      fill: #FFFFFF;\n",
              "    }\n",
              "  </style>\n",
              "\n",
              "    <script>\n",
              "      const buttonEl =\n",
              "        document.querySelector('#df-39edd0ab-54e0-4481-b381-2ee3e459dcf6 button.colab-df-convert');\n",
              "      buttonEl.style.display =\n",
              "        google.colab.kernel.accessAllowed ? 'block' : 'none';\n",
              "\n",
              "      async function convertToInteractive(key) {\n",
              "        const element = document.querySelector('#df-39edd0ab-54e0-4481-b381-2ee3e459dcf6');\n",
              "        const dataTable =\n",
              "          await google.colab.kernel.invokeFunction('convertToInteractive',\n",
              "                                                    [key], {});\n",
              "        if (!dataTable) return;\n",
              "\n",
              "        const docLinkHtml = 'Like what you see? Visit the ' +\n",
              "          '<a target=\"_blank\" href=https://colab.research.google.com/notebooks/data_table.ipynb>data table notebook</a>'\n",
              "          + ' to learn more about interactive tables.';\n",
              "        element.innerHTML = '';\n",
              "        dataTable['output_type'] = 'display_data';\n",
              "        await google.colab.output.renderOutput(dataTable, element);\n",
              "        const docLink = document.createElement('div');\n",
              "        docLink.innerHTML = docLinkHtml;\n",
              "        element.appendChild(docLink);\n",
              "      }\n",
              "    </script>\n",
              "  </div>\n",
              "\n",
              "\n",
              "    <div id=\"df-11ef8ae2-5f8b-476f-98d1-b9785d076a04\">\n",
              "      <button class=\"colab-df-quickchart\" onclick=\"quickchart('df-11ef8ae2-5f8b-476f-98d1-b9785d076a04')\"\n",
              "                title=\"Suggest charts\"\n",
              "                style=\"display:none;\">\n",
              "\n",
              "<svg xmlns=\"http://www.w3.org/2000/svg\" height=\"24px\"viewBox=\"0 0 24 24\"\n",
              "     width=\"24px\">\n",
              "    <g>\n",
              "        <path d=\"M19 3H5c-1.1 0-2 .9-2 2v14c0 1.1.9 2 2 2h14c1.1 0 2-.9 2-2V5c0-1.1-.9-2-2-2zM9 17H7v-7h2v7zm4 0h-2V7h2v10zm4 0h-2v-4h2v4z\"/>\n",
              "    </g>\n",
              "</svg>\n",
              "      </button>\n",
              "\n",
              "<style>\n",
              "  .colab-df-quickchart {\n",
              "      --bg-color: #E8F0FE;\n",
              "      --fill-color: #1967D2;\n",
              "      --hover-bg-color: #E2EBFA;\n",
              "      --hover-fill-color: #174EA6;\n",
              "      --disabled-fill-color: #AAA;\n",
              "      --disabled-bg-color: #DDD;\n",
              "  }\n",
              "\n",
              "  [theme=dark] .colab-df-quickchart {\n",
              "      --bg-color: #3B4455;\n",
              "      --fill-color: #D2E3FC;\n",
              "      --hover-bg-color: #434B5C;\n",
              "      --hover-fill-color: #FFFFFF;\n",
              "      --disabled-bg-color: #3B4455;\n",
              "      --disabled-fill-color: #666;\n",
              "  }\n",
              "\n",
              "  .colab-df-quickchart {\n",
              "    background-color: var(--bg-color);\n",
              "    border: none;\n",
              "    border-radius: 50%;\n",
              "    cursor: pointer;\n",
              "    display: none;\n",
              "    fill: var(--fill-color);\n",
              "    height: 32px;\n",
              "    padding: 0;\n",
              "    width: 32px;\n",
              "  }\n",
              "\n",
              "  .colab-df-quickchart:hover {\n",
              "    background-color: var(--hover-bg-color);\n",
              "    box-shadow: 0 1px 2px rgba(60, 64, 67, 0.3), 0 1px 3px 1px rgba(60, 64, 67, 0.15);\n",
              "    fill: var(--button-hover-fill-color);\n",
              "  }\n",
              "\n",
              "  .colab-df-quickchart-complete:disabled,\n",
              "  .colab-df-quickchart-complete:disabled:hover {\n",
              "    background-color: var(--disabled-bg-color);\n",
              "    fill: var(--disabled-fill-color);\n",
              "    box-shadow: none;\n",
              "  }\n",
              "\n",
              "  .colab-df-spinner {\n",
              "    border: 2px solid var(--fill-color);\n",
              "    border-color: transparent;\n",
              "    border-bottom-color: var(--fill-color);\n",
              "    animation:\n",
              "      spin 1s steps(1) infinite;\n",
              "  }\n",
              "\n",
              "  @keyframes spin {\n",
              "    0% {\n",
              "      border-color: transparent;\n",
              "      border-bottom-color: var(--fill-color);\n",
              "      border-left-color: var(--fill-color);\n",
              "    }\n",
              "    20% {\n",
              "      border-color: transparent;\n",
              "      border-left-color: var(--fill-color);\n",
              "      border-top-color: var(--fill-color);\n",
              "    }\n",
              "    30% {\n",
              "      border-color: transparent;\n",
              "      border-left-color: var(--fill-color);\n",
              "      border-top-color: var(--fill-color);\n",
              "      border-right-color: var(--fill-color);\n",
              "    }\n",
              "    40% {\n",
              "      border-color: transparent;\n",
              "      border-right-color: var(--fill-color);\n",
              "      border-top-color: var(--fill-color);\n",
              "    }\n",
              "    60% {\n",
              "      border-color: transparent;\n",
              "      border-right-color: var(--fill-color);\n",
              "    }\n",
              "    80% {\n",
              "      border-color: transparent;\n",
              "      border-right-color: var(--fill-color);\n",
              "      border-bottom-color: var(--fill-color);\n",
              "    }\n",
              "    90% {\n",
              "      border-color: transparent;\n",
              "      border-bottom-color: var(--fill-color);\n",
              "    }\n",
              "  }\n",
              "</style>\n",
              "\n",
              "      <script>\n",
              "        async function quickchart(key) {\n",
              "          const quickchartButtonEl =\n",
              "            document.querySelector('#' + key + ' button');\n",
              "          quickchartButtonEl.disabled = true;  // To prevent multiple clicks.\n",
              "          quickchartButtonEl.classList.add('colab-df-spinner');\n",
              "          try {\n",
              "            const charts = await google.colab.kernel.invokeFunction(\n",
              "                'suggestCharts', [key], {});\n",
              "          } catch (error) {\n",
              "            console.error('Error during call to suggestCharts:', error);\n",
              "          }\n",
              "          quickchartButtonEl.classList.remove('colab-df-spinner');\n",
              "          quickchartButtonEl.classList.add('colab-df-quickchart-complete');\n",
              "        }\n",
              "        (() => {\n",
              "          let quickchartButtonEl =\n",
              "            document.querySelector('#df-11ef8ae2-5f8b-476f-98d1-b9785d076a04 button');\n",
              "          quickchartButtonEl.style.display =\n",
              "            google.colab.kernel.accessAllowed ? 'block' : 'none';\n",
              "        })();\n",
              "      </script>\n",
              "    </div>\n",
              "\n",
              "    </div>\n",
              "  </div>\n"
            ],
            "application/vnd.google.colaboratory.intrinsic+json": {
              "type": "dataframe",
              "summary": "{\n  \"name\": \"happy_df\",\n  \"rows\": 8,\n  \"fields\": [\n    {\n      \"column\": \"Happiness Score\",\n      \"properties\": {\n        \"dtype\": \"number\",\n        \"std\": 0.5284249957048095,\n        \"min\": -0.6876810785537608,\n        \"max\": 1.0,\n        \"num_unique_values\": 8,\n        \"samples\": [\n          0.7818984723026766,\n          0.39974754482452785,\n          1.0\n        ],\n        \"semantic_type\": \"\",\n        \"description\": \"\"\n      }\n    },\n    {\n      \"column\": \"GDP\",\n      \"properties\": {\n        \"dtype\": \"number\",\n        \"std\": 0.5487096139327565,\n        \"min\": -0.6884933407225297,\n        \"max\": 1.0,\n        \"num_unique_values\": 8,\n        \"samples\": [\n          1.0,\n          0.3039183687127125,\n          0.7818984723026766\n        ],\n        \"semantic_type\": \"\",\n        \"description\": \"\"\n      }\n    },\n    {\n      \"column\": \"Social Support\",\n      \"properties\": {\n        \"dtype\": \"number\",\n        \"std\": 0.4616491901925343,\n        \"min\": -0.4957713490433585,\n        \"max\": 1.0,\n        \"num_unique_values\": 8,\n        \"samples\": [\n          0.6433731881208568,\n          0.20531605371731135,\n          0.7383707653116804\n        ],\n        \"semantic_type\": \"\",\n        \"description\": \"\"\n      }\n    },\n    {\n      \"column\": \"Healthy Life Expectancy\",\n      \"properties\": {\n        \"dtype\": \"number\",\n        \"std\": 0.5339632946790772,\n        \"min\": -0.7099423399504898,\n        \"max\": 1.0,\n        \"num_unique_values\": 8,\n        \"samples\": [\n          0.8158709455101024,\n          0.2474860642669325,\n          0.7225154268610169\n        ],\n        \"semantic_type\": \"\",\n        \"description\": \"\"\n      }\n    },\n    {\n      \"column\": \"Freedom\",\n      \"properties\": {\n        \"dtype\": \"number\",\n        \"std\": 0.3773144528420233,\n        \"min\": -0.3713921874190421,\n        \"max\": 1.0,\n        \"num_unique_values\": 8,\n        \"samples\": [\n          0.3621815696048075,\n          0.4913624945389049,\n          0.5657096975855836\n        ],\n        \"semantic_type\": \"\",\n        \"description\": \"\"\n      }\n    },\n    {\n      \"column\": \"Corruption Perception\",\n      \"properties\": {\n        \"dtype\": \"number\",\n        \"std\": 0.36938883908315706,\n        \"min\": -0.3405598445016776,\n        \"max\": 1.0,\n        \"num_unique_values\": 8,\n        \"samples\": [\n          0.3039183687127125,\n          1.0,\n          0.39974754482452785\n        ],\n        \"semantic_type\": \"\",\n        \"description\": \"\"\n      }\n    },\n    {\n      \"column\": \"Generosity\",\n      \"properties\": {\n        \"dtype\": \"number\",\n        \"std\": 0.351561246550048,\n        \"min\": -0.15597750628177223,\n        \"max\": 1.0,\n        \"num_unique_values\": 8,\n        \"samples\": [\n          -0.017217826305155153,\n          0.27457869863461953,\n          0.17528574594992136\n        ],\n        \"semantic_type\": \"\",\n        \"description\": \"\"\n      }\n    },\n    {\n      \"column\": \"Region Encoded\",\n      \"properties\": {\n        \"dtype\": \"number\",\n        \"std\": 0.5637599586721895,\n        \"min\": -0.7099423399504898,\n        \"max\": 1.0,\n        \"num_unique_values\": 8,\n        \"samples\": [\n          -0.6884933407225297,\n          -0.3405598445016776,\n          -0.6876810785537608\n        ],\n        \"semantic_type\": \"\",\n        \"description\": \"\"\n      }\n    }\n  ]\n}"
            }
          },
          "metadata": {},
          "execution_count": 61
        }
      ]
    },
    {
      "cell_type": "code",
      "source": [
        "# Used 5 variables with strongest correlation to Happiness Score\n",
        "features = happy_df[[\"GDP\", \"Social Support\", \"Healthy Life Expectancy\", \"Freedom\", \"Region Encoded\"]]\n",
        "label = happy_df[\"Happiness Score\"]"
      ],
      "metadata": {
        "id": "roZfBwfPgEiY"
      },
      "execution_count": 62,
      "outputs": []
    },
    {
      "cell_type": "markdown",
      "metadata": {
        "id": "f2My4nq5gKNq"
      },
      "source": [
        "#### **Step #3: Split data into training and testing data**\n",
        "\n",
        "Complete the code below to split the data, using 80% for training and 20% for testing."
      ]
    },
    {
      "cell_type": "code",
      "source": [
        "X_train, X_test, y_train, y_test = train_test_split(features, label, test_size=0.2, random_state=2025)"
      ],
      "metadata": {
        "id": "L-zVhDgvgXMD"
      },
      "execution_count": 63,
      "outputs": []
    },
    {
      "cell_type": "markdown",
      "metadata": {
        "id": "CfiX_8hhg9n8"
      },
      "source": [
        "#### **Step #4: Import the algorithm**\n",
        "\n",
        "We are using `GDP`,\t`Social Support`,\t`Healthy Life Expectancy`, `Freedom`,\t`Corruption Perception`, `Generosity`, and \t`Region Encoded` to predict `Happiness Score`. Which algorithm is best suited for this goal?"
      ]
    },
    {
      "cell_type": "code",
      "source": [
        "from sklearn.linear_model import LinearRegression"
      ],
      "metadata": {
        "id": "Cd1IkHtOg-Ig"
      },
      "execution_count": 54,
      "outputs": []
    },
    {
      "cell_type": "markdown",
      "metadata": {
        "id": "g2KE3jHPhKzg"
      },
      "source": [
        "#### **Step #5: Initialize the model and set hyperparameters**\n",
        "\n",
        "Specifically,\n",
        "* For Linear Regression, there are no hyperparameters to set.\n",
        "* For KNN, choose a reasonable value for `n_neighbors`. You are encouraged to try Steps #5 - 7 for several values and picking the model with the highest performance."
      ]
    },
    {
      "cell_type": "code",
      "source": [
        "model_1 = LinearRegression()"
      ],
      "metadata": {
        "id": "elnmJ3iBhTKR"
      },
      "execution_count": 64,
      "outputs": []
    },
    {
      "cell_type": "markdown",
      "metadata": {
        "id": "0Xb5J75whk-Z"
      },
      "source": [
        "#### **Step #6: Fit your model and make a prediction.**\n",
        "\n",
        "Create a visualization if applicable.\n",
        "\n",
        "Specifically,\n",
        "\n",
        "1. Fit the model to the training data and make predictions on the test data.\n",
        "2. Visualize the results."
      ]
    },
    {
      "cell_type": "markdown",
      "source": [
        "##### **1. Fit the model to the training data.**"
      ],
      "metadata": {
        "id": "zEVQG9nT1P_c"
      }
    },
    {
      "cell_type": "code",
      "source": [
        "model_1.fit(X_train, y_train)\n",
        "predictions = model_1.predict(X_test)"
      ],
      "metadata": {
        "id": "c4SWvBhkiJzD"
      },
      "execution_count": 65,
      "outputs": []
    },
    {
      "cell_type": "markdown",
      "source": [
        "##### **2. Visualize the results.**\n",
        "\n",
        "The code is provided for both linear regression and KNN, but it is up to you to decide which one makes the most sense here."
      ],
      "metadata": {
        "id": "j6ELbxOz1dEJ"
      }
    },
    {
      "cell_type": "markdown",
      "source": [
        "###### **Linear Regression Visualization**"
      ],
      "metadata": {
        "id": "l4LgQGvH1vwz"
      }
    },
    {
      "cell_type": "code",
      "source": [
        "# Visualize comparison of predictions vs. actual values\n",
        "plt.scatter(y_test, predictions)\n",
        "plt.plot([y_test.min(), y_test.max()], [y_test.min(), y_test.max()], color = 'black', label='Correct Predictions')\n",
        "\n",
        "\n",
        "plt.xlabel('True Value')\n",
        "plt.ylabel('Predicted Value')\n",
        "plt.title('Real vs Value')\n",
        "plt.legend()\n",
        "\n",
        "plt.show()"
      ],
      "metadata": {
        "id": "1hJPYG6E1dEK",
        "outputId": "194b5569-ed9a-47b1-b8d8-630323768de5",
        "colab": {
          "base_uri": "https://localhost:8080/",
          "height": 472
        }
      },
      "execution_count": 66,
      "outputs": [
        {
          "output_type": "display_data",
          "data": {
            "text/plain": [
              "<Figure size 640x480 with 1 Axes>"
            ],
            "image/png": "[encoded data removed]"
          },
          "metadata": {}
        }
      ]
    },
    {
      "cell_type": "markdown",
      "source": [
        "###### **KNN Visualization**"
      ],
      "metadata": {
        "id": "5sqApk_B1zFd"
      }
    },
    {
      "cell_type": "code",
      "source": [
        "feature_1_name = 'GDP'\n",
        "feature_2_name = 'Healthy Life Expectancy'\n",
        "\n",
        "\n",
        "# Make the same scatter plot of the training data\n",
        "fig, ax = plt.subplots(figsize=(10,6))\n",
        "\n",
        "xx, yy = np.meshgrid(np.arange(happy_df[feature_1_name].min() - 0.1, happy_df[feature_1_name].max() + 0.1, 0.01),\n",
        "                     np.arange(happy_df[feature_2_name].min() - 0.1, happy_df[feature_2_name].max() + 0.1, 0.01))\n",
        "\n",
        "means = x.mean()\n",
        "inputs = [[means[0], x, means[2], y, means[4], means[5], means[6]] for (x, y) in np.c_[xx.ravel(), yy.ravel()]]\n",
        "z = model_1.predict(inputs)\n",
        "z = z.reshape(xx.shape)\n",
        "\n",
        "ax.pcolormesh(xx, yy, z, alpha=0.1)\n",
        "\n",
        "for label, data in happy_df.groupby('Happiness Score'):\n",
        "  ax.scatter(data[feature_1_name], data[feature_2_name], label=label)\n",
        "\n",
        "ax.set_title(\"Decision Boundary of the KNN Classifier\")\n",
        "ax.set_xlabel(feature_1_name)\n",
        "ax.set_ylabel(feature_2_name)\n",
        "ax.legend()\n",
        "plt.show()"
      ],
      "metadata": {
        "id": "3GzlDuEA12Ip",
        "outputId": "14294102-6d7e-4070-da64-f98fbc603901",
        "colab": {
          "base_uri": "https://localhost:8080/",
          "height": 869
        }
      },
      "execution_count": 58,
      "outputs": [
        {
          "output_type": "error",
          "ename": "IndexError",
          "evalue": "invalid index to scalar variable.",
          "traceback": [
            "\u001b[0;31m---------------------------------------------------------------------------\u001b[0m",
            "\u001b[0;31mIndexError\u001b[0m                                Traceback (most recent call last)",
            "\u001b[0;32m/tmp/ipython-input-58-3000023685.py\u001b[0m in \u001b[0;36m<cell line: 0>\u001b[0;34m()\u001b[0m\n\u001b[1;32m     10\u001b[0m \u001b[0;34m\u001b[0m\u001b[0m\n\u001b[1;32m     11\u001b[0m \u001b[0mmeans\u001b[0m \u001b[0;34m=\u001b[0m \u001b[0mx\u001b[0m\u001b[0;34m.\u001b[0m\u001b[0mmean\u001b[0m\u001b[0;34m(\u001b[0m\u001b[0;34m)\u001b[0m\u001b[0;34m\u001b[0m\u001b[0;34m\u001b[0m\u001b[0m\n\u001b[0;32m---> 12\u001b[0;31m \u001b[0minputs\u001b[0m \u001b[0;34m=\u001b[0m \u001b[0;34m[\u001b[0m\u001b[0;34m[\u001b[0m\u001b[0mmeans\u001b[0m\u001b[0;34m[\u001b[0m\u001b[0;36m0\u001b[0m\u001b[0;34m]\u001b[0m\u001b[0;34m,\u001b[0m \u001b[0mx\u001b[0m\u001b[0;34m,\u001b[0m \u001b[0mmeans\u001b[0m\u001b[0;34m[\u001b[0m\u001b[0;36m2\u001b[0m\u001b[0;34m]\u001b[0m\u001b[0;34m,\u001b[0m \u001b[0my\u001b[0m\u001b[0;34m,\u001b[0m \u001b[0mmeans\u001b[0m\u001b[0;34m[\u001b[0m\u001b[0;36m4\u001b[0m\u001b[0;34m]\u001b[0m\u001b[0;34m,\u001b[0m \u001b[0mmeans\u001b[0m\u001b[0;34m[\u001b[0m\u001b[0;36m5\u001b[0m\u001b[0;34m]\u001b[0m\u001b[0;34m,\u001b[0m \u001b[0mmeans\u001b[0m\u001b[0;34m[\u001b[0m\u001b[0;36m6\u001b[0m\u001b[0;34m]\u001b[0m\u001b[0;34m]\u001b[0m \u001b[0;32mfor\u001b[0m \u001b[0;34m(\u001b[0m\u001b[0mx\u001b[0m\u001b[0;34m,\u001b[0m \u001b[0my\u001b[0m\u001b[0;34m)\u001b[0m \u001b[0;32min\u001b[0m \u001b[0mnp\u001b[0m\u001b[0;34m.\u001b[0m\u001b[0mc_\u001b[0m\u001b[0;34m[\u001b[0m\u001b[0mxx\u001b[0m\u001b[0;34m.\u001b[0m\u001b[0mravel\u001b[0m\u001b[0;34m(\u001b[0m\u001b[0;34m)\u001b[0m\u001b[0;34m,\u001b[0m \u001b[0myy\u001b[0m\u001b[0;34m.\u001b[0m\u001b[0mravel\u001b[0m\u001b[0;34m(\u001b[0m\u001b[0;34m)\u001b[0m\u001b[0;34m]\u001b[0m\u001b[0;34m]\u001b[0m\u001b[0;34m\u001b[0m\u001b[0;34m\u001b[0m\u001b[0m\n\u001b[0m\u001b[1;32m     13\u001b[0m \u001b[0mz\u001b[0m \u001b[0;34m=\u001b[0m \u001b[0mmodel_1\u001b[0m\u001b[0;34m.\u001b[0m\u001b[0mpredict\u001b[0m\u001b[0;34m(\u001b[0m\u001b[0minputs\u001b[0m\u001b[0;34m)\u001b[0m\u001b[0;34m\u001b[0m\u001b[0;34m\u001b[0m\u001b[0m\n\u001b[1;32m     14\u001b[0m \u001b[0mz\u001b[0m \u001b[0;34m=\u001b[0m \u001b[0mz\u001b[0m\u001b[0;34m.\u001b[0m\u001b[0mreshape\u001b[0m\u001b[0;34m(\u001b[0m\u001b[0mxx\u001b[0m\u001b[0;34m.\u001b[0m\u001b[0mshape\u001b[0m\u001b[0;34m)\u001b[0m\u001b[0;34m\u001b[0m\u001b[0;34m\u001b[0m\u001b[0m\n",
            "\u001b[0;32m/tmp/ipython-input-58-3000023685.py\u001b[0m in \u001b[0;36m<listcomp>\u001b[0;34m(.0)\u001b[0m\n\u001b[1;32m     10\u001b[0m \u001b[0;34m\u001b[0m\u001b[0m\n\u001b[1;32m     11\u001b[0m \u001b[0mmeans\u001b[0m \u001b[0;34m=\u001b[0m \u001b[0mx\u001b[0m\u001b[0;34m.\u001b[0m\u001b[0mmean\u001b[0m\u001b[0;34m(\u001b[0m\u001b[0;34m)\u001b[0m\u001b[0;34m\u001b[0m\u001b[0;34m\u001b[0m\u001b[0m\n\u001b[0;32m---> 12\u001b[0;31m \u001b[0minputs\u001b[0m \u001b[0;34m=\u001b[0m \u001b[0;34m[\u001b[0m\u001b[0;34m[\u001b[0m\u001b[0mmeans\u001b[0m\u001b[0;34m[\u001b[0m\u001b[0;36m0\u001b[0m\u001b[0;34m]\u001b[0m\u001b[0;34m,\u001b[0m \u001b[0mx\u001b[0m\u001b[0;34m,\u001b[0m \u001b[0mmeans\u001b[0m\u001b[0;34m[\u001b[0m\u001b[0;36m2\u001b[0m\u001b[0;34m]\u001b[0m\u001b[0;34m,\u001b[0m \u001b[0my\u001b[0m\u001b[0;34m,\u001b[0m \u001b[0mmeans\u001b[0m\u001b[0;34m[\u001b[0m\u001b[0;36m4\u001b[0m\u001b[0;34m]\u001b[0m\u001b[0;34m,\u001b[0m \u001b[0mmeans\u001b[0m\u001b[0;34m[\u001b[0m\u001b[0;36m5\u001b[0m\u001b[0;34m]\u001b[0m\u001b[0;34m,\u001b[0m \u001b[0mmeans\u001b[0m\u001b[0;34m[\u001b[0m\u001b[0;36m6\u001b[0m\u001b[0;34m]\u001b[0m\u001b[0;34m]\u001b[0m \u001b[0;32mfor\u001b[0m \u001b[0;34m(\u001b[0m\u001b[0mx\u001b[0m\u001b[0;34m,\u001b[0m \u001b[0my\u001b[0m\u001b[0;34m)\u001b[0m \u001b[0;32min\u001b[0m \u001b[0mnp\u001b[0m\u001b[0;34m.\u001b[0m\u001b[0mc_\u001b[0m\u001b[0;34m[\u001b[0m\u001b[0mxx\u001b[0m\u001b[0;34m.\u001b[0m\u001b[0mravel\u001b[0m\u001b[0;34m(\u001b[0m\u001b[0;34m)\u001b[0m\u001b[0;34m,\u001b[0m \u001b[0myy\u001b[0m\u001b[0;34m.\u001b[0m\u001b[0mravel\u001b[0m\u001b[0;34m(\u001b[0m\u001b[0;34m)\u001b[0m\u001b[0;34m]\u001b[0m\u001b[0;34m]\u001b[0m\u001b[0;34m\u001b[0m\u001b[0;34m\u001b[0m\u001b[0m\n\u001b[0m\u001b[1;32m     13\u001b[0m \u001b[0mz\u001b[0m \u001b[0;34m=\u001b[0m \u001b[0mmodel_1\u001b[0m\u001b[0;34m.\u001b[0m\u001b[0mpredict\u001b[0m\u001b[0;34m(\u001b[0m\u001b[0minputs\u001b[0m\u001b[0;34m)\u001b[0m\u001b[0;34m\u001b[0m\u001b[0;34m\u001b[0m\u001b[0m\n\u001b[1;32m     14\u001b[0m \u001b[0mz\u001b[0m \u001b[0;34m=\u001b[0m \u001b[0mz\u001b[0m\u001b[0;34m.\u001b[0m\u001b[0mreshape\u001b[0m\u001b[0;34m(\u001b[0m\u001b[0mxx\u001b[0m\u001b[0;34m.\u001b[0m\u001b[0mshape\u001b[0m\u001b[0;34m)\u001b[0m\u001b[0;34m\u001b[0m\u001b[0;34m\u001b[0m\u001b[0m\n",
            "\u001b[0;31mIndexError\u001b[0m: invalid index to scalar variable."
          ]
        },
        {
          "output_type": "display_data",
          "data": {
            "text/plain": [
              "<Figure size 1000x600 with 1 Axes>"
            ],
            "image/png": "[encoded data removed]"
          },
          "metadata": {}
        }
      ]
    },
    {
      "cell_type": "markdown",
      "metadata": {
        "id": "nuqWq13eibD-"
      },
      "source": [
        "#### **Step #7: Evaluate the model's performance**\n",
        "\n",
        "To complete this step, you will need to recall or find out what evaluation metrics we typically use for whichever type of model you have trained.\n",
        "\n",
        "<br>\n",
        "\n",
        "If you used KNN, you should try several values for Steps #5 - 7 and pick the model that performs highest according to these metrics."
      ]
    },
    {
      "cell_type": "code",
      "source": [
        "from sklearn.metrics import *\n",
        "r2_score(y_test, predictions)"
      ],
      "metadata": {
        "id": "Ezue7YozibD_",
        "outputId": "9c56034f-31e9-41b6-d131-84d9ebd87858",
        "colab": {
          "base_uri": "https://localhost:8080/"
        }
      },
      "execution_count": 83,
      "outputs": [
        {
          "output_type": "execute_result",
          "data": {
            "text/plain": [
              "0.822986277465338"
            ]
          },
          "metadata": {},
          "execution_count": 83
        }
      ]
    },
    {
      "cell_type": "code",
      "source": [
        "from sklearn.model_selection import cross_val_score\n",
        "\n",
        "scores = cross_val_score(model_1, X_train, y_train, cv=5, scoring=\"r2\", error_score='raise')\n",
        "\n",
        "scores.mean()\n"
      ],
      "metadata": {
        "id": "w2eaM4kSAv4A",
        "outputId": "575619ee-bd24-4979-af7e-a32524cee31d",
        "colab": {
          "base_uri": "https://localhost:8080/"
        }
      },
      "execution_count": 96,
      "outputs": [
        {
          "output_type": "execute_result",
          "data": {
            "text/plain": [
              "np.float64(0.7080515339164937)"
            ]
          },
          "metadata": {},
          "execution_count": 96
        }
      ]
    },
    {
      "cell_type": "markdown",
      "metadata": {
        "id": "LT_lgbfTjJlO"
      },
      "source": [
        "#### **Step #8: Use the model**\n",
        "\n",
        "Specifically,\n",
        "\n",
        "1. Predict the happiness score of three countries that reported provided results for their numerical measures.\n",
        "\n",
        "2. Visualize the modeled relationship between `Happinesss Score` and `Social Support` to see if a qualitative relationship can be inferred.\n",
        "\n",
        "3. *If you used linear regression*, look at the coefficients and intercept to determine the modeled relationships quantitatively."
      ]
    },
    {
      "cell_type": "markdown",
      "source": [
        "##### **1. Predict the happiness score of these countries that reported the following results for their numerical measures:**\n",
        "\n",
        "**Country 1**\n",
        "\n",
        "* `GDP`: 0.9\n",
        "* `Social Support`: 0.4\n",
        "* `Healthy Life Expectancy`: 0.8\n",
        "* `Freedom`: 0.4\n",
        "* `Corruption Perception`: 0.2\n",
        "* `Generosity`: 0.09\n",
        "* `Region Encoded`: 0\n",
        "\n",
        "<br>\n",
        "\n",
        "**Country 2**\n",
        "\n",
        "* `GDP`: 0.9\n",
        "* `Social Support`: 0.4\n",
        "* `Healthy Life Expectancy`: 0.8\n",
        "* `Freedom`: 0.4\n",
        "* `Corruption Perception`: 0.2\n",
        "* `Generosity`: 0.09\n",
        "* `Region Encoded`: 9\n",
        "\n",
        "<br>\n",
        "\n",
        "**Country 3**\n",
        "\n",
        "* `GDP`: 1.1\n",
        "* `Social Support`: 0.9\n",
        "* `Healthy Life Expectancy`: 1.01\n",
        "* `Freedom`: 0.9\n",
        "* `Corruption Perception`: 0.1\n",
        "* `Generosity`: 0.9\n",
        "* `Region Encoded`: 4"
      ],
      "metadata": {
        "id": "APzOK_U9NcDn"
      }
    },
    {
      "cell_type": "code",
      "source": [
        "# COUNTRY 1\n",
        "country_1 = pd.DataFrame([[0.9, 0.4, 0.8, 0.4, 0.2]], columns=X_test.columns)\n",
        "\n",
        "model_1.predict(country_1)"
      ],
      "metadata": {
        "id": "ZOwDEPfUjrtj",
        "outputId": "afe11b7b-1504-4a4b-8217-81e2011ae578",
        "colab": {
          "base_uri": "https://localhost:8080/"
        }
      },
      "execution_count": 75,
      "outputs": [
        {
          "output_type": "execute_result",
          "data": {
            "text/plain": [
              "array([4.82243802])"
            ]
          },
          "metadata": {},
          "execution_count": 75
        }
      ]
    },
    {
      "cell_type": "code",
      "source": [
        "# COUNTRY 2\n",
        "country_1 = pd.DataFrame([[0.9, 0.4, 0.8, 0.4, 0.2]], columns=X_test.columns)\n",
        "\n",
        "model_1.predict(country_1)"
      ],
      "metadata": {
        "id": "m6FTxs0dmKo5",
        "outputId": "cefdeea6-3c35-43d1-ea5a-6aec9eb8e62c",
        "colab": {
          "base_uri": "https://localhost:8080/"
        }
      },
      "execution_count": 76,
      "outputs": [
        {
          "output_type": "execute_result",
          "data": {
            "text/plain": [
              "array([4.82243802])"
            ]
          },
          "metadata": {},
          "execution_count": 76
        }
      ]
    },
    {
      "cell_type": "code",
      "source": [
        "# COUNTRY 3\n",
        "country_1 = pd.DataFrame([[1.1, 0.9, 1.01, 0.9, 0.1]], columns=X_test.columns)\n",
        "\n",
        "model_1.predict(country_1)"
      ],
      "metadata": {
        "id": "6CXK6HSEmMut",
        "outputId": "9a997ba9-89ab-46d3-bddb-edfa4050220c",
        "colab": {
          "base_uri": "https://localhost:8080/"
        }
      },
      "execution_count": 77,
      "outputs": [
        {
          "output_type": "execute_result",
          "data": {
            "text/plain": [
              "array([6.59228274])"
            ]
          },
          "metadata": {},
          "execution_count": 77
        }
      ]
    },
    {
      "cell_type": "markdown",
      "source": [
        "##### **2. Visualize the modeled relationship between `Happinesss Score` and `Social Support` to see if a qualitative relationship can be inferred.**"
      ],
      "metadata": {
        "id": "oHo9E1DaNcMp"
      }
    },
    {
      "cell_type": "code",
      "source": [
        "x = happy_df[\"Social Support\"]\n",
        "y = happy_df[\"Happiness Score\"]\n",
        "\n",
        "\n",
        "plt.scatter(x, y)\n",
        "plt.title(\"Happiness Score v.s. Social Support\")\n",
        "plt.ylabel(\"Happiness Score\")\n",
        "plt.xlabel(\"Social Support\")\n",
        "plt.plot()\n",
        "\n",
        "# I'm not sure if this is what we're supposed to do -- this is just a copy"
      ],
      "metadata": {
        "id": "wCcjKeGGmz5v",
        "outputId": "e854c4d5-bbf4-446c-f76b-218a30a58263",
        "colab": {
          "base_uri": "https://localhost:8080/",
          "height": 491
        }
      },
      "execution_count": 78,
      "outputs": [
        {
          "output_type": "execute_result",
          "data": {
            "text/plain": [
              "[]"
            ]
          },
          "metadata": {},
          "execution_count": 78
        },
        {
          "output_type": "display_data",
          "data": {
            "text/plain": [
              "<Figure size 640x480 with 1 Axes>"
            ],
            "image/png": "[encoded data removed]"
          },
          "metadata": {}
        }
      ]
    },
    {
      "cell_type": "markdown",
      "source": [
        "##### **3. *If you used linear regression*, complete the cells below to look at the coefficients and intercept to determine the modeled relationships quantitatively.**"
      ],
      "metadata": {
        "id": "YG6QrVIrNcSr"
      }
    },
    {
      "cell_type": "code",
      "source": [
        "coefficients = model_1.coef_\n",
        "intercept = model_1.intercept_\n",
        "\n",
        "coefficients = pd.DataFrame([coefficients], columns = X_test.columns)\n",
        "intercept = pd.DataFrame([intercept], columns = [\"Happiness Score\"])"
      ],
      "metadata": {
        "id": "1AI68Jupn6UR"
      },
      "execution_count": 79,
      "outputs": []
    },
    {
      "cell_type": "code",
      "source": [
        "print(\"Coefficients:\")\n",
        "coefficients.head()"
      ],
      "metadata": {
        "id": "A4TnZL6fn6US",
        "outputId": "534c230c-0fb5-4e7b-e3e2-75cc70fe8f83",
        "colab": {
          "base_uri": "https://localhost:8080/",
          "height": 100
        }
      },
      "execution_count": 80,
      "outputs": [
        {
          "output_type": "stream",
          "name": "stdout",
          "text": [
            "Coefficients:\n"
          ]
        },
        {
          "output_type": "execute_result",
          "data": {
            "text/plain": [
              "        GDP  Social Support  Healthy Life Expectancy   Freedom  Region Encoded\n",
              "0  0.897024        1.448774                 0.545276  1.494547       -0.042713"
            ],
            "text/html": [
              "\n",
              "  <div id=\"df-9b4bc082-477d-4049-9357-93db9b548376\" class=\"colab-df-container\">\n",
              "    <div>\n",
              "<style scoped>\n",
              "    .dataframe tbody tr th:only-of-type {\n",
              "        vertical-align: middle;\n",
              "    }\n",
              "\n",
              "    .dataframe tbody tr th {\n",
              "        vertical-align: top;\n",
              "    }\n",
              "\n",
              "    .dataframe thead th {\n",
              "        text-align: right;\n",
              "    }\n",
              "</style>\n",
              "<table border=\"1\" class=\"dataframe\">\n",
              "  <thead>\n",
              "    <tr style=\"text-align: right;\">\n",
              "      <th></th>\n",
              "      <th>GDP</th>\n",
              "      <th>Social Support</th>\n",
              "      <th>Healthy Life Expectancy</th>\n",
              "      <th>Freedom</th>\n",
              "      <th>Region Encoded</th>\n",
              "    </tr>\n",
              "  </thead>\n",
              "  <tbody>\n",
              "    <tr>\n",
              "      <th>0</th>\n",
              "      <td>0.897024</td>\n",
              "      <td>1.448774</td>\n",
              "      <td>0.545276</td>\n",
              "      <td>1.494547</td>\n",
              "      <td>-0.042713</td>\n",
              "    </tr>\n",
              "  </tbody>\n",
              "</table>\n",
              "</div>\n",
              "    <div class=\"colab-df-buttons\">\n",
              "\n",
              "  <div class=\"colab-df-container\">\n",
              "    <button class=\"colab-df-convert\" onclick=\"convertToInteractive('df-9b4bc082-477d-4049-9357-93db9b548376')\"\n",
              "            title=\"Convert this dataframe to an interactive table.\"\n",
              "            style=\"display:none;\">\n",
              "\n",
              "  <svg xmlns=\"http://www.w3.org/2000/svg\" height=\"24px\" viewBox=\"0 -960 960 960\">\n",
              "    <path d=\"M120-120v-720h720v720H120Zm60-500h600v-160H180v160Zm220 220h160v-160H400v160Zm0 220h160v-160H400v160ZM180-400h160v-160H180v160Zm440 0h160v-160H620v160ZM180-180h160v-160H180v160Zm440 0h160v-160H620v160Z\"/>\n",
              "  </svg>\n",
              "    </button>\n",
              "\n",
              "  <style>\n",
              "    .colab-df-container {\n",
              "      display:flex;\n",
              "      gap: 12px;\n",
              "    }\n",
              "\n",
              "    .colab-df-convert {\n",
              "      background-color: #E8F0FE;\n",
              "      border: none;\n",
              "      border-radius: 50%;\n",
              "      cursor: pointer;\n",
              "      display: none;\n",
              "      fill: #1967D2;\n",
              "      height: 32px;\n",
              "      padding: 0 0 0 0;\n",
              "      width: 32px;\n",
              "    }\n",
              "\n",
              "    .colab-df-convert:hover {\n",
              "      background-color: #E2EBFA;\n",
              "      box-shadow: 0px 1px 2px rgba(60, 64, 67, 0.3), 0px 1px 3px 1px rgba(60, 64, 67, 0.15);\n",
              "      fill: #174EA6;\n",
              "    }\n",
              "\n",
              "    .colab-df-buttons div {\n",
              "      margin-bottom: 4px;\n",
              "    }\n",
              "\n",
              "    [theme=dark] .colab-df-convert {\n",
              "      background-color: #3B4455;\n",
              "      fill: #D2E3FC;\n",
              "    }\n",
              "\n",
              "    [theme=dark] .colab-df-convert:hover {\n",
              "      background-color: #434B5C;\n",
              "      box-shadow: 0px 1px 3px 1px rgba(0, 0, 0, 0.15);\n",
              "      filter: drop-shadow(0px 1px 2px rgba(0, 0, 0, 0.3));\n",
              "      fill: #FFFFFF;\n",
              "    }\n",
              "  </style>\n",
              "\n",
              "    <script>\n",
              "      const buttonEl =\n",
              "        document.querySelector('#df-9b4bc082-477d-4049-9357-93db9b548376 button.colab-df-convert');\n",
              "      buttonEl.style.display =\n",
              "        google.colab.kernel.accessAllowed ? 'block' : 'none';\n",
              "\n",
              "      async function convertToInteractive(key) {\n",
              "        const element = document.querySelector('#df-9b4bc082-477d-4049-9357-93db9b548376');\n",
              "        const dataTable =\n",
              "          await google.colab.kernel.invokeFunction('convertToInteractive',\n",
              "                                                    [key], {});\n",
              "        if (!dataTable) return;\n",
              "\n",
              "        const docLinkHtml = 'Like what you see? Visit the ' +\n",
              "          '<a target=\"_blank\" href=https://colab.research.google.com/notebooks/data_table.ipynb>data table notebook</a>'\n",
              "          + ' to learn more about interactive tables.';\n",
              "        element.innerHTML = '';\n",
              "        dataTable['output_type'] = 'display_data';\n",
              "        await google.colab.output.renderOutput(dataTable, element);\n",
              "        const docLink = document.createElement('div');\n",
              "        docLink.innerHTML = docLinkHtml;\n",
              "        element.appendChild(docLink);\n",
              "      }\n",
              "    </script>\n",
              "  </div>\n",
              "\n",
              "\n",
              "    </div>\n",
              "  </div>\n"
            ],
            "application/vnd.google.colaboratory.intrinsic+json": {
              "type": "dataframe",
              "variable_name": "coefficients",
              "summary": "{\n  \"name\": \"coefficients\",\n  \"rows\": 1,\n  \"fields\": [\n    {\n      \"column\": \"GDP\",\n      \"properties\": {\n        \"dtype\": \"number\",\n        \"std\": null,\n        \"min\": 0.8970237250729419,\n        \"max\": 0.8970237250729419,\n        \"num_unique_values\": 1,\n        \"samples\": [\n          0.8970237250729419\n        ],\n        \"semantic_type\": \"\",\n        \"description\": \"\"\n      }\n    },\n    {\n      \"column\": \"Social Support\",\n      \"properties\": {\n        \"dtype\": \"number\",\n        \"std\": null,\n        \"min\": 1.448774108678216,\n        \"max\": 1.448774108678216,\n        \"num_unique_values\": 1,\n        \"samples\": [\n          1.448774108678216\n        ],\n        \"semantic_type\": \"\",\n        \"description\": \"\"\n      }\n    },\n    {\n      \"column\": \"Healthy Life Expectancy\",\n      \"properties\": {\n        \"dtype\": \"number\",\n        \"std\": null,\n        \"min\": 0.5452763619038468,\n        \"max\": 0.5452763619038468,\n        \"num_unique_values\": 1,\n        \"samples\": [\n          0.5452763619038468\n        ],\n        \"semantic_type\": \"\",\n        \"description\": \"\"\n      }\n    },\n    {\n      \"column\": \"Freedom\",\n      \"properties\": {\n        \"dtype\": \"number\",\n        \"std\": null,\n        \"min\": 1.4945471649300075,\n        \"max\": 1.4945471649300075,\n        \"num_unique_values\": 1,\n        \"samples\": [\n          1.4945471649300075\n        ],\n        \"semantic_type\": \"\",\n        \"description\": \"\"\n      }\n    },\n    {\n      \"column\": \"Region Encoded\",\n      \"properties\": {\n        \"dtype\": \"number\",\n        \"std\": null,\n        \"min\": -0.04271299312824772,\n        \"max\": -0.04271299312824772,\n        \"num_unique_values\": 1,\n        \"samples\": [\n          -0.04271299312824772\n        ],\n        \"semantic_type\": \"\",\n        \"description\": \"\"\n      }\n    }\n  ]\n}"
            }
          },
          "metadata": {},
          "execution_count": 80
        }
      ]
    },
    {
      "cell_type": "code",
      "source": [
        "print(\"\\nIntercept:\")\n",
        "intercept.head()"
      ],
      "metadata": {
        "id": "9MxeCWwsn6US",
        "outputId": "daa78e1c-01ba-486b-b330-343ea0be6964",
        "colab": {
          "base_uri": "https://localhost:8080/",
          "height": 118
        }
      },
      "execution_count": 81,
      "outputs": [
        {
          "output_type": "stream",
          "name": "stdout",
          "text": [
            "\n",
            "Intercept:\n"
          ]
        },
        {
          "output_type": "execute_result",
          "data": {
            "text/plain": [
              "   Happiness Score\n",
              "0          2.41011"
            ],
            "text/html": [
              "\n",
              "  <div id=\"df-4f738303-5832-4c73-88bf-4d46192bd85a\" class=\"colab-df-container\">\n",
              "    <div>\n",
              "<style scoped>\n",
              "    .dataframe tbody tr th:only-of-type {\n",
              "        vertical-align: middle;\n",
              "    }\n",
              "\n",
              "    .dataframe tbody tr th {\n",
              "        vertical-align: top;\n",
              "    }\n",
              "\n",
              "    .dataframe thead th {\n",
              "        text-align: right;\n",
              "    }\n",
              "</style>\n",
              "<table border=\"1\" class=\"dataframe\">\n",
              "  <thead>\n",
              "    <tr style=\"text-align: right;\">\n",
              "      <th></th>\n",
              "      <th>Happiness Score</th>\n",
              "    </tr>\n",
              "  </thead>\n",
              "  <tbody>\n",
              "    <tr>\n",
              "      <th>0</th>\n",
              "      <td>2.41011</td>\n",
              "    </tr>\n",
              "  </tbody>\n",
              "</table>\n",
              "</div>\n",
              "    <div class=\"colab-df-buttons\">\n",
              "\n",
              "  <div class=\"colab-df-container\">\n",
              "    <button class=\"colab-df-convert\" onclick=\"convertToInteractive('df-4f738303-5832-4c73-88bf-4d46192bd85a')\"\n",
              "            title=\"Convert this dataframe to an interactive table.\"\n",
              "            style=\"display:none;\">\n",
              "\n",
              "  <svg xmlns=\"http://www.w3.org/2000/svg\" height=\"24px\" viewBox=\"0 -960 960 960\">\n",
              "    <path d=\"M120-120v-720h720v720H120Zm60-500h600v-160H180v160Zm220 220h160v-160H400v160Zm0 220h160v-160H400v160ZM180-400h160v-160H180v160Zm440 0h160v-160H620v160ZM180-180h160v-160H180v160Zm440 0h160v-160H620v160Z\"/>\n",
              "  </svg>\n",
              "    </button>\n",
              "\n",
              "  <style>\n",
              "    .colab-df-container {\n",
              "      display:flex;\n",
              "      gap: 12px;\n",
              "    }\n",
              "\n",
              "    .colab-df-convert {\n",
              "      background-color: #E8F0FE;\n",
              "      border: none;\n",
              "      border-radius: 50%;\n",
              "      cursor: pointer;\n",
              "      display: none;\n",
              "      fill: #1967D2;\n",
              "      height: 32px;\n",
              "      padding: 0 0 0 0;\n",
              "      width: 32px;\n",
              "    }\n",
              "\n",
              "    .colab-df-convert:hover {\n",
              "      background-color: #E2EBFA;\n",
              "      box-shadow: 0px 1px 2px rgba(60, 64, 67, 0.3), 0px 1px 3px 1px rgba(60, 64, 67, 0.15);\n",
              "      fill: #174EA6;\n",
              "    }\n",
              "\n",
              "    .colab-df-buttons div {\n",
              "      margin-bottom: 4px;\n",
              "    }\n",
              "\n",
              "    [theme=dark] .colab-df-convert {\n",
              "      background-color: #3B4455;\n",
              "      fill: #D2E3FC;\n",
              "    }\n",
              "\n",
              "    [theme=dark] .colab-df-convert:hover {\n",
              "      background-color: #434B5C;\n",
              "      box-shadow: 0px 1px 3px 1px rgba(0, 0, 0, 0.15);\n",
              "      filter: drop-shadow(0px 1px 2px rgba(0, 0, 0, 0.3));\n",
              "      fill: #FFFFFF;\n",
              "    }\n",
              "  </style>\n",
              "\n",
              "    <script>\n",
              "      const buttonEl =\n",
              "        document.querySelector('#df-4f738303-5832-4c73-88bf-4d46192bd85a button.colab-df-convert');\n",
              "      buttonEl.style.display =\n",
              "        google.colab.kernel.accessAllowed ? 'block' : 'none';\n",
              "\n",
              "      async function convertToInteractive(key) {\n",
              "        const element = document.querySelector('#df-4f738303-5832-4c73-88bf-4d46192bd85a');\n",
              "        const dataTable =\n",
              "          await google.colab.kernel.invokeFunction('convertToInteractive',\n",
              "                                                    [key], {});\n",
              "        if (!dataTable) return;\n",
              "\n",
              "        const docLinkHtml = 'Like what you see? Visit the ' +\n",
              "          '<a target=\"_blank\" href=https://colab.research.google.com/notebooks/data_table.ipynb>data table notebook</a>'\n",
              "          + ' to learn more about interactive tables.';\n",
              "        element.innerHTML = '';\n",
              "        dataTable['output_type'] = 'display_data';\n",
              "        await google.colab.output.renderOutput(dataTable, element);\n",
              "        const docLink = document.createElement('div');\n",
              "        docLink.innerHTML = docLinkHtml;\n",
              "        element.appendChild(docLink);\n",
              "      }\n",
              "    </script>\n",
              "  </div>\n",
              "\n",
              "\n",
              "    </div>\n",
              "  </div>\n"
            ],
            "application/vnd.google.colaboratory.intrinsic+json": {
              "type": "dataframe",
              "variable_name": "intercept",
              "summary": "{\n  \"name\": \"intercept\",\n  \"rows\": 1,\n  \"fields\": [\n    {\n      \"column\": \"Happiness Score\",\n      \"properties\": {\n        \"dtype\": \"number\",\n        \"std\": null,\n        \"min\": 2.4101096652869534,\n        \"max\": 2.4101096652869534,\n        \"num_unique_values\": 1,\n        \"samples\": [\n          2.4101096652869534\n        ],\n        \"semantic_type\": \"\",\n        \"description\": \"\"\n      }\n    }\n  ]\n}"
            }
          },
          "metadata": {},
          "execution_count": 81
        }
      ]
    },
    {
      "cell_type": "markdown",
      "source": [
        "#### **Reflection Questions**\n",
        "\n",
        "1. Which machine learning algorithm was best suited for this section? Why?\n",
        "2. Consider the strengths and limitations of the KNN model for predicting happiness levels in different countries. How does it handle categorical versus numerical features in the dataset?\n",
        "3. Reflect on the ethical considerations and potential biases associated with using machine learning models to predict happiness levels. How might the choice between KNN and linear regression impact these considerations?\n"
      ],
      "metadata": {
        "id": "KYwIQjBzyFoo"
      }
    },
    {
      "cell_type": "markdown",
      "source": [
        "<a name=\"p22\"></a>\n",
        "\n",
        "---\n",
        "### **Part 2.2: Using the 3 Best Numerical Features**\n",
        "---\n",
        "It's important to note that not all features in a dataset necessarily contribute positively to a machine learning model when predicting happiness levels. Some features may be irrelevant, noisy, or even introduce biases into the model. Therefore, careful feature selection or feature engineering is essential to ensure the model focuses on the most meaningful and influential factors.\n"
      ],
      "metadata": {
        "id": "qIY_pTi6oI4r"
      }
    },
    {
      "cell_type": "markdown",
      "source": [
        "#### **Step #1:** Load in the data\n",
        "\n",
        "This step was completed in Part 1!"
      ],
      "metadata": {
        "id": "gSQ1tIbv7xOG"
      }
    },
    {
      "cell_type": "markdown",
      "metadata": {
        "id": "xAwf4Xu5oI4s"
      },
      "source": [
        "#### **Step #2: Decide independent and dependent variables**\n",
        "\n",
        "Determining the appropriate number of features to choose for a KNN (K-Nearest Neighbors) model depends on several factors, including the size of your dataset, the dimensionality of the feature space, and the complexity of the problem you are trying to solve.\n",
        "\n",
        "Remember that feature selection is not a one-time decision, but rather, an iterative process of experimentation and evaluation. Hence, it's important to try different combinations of features and assess the performance of your model each time.\n",
        "\n",
        "To guide us in selecting features, let's start by looking at the correlations in the data. Identify 3 features that have the strongest correlations with the target variable, but low correlations with each other.\n",
        "\n",
        "<br>\n",
        "\n",
        "**NOTE**: `y` will be the same in all of Part 2."
      ]
    },
    {
      "cell_type": "code",
      "source": [
        "best_features = happy_df[[\"GDP\", \"Social Support\", \"Freedom\"]]\n",
        "y = happy_df[\"Happiness Score\"]"
      ],
      "metadata": {
        "id": "_9PPXZzBb545"
      },
      "execution_count": 100,
      "outputs": []
    },
    {
      "cell_type": "markdown",
      "source": [
        "\n",
        "When choosing the features for a model, we often want to choose those that have a strong correlation with the target variable (in this case, \"Happiness Score\") and are less correlated with each other to avoid multicollinearity.\n",
        "\n",
        "From the given correlation matrix, the top three features that correlate with the \"Happiness Score\" are:\n",
        "\n",
        "GDP: 0.781898\n",
        "Social Support: 0.738371\n",
        "Healthy Life Expectancy: 0.722515\n",
        "Next, we check for correlation amongst these features themselves. \"GDP\" and \"Healthy Life Expectancy\" have a fairly high correlation of 0.815871. Therefore, including both these features could lead to multicollinearity.\n",
        "\n",
        "To avoid this, we could choose to only include one of these in our model. Let's keep \"GDP\" because it has a higher correlation with \"Happiness Score\".\n",
        "\n",
        "Now we need to choose another feature. \"Freedom\" seems to be a good choice because it is the next highest correlating feature with \"Happiness Score\" that isn't part of the initial trio and it also has relatively lower correlation with \"GDP\" and \"Social Support\".\n",
        "\n",
        "So, the final three features to consider would be:\n",
        "\n",
        "- GDP\n",
        "- Social Support\n",
        "- Freedom"
      ],
      "metadata": {
        "id": "VKN1Tykoasz_"
      }
    },
    {
      "cell_type": "markdown",
      "metadata": {
        "id": "5Byu8rM-oI4t"
      },
      "source": [
        "#### **Step #3: Split data into training and testing data**\n",
        "\n",
        "Complete the code below to split the data, using 80% for training and 20% for testing."
      ]
    },
    {
      "cell_type": "code",
      "source": [
        "X_train, X_test, y_train, y_test = train_test_split(best_features, y, test_size=0.2, random_state=2025)"
      ],
      "metadata": {
        "id": "EsVqPp2GoI4t"
      },
      "execution_count": 109,
      "outputs": []
    },
    {
      "cell_type": "markdown",
      "metadata": {
        "id": "eYgfv8YnoI4t"
      },
      "source": [
        "#### **Step #4: Import the algorithm**"
      ]
    },
    {
      "cell_type": "code",
      "source": [
        "# Alread imported LinearRegression (the model that we're using)"
      ],
      "metadata": {
        "id": "TeJL0JwfoI4t"
      },
      "execution_count": null,
      "outputs": []
    },
    {
      "cell_type": "markdown",
      "metadata": {
        "id": "q52eDLqFSBhY"
      },
      "source": [
        "#### **Step #5: Initialize the model and set hyperparameters**\n",
        "\n",
        "Specifically,\n",
        "* For Linear Regression, there are no hyperparameters to set.\n",
        "* For KNN, choose a reasonable value for `n_neighbors`. You are encouraged to try Steps #5 - 7 for several values and picking the model with the highest performance."
      ]
    },
    {
      "cell_type": "code",
      "source": [
        "model_2 = LinearRegression()"
      ],
      "metadata": {
        "id": "U4ImlrFUoI4t"
      },
      "execution_count": 110,
      "outputs": []
    },
    {
      "cell_type": "markdown",
      "metadata": {
        "id": "hMx19Alh4tZs"
      },
      "source": [
        "#### **Step #6: Fit your model and make a prediction.**\n",
        "\n",
        "Create a visualization if applicable.\n",
        "\n",
        "Specifically,\n",
        "\n",
        "1. Fit the model to the training data and make predictions on the test data.\n",
        "2. Visualize the results."
      ]
    },
    {
      "cell_type": "markdown",
      "source": [
        "##### **1. Fit the model to the training data.**"
      ],
      "metadata": {
        "id": "BDMrAvoW4tZt"
      }
    },
    {
      "cell_type": "code",
      "source": [
        "model_2.fit(X_train, y_train)\n",
        "predictions = model_2.predict(X_test)"
      ],
      "metadata": {
        "id": "km_P03RK4tZt"
      },
      "execution_count": 111,
      "outputs": []
    },
    {
      "cell_type": "markdown",
      "source": [
        "##### **2. Visualize the results.**\n",
        "\n",
        "The code is provided for both linear regression and KNN, but it is up to you to decide which one makes the most sense here."
      ],
      "metadata": {
        "id": "Y14XXkms4tZt"
      }
    },
    {
      "cell_type": "markdown",
      "source": [
        "###### **Linear Regression Visualization**"
      ],
      "metadata": {
        "id": "9QstGcAK4tZt"
      }
    },
    {
      "cell_type": "code",
      "source": [
        "# Visualize comparison of predictions vs. actual values\n",
        "plt.scatter(y_test, predictions)\n",
        "plt.plot([y_test.min(), y_test.max()], [y_test.min(), y_test.max()], color = 'black', label='Correct Predictions')\n",
        "\n",
        "\n",
        "plt.xlabel('True Value')\n",
        "plt.ylabel('Predicted Value')\n",
        "plt.title('Real vs Value')\n",
        "plt.legend()\n",
        "\n",
        "plt.show()"
      ],
      "metadata": {
        "id": "ycHBLYFC4tZt",
        "outputId": "39b3d35a-a594-4767-b980-663f1f8f8f31",
        "colab": {
          "base_uri": "https://localhost:8080/",
          "height": 472
        }
      },
      "execution_count": 112,
      "outputs": [
        {
          "output_type": "display_data",
          "data": {
            "text/plain": [
              "<Figure size 640x480 with 1 Axes>"
            ],
            "image/png": "[encoded data removed]"
          },
          "metadata": {}
        }
      ]
    },
    {
      "cell_type": "markdown",
      "source": [
        "###### **KNN Visualization**"
      ],
      "metadata": {
        "id": "KU75FZTV4tZt"
      }
    },
    {
      "cell_type": "code",
      "source": [
        "feature_1_name = 'GDP'\n",
        "feature_2_name = 'Healthy Life Expectancy'\n",
        "\n",
        "\n",
        "# Make the same scatter plot of the training data\n",
        "fig, ax = plt.subplots(figsize=(10,6))\n",
        "\n",
        "xx, yy = np.meshgrid(np.arange(happy_df[feature_1_name].min() - 0.1, happy_df[feature_1_name].max() + 0.1, 0.01),\n",
        "                     np.arange(happy_df[feature_2_name].min() - 0.1, happy_df[feature_2_name].max() + 0.1, 0.01))\n",
        "means = x.mean()\n",
        "inputs = [[x, y, means[2]] for (x, y) in np.c_[xx.ravel(), yy.ravel()]]\n",
        "z = model_2.predict(inputs)\n",
        "z = z.reshape(xx.shape)\n",
        "\n",
        "ax.pcolormesh(xx, yy, z, alpha=0.1)\n",
        "\n",
        "for label, data in happy_df.groupby('Happiness Score'):\n",
        "  ax.scatter(data[feature_1_name], data[feature_2_name], label=label)\n",
        "\n",
        "ax.set_title(\"Decision Boundary of the KNN Classifier\")\n",
        "ax.set_xlabel(feature_1_name)\n",
        "ax.set_ylabel(feature_2_name)\n",
        "ax.legend()\n",
        "plt.show()"
      ],
      "metadata": {
        "id": "KKcnHU-t4tZt"
      },
      "execution_count": null,
      "outputs": []
    },
    {
      "cell_type": "markdown",
      "metadata": {
        "id": "WyUQzTdsSWND"
      },
      "source": [
        "#### **Step #7: Evaluate the model’s performance**\n",
        "\n",
        "To complete this step, you will need to recall or find out what evaluation metrics we typically use for whichever type of model you have trained.\n",
        "\n",
        "<br>\n",
        "\n",
        "If you used KNN, you should try several values for Steps #5 - 7 and pick the model that performs highest according to these metrics."
      ]
    },
    {
      "cell_type": "code",
      "source": [
        "from sklearn.model_selection import cross_val_score\n",
        "\n",
        "scores = cross_val_score(model_2, X_train, y_train, cv=5, scoring=\"r2\", error_score='raise')\n",
        "\n",
        "scores.mean()"
      ],
      "metadata": {
        "id": "8gIFqECn5GKz",
        "outputId": "bbfa1db5-674a-4609-c667-4e9725498a24",
        "colab": {
          "base_uri": "https://localhost:8080/"
        }
      },
      "execution_count": 113,
      "outputs": [
        {
          "output_type": "execute_result",
          "data": {
            "text/plain": [
              "np.float64(0.7134094609958966)"
            ]
          },
          "metadata": {},
          "execution_count": 113
        }
      ]
    },
    {
      "cell_type": "markdown",
      "metadata": {
        "id": "LkdTG0rOoI4u"
      },
      "source": [
        "#### **Step #8: Use the model**\n",
        "\n",
        "Specifically,\n",
        "\n",
        "1. Predict the happiness score of three countries that reported provided results for their numerical measures.\n",
        "\n",
        "2. Visualize the modeled relationship between `Happinesss Score` and `Social Support` to see if a qualitative relationship can be inferred.\n",
        "\n",
        "3. Look at the coefficients and intercept to determine the modeled relationships quantitatively."
      ]
    },
    {
      "cell_type": "markdown",
      "source": [
        "##### **1. Predict the happiness score of these countries that reported the following results for their numerical measures:**\n",
        "\n",
        "**Country 1**\n",
        "\n",
        "* `GDP`: 0.9\n",
        "* `Social Support`: 0.4\n",
        "* `Healthy Life Expectancy`: 0.8\n",
        "* `Freedom`: 0.4\n",
        "* `Corruption Perception`: 0.2\n",
        "* `Generosity`: 0.09\n",
        "* `Region Encoded`: 0\n",
        "\n",
        "<br>\n",
        "\n",
        "**Country 2**\n",
        "\n",
        "* `GDP`: 0.9\n",
        "* `Social Support`: 0.4\n",
        "* `Healthy Life Expectancy`: 0.8\n",
        "* `Freedom`: 0.4\n",
        "* `Corruption Perception`: 0.2\n",
        "* `Generosity`: 0.09\n",
        "* `Region Encoded`: 9\n",
        "\n",
        "<br>\n",
        "\n",
        "**Country 3**\n",
        "\n",
        "* `GDP`: 1.1\n",
        "* `Social Support`: 0.9\n",
        "* `Healthy Life Expectancy`: 1.01\n",
        "* `Freedom`: 0.9\n",
        "* `Corruption Perception`: 0.1\n",
        "* `Generosity`: 0.9\n",
        "* `Region Encoded`: 4\n",
        "\n",
        "\n",
        "<br>\n",
        "\n",
        "**NOTE**: Since we selected only the top 3 features, you will need to only provide these 3 values for each prediction. Looking at the columns in the X data could be helpful here."
      ],
      "metadata": {
        "id": "4uf2h5ihoI4u"
      }
    },
    {
      "cell_type": "code",
      "source": [
        "# COUNTRY 1\n",
        "new_country = pd.DataFrame([[0.9, 0.4, 0.4]], columns=X_test.columns)\n",
        "print(model_2.predict(new_country))"
      ],
      "metadata": {
        "id": "bKY7vgkJoI4u",
        "outputId": "2c8f98ff-c89b-461f-8a01-0956a20d97d0",
        "colab": {
          "base_uri": "https://localhost:8080/"
        }
      },
      "execution_count": 116,
      "outputs": [
        {
          "output_type": "stream",
          "name": "stdout",
          "text": [
            "[4.56143114]\n"
          ]
        }
      ]
    },
    {
      "cell_type": "code",
      "source": [
        "# COUNTRY 2\n",
        "new_country = pd.DataFrame([[0.9, 0.4, 0.4]], columns=X_test.columns)\n",
        "print(model_2.predict(new_country))"
      ],
      "metadata": {
        "id": "M2jcPQZroI4v",
        "outputId": "5c234a8f-8df6-44a7-f230-a62a3f5e1f4a",
        "colab": {
          "base_uri": "https://localhost:8080/"
        }
      },
      "execution_count": 118,
      "outputs": [
        {
          "output_type": "stream",
          "name": "stdout",
          "text": [
            "[4.56143114]\n"
          ]
        }
      ]
    },
    {
      "cell_type": "code",
      "source": [
        "# COUNTRY 3\n",
        "new_country = pd.DataFrame([[1.1, 0.9, 0.9]], columns=X_test.columns)\n",
        "print(model_2.predict(new_country))"
      ],
      "metadata": {
        "id": "fNKdgXAKoI4v",
        "outputId": "4d83b66f-c9af-4f44-96d7-aa046a9b2629",
        "colab": {
          "base_uri": "https://localhost:8080/"
        }
      },
      "execution_count": 117,
      "outputs": [
        {
          "output_type": "stream",
          "name": "stdout",
          "text": [
            "[6.40249367]\n"
          ]
        }
      ]
    },
    {
      "cell_type": "markdown",
      "source": [
        "##### **2. Visualize the modeled relationship between `Happinesss Score` and one of the 3 features chosen to see if a qualitative relationship can be inferred.**"
      ],
      "metadata": {
        "id": "X7u4GtMToI4v"
      }
    },
    {
      "cell_type": "code",
      "source": [],
      "metadata": {
        "id": "GcEBBmR-oI4v"
      },
      "execution_count": null,
      "outputs": []
    },
    {
      "cell_type": "markdown",
      "source": [
        "##### **3. *If you used linear regression*, complete the cells below to look at the coefficients and intercept to determine the modeled relationships quantitatively.**"
      ],
      "metadata": {
        "id": "kZoN8-hwoI4w"
      }
    },
    {
      "cell_type": "code",
      "source": [
        "coefficients = model_2.coef_\n",
        "intercept = model_2.intercept_\n",
        "\n",
        "coefficients = pd.DataFrame([coefficients], columns = X_test.columns)\n",
        "intercept = pd.DataFrame([intercept], columns = [\"Happiness Score\"])"
      ],
      "metadata": {
        "id": "s1pBM4KooI4w"
      },
      "execution_count": 119,
      "outputs": []
    },
    {
      "cell_type": "code",
      "source": [
        "print(\"Coefficients:\")\n",
        "coefficients.head()"
      ],
      "metadata": {
        "id": "OjgGVP8VoI4w",
        "outputId": "5b41be56-1297-4363-ea68-c6ab9cd53444",
        "colab": {
          "base_uri": "https://localhost:8080/",
          "height": 100
        }
      },
      "execution_count": 120,
      "outputs": [
        {
          "output_type": "stream",
          "name": "stdout",
          "text": [
            "Coefficients:\n"
          ]
        },
        {
          "output_type": "execute_result",
          "data": {
            "text/plain": [
              "        GDP  Social Support   Freedom\n",
              "0  1.354824        1.413294  1.726901"
            ],
            "text/html": [
              "\n",
              "  <div id=\"df-45966de8-4a05-4ad0-a21c-317c836f995f\" class=\"colab-df-container\">\n",
              "    <div>\n",
              "<style scoped>\n",
              "    .dataframe tbody tr th:only-of-type {\n",
              "        vertical-align: middle;\n",
              "    }\n",
              "\n",
              "    .dataframe tbody tr th {\n",
              "        vertical-align: top;\n",
              "    }\n",
              "\n",
              "    .dataframe thead th {\n",
              "        text-align: right;\n",
              "    }\n",
              "</style>\n",
              "<table border=\"1\" class=\"dataframe\">\n",
              "  <thead>\n",
              "    <tr style=\"text-align: right;\">\n",
              "      <th></th>\n",
              "      <th>GDP</th>\n",
              "      <th>Social Support</th>\n",
              "      <th>Freedom</th>\n",
              "    </tr>\n",
              "  </thead>\n",
              "  <tbody>\n",
              "    <tr>\n",
              "      <th>0</th>\n",
              "      <td>1.354824</td>\n",
              "      <td>1.413294</td>\n",
              "      <td>1.726901</td>\n",
              "    </tr>\n",
              "  </tbody>\n",
              "</table>\n",
              "</div>\n",
              "    <div class=\"colab-df-buttons\">\n",
              "\n",
              "  <div class=\"colab-df-container\">\n",
              "    <button class=\"colab-df-convert\" onclick=\"convertToInteractive('df-45966de8-4a05-4ad0-a21c-317c836f995f')\"\n",
              "            title=\"Convert this dataframe to an interactive table.\"\n",
              "            style=\"display:none;\">\n",
              "\n",
              "  <svg xmlns=\"http://www.w3.org/2000/svg\" height=\"24px\" viewBox=\"0 -960 960 960\">\n",
              "    <path d=\"M120-120v-720h720v720H120Zm60-500h600v-160H180v160Zm220 220h160v-160H400v160Zm0 220h160v-160H400v160ZM180-400h160v-160H180v160Zm440 0h160v-160H620v160ZM180-180h160v-160H180v160Zm440 0h160v-160H620v160Z\"/>\n",
              "  </svg>\n",
              "    </button>\n",
              "\n",
              "  <style>\n",
              "    .colab-df-container {\n",
              "      display:flex;\n",
              "      gap: 12px;\n",
              "    }\n",
              "\n",
              "    .colab-df-convert {\n",
              "      background-color: #E8F0FE;\n",
              "      border: none;\n",
              "      border-radius: 50%;\n",
              "      cursor: pointer;\n",
              "      display: none;\n",
              "      fill: #1967D2;\n",
              "      height: 32px;\n",
              "      padding: 0 0 0 0;\n",
              "      width: 32px;\n",
              "    }\n",
              "\n",
              "    .colab-df-convert:hover {\n",
              "      background-color: #E2EBFA;\n",
              "      box-shadow: 0px 1px 2px rgba(60, 64, 67, 0.3), 0px 1px 3px 1px rgba(60, 64, 67, 0.15);\n",
              "      fill: #174EA6;\n",
              "    }\n",
              "\n",
              "    .colab-df-buttons div {\n",
              "      margin-bottom: 4px;\n",
              "    }\n",
              "\n",
              "    [theme=dark] .colab-df-convert {\n",
              "      background-color: #3B4455;\n",
              "      fill: #D2E3FC;\n",
              "    }\n",
              "\n",
              "    [theme=dark] .colab-df-convert:hover {\n",
              "      background-color: #434B5C;\n",
              "      box-shadow: 0px 1px 3px 1px rgba(0, 0, 0, 0.15);\n",
              "      filter: drop-shadow(0px 1px 2px rgba(0, 0, 0, 0.3));\n",
              "      fill: #FFFFFF;\n",
              "    }\n",
              "  </style>\n",
              "\n",
              "    <script>\n",
              "      const buttonEl =\n",
              "        document.querySelector('#df-45966de8-4a05-4ad0-a21c-317c836f995f button.colab-df-convert');\n",
              "      buttonEl.style.display =\n",
              "        google.colab.kernel.accessAllowed ? 'block' : 'none';\n",
              "\n",
              "      async function convertToInteractive(key) {\n",
              "        const element = document.querySelector('#df-45966de8-4a05-4ad0-a21c-317c836f995f');\n",
              "        const dataTable =\n",
              "          await google.colab.kernel.invokeFunction('convertToInteractive',\n",
              "                                                    [key], {});\n",
              "        if (!dataTable) return;\n",
              "\n",
              "        const docLinkHtml = 'Like what you see? Visit the ' +\n",
              "          '<a target=\"_blank\" href=https://colab.research.google.com/notebooks/data_table.ipynb>data table notebook</a>'\n",
              "          + ' to learn more about interactive tables.';\n",
              "        element.innerHTML = '';\n",
              "        dataTable['output_type'] = 'display_data';\n",
              "        await google.colab.output.renderOutput(dataTable, element);\n",
              "        const docLink = document.createElement('div');\n",
              "        docLink.innerHTML = docLinkHtml;\n",
              "        element.appendChild(docLink);\n",
              "      }\n",
              "    </script>\n",
              "  </div>\n",
              "\n",
              "\n",
              "    </div>\n",
              "  </div>\n"
            ],
            "application/vnd.google.colaboratory.intrinsic+json": {
              "type": "dataframe",
              "variable_name": "coefficients",
              "summary": "{\n  \"name\": \"coefficients\",\n  \"rows\": 1,\n  \"fields\": [\n    {\n      \"column\": \"GDP\",\n      \"properties\": {\n        \"dtype\": \"number\",\n        \"std\": null,\n        \"min\": 1.354824102135805,\n        \"max\": 1.354824102135805,\n        \"num_unique_values\": 1,\n        \"samples\": [\n          1.354824102135805\n        ],\n        \"semantic_type\": \"\",\n        \"description\": \"\"\n      }\n    },\n    {\n      \"column\": \"Social Support\",\n      \"properties\": {\n        \"dtype\": \"number\",\n        \"std\": null,\n        \"min\": 1.4132940513907166,\n        \"max\": 1.4132940513907166,\n        \"num_unique_values\": 1,\n        \"samples\": [\n          1.4132940513907166\n        ],\n        \"semantic_type\": \"\",\n        \"description\": \"\"\n      }\n    },\n    {\n      \"column\": \"Freedom\",\n      \"properties\": {\n        \"dtype\": \"number\",\n        \"std\": null,\n        \"min\": 1.7269013628358771,\n        \"max\": 1.7269013628358771,\n        \"num_unique_values\": 1,\n        \"samples\": [\n          1.7269013628358771\n        ],\n        \"semantic_type\": \"\",\n        \"description\": \"\"\n      }\n    }\n  ]\n}"
            }
          },
          "metadata": {},
          "execution_count": 120
        }
      ]
    },
    {
      "cell_type": "code",
      "source": [
        "print(\"\\nIntercept:\")\n",
        "intercept.head()"
      ],
      "metadata": {
        "id": "khefYBQroI4w",
        "outputId": "3a1b6e07-4189-43c2-ad1d-22cc6d7bc38b",
        "colab": {
          "base_uri": "https://localhost:8080/",
          "height": 118
        }
      },
      "execution_count": 121,
      "outputs": [
        {
          "output_type": "stream",
          "name": "stdout",
          "text": [
            "\n",
            "Intercept:\n"
          ]
        },
        {
          "output_type": "execute_result",
          "data": {
            "text/plain": [
              "   Happiness Score\n",
              "0         2.086011"
            ],
            "text/html": [
              "\n",
              "  <div id=\"df-c31df7a0-85fe-4918-80e6-c2247b81a5fb\" class=\"colab-df-container\">\n",
              "    <div>\n",
              "<style scoped>\n",
              "    .dataframe tbody tr th:only-of-type {\n",
              "        vertical-align: middle;\n",
              "    }\n",
              "\n",
              "    .dataframe tbody tr th {\n",
              "        vertical-align: top;\n",
              "    }\n",
              "\n",
              "    .dataframe thead th {\n",
              "        text-align: right;\n",
              "    }\n",
              "</style>\n",
              "<table border=\"1\" class=\"dataframe\">\n",
              "  <thead>\n",
              "    <tr style=\"text-align: right;\">\n",
              "      <th></th>\n",
              "      <th>Happiness Score</th>\n",
              "    </tr>\n",
              "  </thead>\n",
              "  <tbody>\n",
              "    <tr>\n",
              "      <th>0</th>\n",
              "      <td>2.086011</td>\n",
              "    </tr>\n",
              "  </tbody>\n",
              "</table>\n",
              "</div>\n",
              "    <div class=\"colab-df-buttons\">\n",
              "\n",
              "  <div class=\"colab-df-container\">\n",
              "    <button class=\"colab-df-convert\" onclick=\"convertToInteractive('df-c31df7a0-85fe-4918-80e6-c2247b81a5fb')\"\n",
              "            title=\"Convert this dataframe to an interactive table.\"\n",
              "            style=\"display:none;\">\n",
              "\n",
              "  <svg xmlns=\"http://www.w3.org/2000/svg\" height=\"24px\" viewBox=\"0 -960 960 960\">\n",
              "    <path d=\"M120-120v-720h720v720H120Zm60-500h600v-160H180v160Zm220 220h160v-160H400v160Zm0 220h160v-160H400v160ZM180-400h160v-160H180v160Zm440 0h160v-160H620v160ZM180-180h160v-160H180v160Zm440 0h160v-160H620v160Z\"/>\n",
              "  </svg>\n",
              "    </button>\n",
              "\n",
              "  <style>\n",
              "    .colab-df-container {\n",
              "      display:flex;\n",
              "      gap: 12px;\n",
              "    }\n",
              "\n",
              "    .colab-df-convert {\n",
              "      background-color: #E8F0FE;\n",
              "      border: none;\n",
              "      border-radius: 50%;\n",
              "      cursor: pointer;\n",
              "      display: none;\n",
              "      fill: #1967D2;\n",
              "      height: 32px;\n",
              "      padding: 0 0 0 0;\n",
              "      width: 32px;\n",
              "    }\n",
              "\n",
              "    .colab-df-convert:hover {\n",
              "      background-color: #E2EBFA;\n",
              "      box-shadow: 0px 1px 2px rgba(60, 64, 67, 0.3), 0px 1px 3px 1px rgba(60, 64, 67, 0.15);\n",
              "      fill: #174EA6;\n",
              "    }\n",
              "\n",
              "    .colab-df-buttons div {\n",
              "      margin-bottom: 4px;\n",
              "    }\n",
              "\n",
              "    [theme=dark] .colab-df-convert {\n",
              "      background-color: #3B4455;\n",
              "      fill: #D2E3FC;\n",
              "    }\n",
              "\n",
              "    [theme=dark] .colab-df-convert:hover {\n",
              "      background-color: #434B5C;\n",
              "      box-shadow: 0px 1px 3px 1px rgba(0, 0, 0, 0.15);\n",
              "      filter: drop-shadow(0px 1px 2px rgba(0, 0, 0, 0.3));\n",
              "      fill: #FFFFFF;\n",
              "    }\n",
              "  </style>\n",
              "\n",
              "    <script>\n",
              "      const buttonEl =\n",
              "        document.querySelector('#df-c31df7a0-85fe-4918-80e6-c2247b81a5fb button.colab-df-convert');\n",
              "      buttonEl.style.display =\n",
              "        google.colab.kernel.accessAllowed ? 'block' : 'none';\n",
              "\n",
              "      async function convertToInteractive(key) {\n",
              "        const element = document.querySelector('#df-c31df7a0-85fe-4918-80e6-c2247b81a5fb');\n",
              "        const dataTable =\n",
              "          await google.colab.kernel.invokeFunction('convertToInteractive',\n",
              "                                                    [key], {});\n",
              "        if (!dataTable) return;\n",
              "\n",
              "        const docLinkHtml = 'Like what you see? Visit the ' +\n",
              "          '<a target=\"_blank\" href=https://colab.research.google.com/notebooks/data_table.ipynb>data table notebook</a>'\n",
              "          + ' to learn more about interactive tables.';\n",
              "        element.innerHTML = '';\n",
              "        dataTable['output_type'] = 'display_data';\n",
              "        await google.colab.output.renderOutput(dataTable, element);\n",
              "        const docLink = document.createElement('div');\n",
              "        docLink.innerHTML = docLinkHtml;\n",
              "        element.appendChild(docLink);\n",
              "      }\n",
              "    </script>\n",
              "  </div>\n",
              "\n",
              "\n",
              "    </div>\n",
              "  </div>\n"
            ],
            "application/vnd.google.colaboratory.intrinsic+json": {
              "type": "dataframe",
              "variable_name": "intercept",
              "summary": "{\n  \"name\": \"intercept\",\n  \"rows\": 1,\n  \"fields\": [\n    {\n      \"column\": \"Happiness Score\",\n      \"properties\": {\n        \"dtype\": \"number\",\n        \"std\": null,\n        \"min\": 2.0860112839384124,\n        \"max\": 2.0860112839384124,\n        \"num_unique_values\": 1,\n        \"samples\": [\n          2.0860112839384124\n        ],\n        \"semantic_type\": \"\",\n        \"description\": \"\"\n      }\n    }\n  ]\n}"
            }
          },
          "metadata": {},
          "execution_count": 121
        }
      ]
    },
    {
      "cell_type": "markdown",
      "source": [
        "#### **Reflection Questions**\n",
        "\n",
        "Now that you have trained several models to accomplish this task, answer the following questions:\n",
        "\n",
        "1. Were there any hyperparameters you need to tune and, if so, what were the best values you found?\n",
        "2. Did selecting a smaller number of features improve or decrease the performance of your model?\n",
        "3. What 3 variables seem to play the largest role in determining `Happiness Score` based on your work in this part?"
      ],
      "metadata": {
        "id": "j3uA4BEp5qgI"
      }
    },
    {
      "cell_type": "markdown",
      "metadata": {
        "id": "EJMMjh4tE5GX"
      },
      "source": [
        "<a name=\"p3\"></a>\n",
        "\n",
        "---\n",
        "## **Part 3: Predicting Region**\n",
        "---\n",
        "\n",
        "Now you will create, evaluate, and train a machine learning model to predict the region of a country based on the provided numerical features. It is up to you to determine if you should be using Linear Regression or KNN here.\n",
        "\n",
        "<br>\n",
        "\n",
        "You will do this two times as follows:\n",
        "\n",
        "**Part 3.1**: Using All Numerical Features\n",
        "\n",
        "**Part 3.2**: Using the 3 Best Numerical Features\n"
      ]
    },
    {
      "cell_type": "markdown",
      "source": [
        "<a name=\"p31\"></a>\n",
        "\n",
        "---\n",
        "### **Part 3.1:** Using All Numerical Features\n",
        "---"
      ],
      "metadata": {
        "id": "i0fyIQD9E5GY"
      }
    },
    {
      "cell_type": "markdown",
      "source": [
        "#### **Step #1: Load in the data**\n",
        "\n",
        "This step was completed in Part 1!"
      ],
      "metadata": {
        "id": "mdj0b1848XHa"
      }
    },
    {
      "cell_type": "markdown",
      "metadata": {
        "id": "D9CMuXQAE5GY"
      },
      "source": [
        "#### **Step #2: Decide independent and dependent variables**\n",
        "\n",
        "Complete the code below to decide the independent and dependent variables.\n",
        "\n",
        "<br>\n",
        "\n",
        "**NOTE**: The dependent variable (label) for all of Part 3 is `Region Encoded`. Using one of several pandas functions, you can determine the numerical features available and use them all as the independent variables."
      ]
    },
    {
      "cell_type": "code",
      "source": [
        "happy_df.select_dtypes(include='number')"
      ],
      "metadata": {
        "id": "99NDwBqkE5GY",
        "outputId": "09cd1f9d-563b-463e-f265-4578a61c8c34",
        "colab": {
          "base_uri": "https://localhost:8080/",
          "height": 424
        }
      },
      "execution_count": 123,
      "outputs": [
        {
          "output_type": "execute_result",
          "data": {
            "text/plain": [
              "     Happiness Score      GDP  Social Support  Healthy Life Expectancy  \\\n",
              "0              7.587  1.39651         1.34951                  0.94143   \n",
              "1              7.561  1.30232         1.40223                  0.94784   \n",
              "2              7.527  1.32548         1.36058                  0.87464   \n",
              "3              7.522  1.45900         1.33095                  0.88521   \n",
              "4              7.427  1.32629         1.32261                  0.90563   \n",
              "..               ...      ...             ...                      ...   \n",
              "157            3.465  0.22208         0.77370                  0.42864   \n",
              "158            3.340  0.28665         0.35386                  0.31910   \n",
              "159            3.006  0.66320         0.47489                  0.72193   \n",
              "160            2.905  0.01530         0.41587                  0.22396   \n",
              "161            2.839  0.20868         0.13995                  0.28443   \n",
              "\n",
              "     Freedom  Corruption Perception  Generosity  Region Encoded  \n",
              "0    0.66557                0.41978     0.29678               0  \n",
              "1    0.62877                0.14145     0.43630               0  \n",
              "2    0.64938                0.48357     0.34139               0  \n",
              "3    0.66973                0.36503     0.34699               0  \n",
              "4    0.63297                0.32957     0.45811               1  \n",
              "..       ...                    ...         ...             ...  \n",
              "157  0.59201                0.55191     0.22628               8  \n",
              "158  0.48450                0.08010     0.18260               8  \n",
              "159  0.15684                0.18906     0.47179               3  \n",
              "160  0.11850                0.10062     0.19727               8  \n",
              "161  0.36453                0.10731     0.16681               8  \n",
              "\n",
              "[156 rows x 8 columns]"
            ],
            "text/html": [
              "\n",
              "  <div id=\"df-03bb189b-a17b-490f-92ed-23954d8cf587\" class=\"colab-df-container\">\n",
              "    <div>\n",
              "<style scoped>\n",
              "    .dataframe tbody tr th:only-of-type {\n",
              "        vertical-align: middle;\n",
              "    }\n",
              "\n",
              "    .dataframe tbody tr th {\n",
              "        vertical-align: top;\n",
              "    }\n",
              "\n",
              "    .dataframe thead th {\n",
              "        text-align: right;\n",
              "    }\n",
              "</style>\n",
              "<table border=\"1\" class=\"dataframe\">\n",
              "  <thead>\n",
              "    <tr style=\"text-align: right;\">\n",
              "      <th></th>\n",
              "      <th>Happiness Score</th>\n",
              "      <th>GDP</th>\n",
              "      <th>Social Support</th>\n",
              "      <th>Healthy Life Expectancy</th>\n",
              "      <th>Freedom</th>\n",
              "      <th>Corruption Perception</th>\n",
              "      <th>Generosity</th>\n",
              "      <th>Region Encoded</th>\n",
              "    </tr>\n",
              "  </thead>\n",
              "  <tbody>\n",
              "    <tr>\n",
              "      <th>0</th>\n",
              "      <td>7.587</td>\n",
              "      <td>1.39651</td>\n",
              "      <td>1.34951</td>\n",
              "      <td>0.94143</td>\n",
              "      <td>0.66557</td>\n",
              "      <td>0.41978</td>\n",
              "      <td>0.29678</td>\n",
              "      <td>0</td>\n",
              "    </tr>\n",
              "    <tr>\n",
              "      <th>1</th>\n",
              "      <td>7.561</td>\n",
              "      <td>1.30232</td>\n",
              "      <td>1.40223</td>\n",
              "      <td>0.94784</td>\n",
              "      <td>0.62877</td>\n",
              "      <td>0.14145</td>\n",
              "      <td>0.43630</td>\n",
              "      <td>0</td>\n",
              "    </tr>\n",
              "    <tr>\n",
              "      <th>2</th>\n",
              "      <td>7.527</td>\n",
              "      <td>1.32548</td>\n",
              "      <td>1.36058</td>\n",
              "      <td>0.87464</td>\n",
              "      <td>0.64938</td>\n",
              "      <td>0.48357</td>\n",
              "      <td>0.34139</td>\n",
              "      <td>0</td>\n",
              "    </tr>\n",
              "    <tr>\n",
              "      <th>3</th>\n",
              "      <td>7.522</td>\n",
              "      <td>1.45900</td>\n",
              "      <td>1.33095</td>\n",
              "      <td>0.88521</td>\n",
              "      <td>0.66973</td>\n",
              "      <td>0.36503</td>\n",
              "      <td>0.34699</td>\n",
              "      <td>0</td>\n",
              "    </tr>\n",
              "    <tr>\n",
              "      <th>4</th>\n",
              "      <td>7.427</td>\n",
              "      <td>1.32629</td>\n",
              "      <td>1.32261</td>\n",
              "      <td>0.90563</td>\n",
              "      <td>0.63297</td>\n",
              "      <td>0.32957</td>\n",
              "      <td>0.45811</td>\n",
              "      <td>1</td>\n",
              "    </tr>\n",
              "    <tr>\n",
              "      <th>...</th>\n",
              "      <td>...</td>\n",
              "      <td>...</td>\n",
              "      <td>...</td>\n",
              "      <td>...</td>\n",
              "      <td>...</td>\n",
              "      <td>...</td>\n",
              "      <td>...</td>\n",
              "      <td>...</td>\n",
              "    </tr>\n",
              "    <tr>\n",
              "      <th>157</th>\n",
              "      <td>3.465</td>\n",
              "      <td>0.22208</td>\n",
              "      <td>0.77370</td>\n",
              "      <td>0.42864</td>\n",
              "      <td>0.59201</td>\n",
              "      <td>0.55191</td>\n",
              "      <td>0.22628</td>\n",
              "      <td>8</td>\n",
              "    </tr>\n",
              "    <tr>\n",
              "      <th>158</th>\n",
              "      <td>3.340</td>\n",
              "      <td>0.28665</td>\n",
              "      <td>0.35386</td>\n",
              "      <td>0.31910</td>\n",
              "      <td>0.48450</td>\n",
              "      <td>0.08010</td>\n",
              "      <td>0.18260</td>\n",
              "      <td>8</td>\n",
              "    </tr>\n",
              "    <tr>\n",
              "      <th>159</th>\n",
              "      <td>3.006</td>\n",
              "      <td>0.66320</td>\n",
              "      <td>0.47489</td>\n",
              "      <td>0.72193</td>\n",
              "      <td>0.15684</td>\n",
              "      <td>0.18906</td>\n",
              "      <td>0.47179</td>\n",
              "      <td>3</td>\n",
              "    </tr>\n",
              "    <tr>\n",
              "      <th>160</th>\n",
              "      <td>2.905</td>\n",
              "      <td>0.01530</td>\n",
              "      <td>0.41587</td>\n",
              "      <td>0.22396</td>\n",
              "      <td>0.11850</td>\n",
              "      <td>0.10062</td>\n",
              "      <td>0.19727</td>\n",
              "      <td>8</td>\n",
              "    </tr>\n",
              "    <tr>\n",
              "      <th>161</th>\n",
              "      <td>2.839</td>\n",
              "      <td>0.20868</td>\n",
              "      <td>0.13995</td>\n",
              "      <td>0.28443</td>\n",
              "      <td>0.36453</td>\n",
              "      <td>0.10731</td>\n",
              "      <td>0.16681</td>\n",
              "      <td>8</td>\n",
              "    </tr>\n",
              "  </tbody>\n",
              "</table>\n",
              "<p>156 rows × 8 columns</p>\n",
              "</div>\n",
              "    <div class=\"colab-df-buttons\">\n",
              "\n",
              "  <div class=\"colab-df-container\">\n",
              "    <button class=\"colab-df-convert\" onclick=\"convertToInteractive('df-03bb189b-a17b-490f-92ed-23954d8cf587')\"\n",
              "            title=\"Convert this dataframe to an interactive table.\"\n",
              "            style=\"display:none;\">\n",
              "\n",
              "  <svg xmlns=\"http://www.w3.org/2000/svg\" height=\"24px\" viewBox=\"0 -960 960 960\">\n",
              "    <path d=\"M120-120v-720h720v720H120Zm60-500h600v-160H180v160Zm220 220h160v-160H400v160Zm0 220h160v-160H400v160ZM180-400h160v-160H180v160Zm440 0h160v-160H620v160ZM180-180h160v-160H180v160Zm440 0h160v-160H620v160Z\"/>\n",
              "  </svg>\n",
              "    </button>\n",
              "\n",
              "  <style>\n",
              "    .colab-df-container {\n",
              "      display:flex;\n",
              "      gap: 12px;\n",
              "    }\n",
              "\n",
              "    .colab-df-convert {\n",
              "      background-color: #E8F0FE;\n",
              "      border: none;\n",
              "      border-radius: 50%;\n",
              "      cursor: pointer;\n",
              "      display: none;\n",
              "      fill: #1967D2;\n",
              "      height: 32px;\n",
              "      padding: 0 0 0 0;\n",
              "      width: 32px;\n",
              "    }\n",
              "\n",
              "    .colab-df-convert:hover {\n",
              "      background-color: #E2EBFA;\n",
              "      box-shadow: 0px 1px 2px rgba(60, 64, 67, 0.3), 0px 1px 3px 1px rgba(60, 64, 67, 0.15);\n",
              "      fill: #174EA6;\n",
              "    }\n",
              "\n",
              "    .colab-df-buttons div {\n",
              "      margin-bottom: 4px;\n",
              "    }\n",
              "\n",
              "    [theme=dark] .colab-df-convert {\n",
              "      background-color: #3B4455;\n",
              "      fill: #D2E3FC;\n",
              "    }\n",
              "\n",
              "    [theme=dark] .colab-df-convert:hover {\n",
              "      background-color: #434B5C;\n",
              "      box-shadow: 0px 1px 3px 1px rgba(0, 0, 0, 0.15);\n",
              "      filter: drop-shadow(0px 1px 2px rgba(0, 0, 0, 0.3));\n",
              "      fill: #FFFFFF;\n",
              "    }\n",
              "  </style>\n",
              "\n",
              "    <script>\n",
              "      const buttonEl =\n",
              "        document.querySelector('#df-03bb189b-a17b-490f-92ed-23954d8cf587 button.colab-df-convert');\n",
              "      buttonEl.style.display =\n",
              "        google.colab.kernel.accessAllowed ? 'block' : 'none';\n",
              "\n",
              "      async function convertToInteractive(key) {\n",
              "        const element = document.querySelector('#df-03bb189b-a17b-490f-92ed-23954d8cf587');\n",
              "        const dataTable =\n",
              "          await google.colab.kernel.invokeFunction('convertToInteractive',\n",
              "                                                    [key], {});\n",
              "        if (!dataTable) return;\n",
              "\n",
              "        const docLinkHtml = 'Like what you see? Visit the ' +\n",
              "          '<a target=\"_blank\" href=https://colab.research.google.com/notebooks/data_table.ipynb>data table notebook</a>'\n",
              "          + ' to learn more about interactive tables.';\n",
              "        element.innerHTML = '';\n",
              "        dataTable['output_type'] = 'display_data';\n",
              "        await google.colab.output.renderOutput(dataTable, element);\n",
              "        const docLink = document.createElement('div');\n",
              "        docLink.innerHTML = docLinkHtml;\n",
              "        element.appendChild(docLink);\n",
              "      }\n",
              "    </script>\n",
              "  </div>\n",
              "\n",
              "\n",
              "    <div id=\"df-deb06316-32f9-4d0e-9802-a35347299655\">\n",
              "      <button class=\"colab-df-quickchart\" onclick=\"quickchart('df-deb06316-32f9-4d0e-9802-a35347299655')\"\n",
              "                title=\"Suggest charts\"\n",
              "                style=\"display:none;\">\n",
              "\n",
              "<svg xmlns=\"http://www.w3.org/2000/svg\" height=\"24px\"viewBox=\"0 0 24 24\"\n",
              "     width=\"24px\">\n",
              "    <g>\n",
              "        <path d=\"M19 3H5c-1.1 0-2 .9-2 2v14c0 1.1.9 2 2 2h14c1.1 0 2-.9 2-2V5c0-1.1-.9-2-2-2zM9 17H7v-7h2v7zm4 0h-2V7h2v10zm4 0h-2v-4h2v4z\"/>\n",
              "    </g>\n",
              "</svg>\n",
              "      </button>\n",
              "\n",
              "<style>\n",
              "  .colab-df-quickchart {\n",
              "      --bg-color: #E8F0FE;\n",
              "      --fill-color: #1967D2;\n",
              "      --hover-bg-color: #E2EBFA;\n",
              "      --hover-fill-color: #174EA6;\n",
              "      --disabled-fill-color: #AAA;\n",
              "      --disabled-bg-color: #DDD;\n",
              "  }\n",
              "\n",
              "  [theme=dark] .colab-df-quickchart {\n",
              "      --bg-color: #3B4455;\n",
              "      --fill-color: #D2E3FC;\n",
              "      --hover-bg-color: #434B5C;\n",
              "      --hover-fill-color: #FFFFFF;\n",
              "      --disabled-bg-color: #3B4455;\n",
              "      --disabled-fill-color: #666;\n",
              "  }\n",
              "\n",
              "  .colab-df-quickchart {\n",
              "    background-color: var(--bg-color);\n",
              "    border: none;\n",
              "    border-radius: 50%;\n",
              "    cursor: pointer;\n",
              "    display: none;\n",
              "    fill: var(--fill-color);\n",
              "    height: 32px;\n",
              "    padding: 0;\n",
              "    width: 32px;\n",
              "  }\n",
              "\n",
              "  .colab-df-quickchart:hover {\n",
              "    background-color: var(--hover-bg-color);\n",
              "    box-shadow: 0 1px 2px rgba(60, 64, 67, 0.3), 0 1px 3px 1px rgba(60, 64, 67, 0.15);\n",
              "    fill: var(--button-hover-fill-color);\n",
              "  }\n",
              "\n",
              "  .colab-df-quickchart-complete:disabled,\n",
              "  .colab-df-quickchart-complete:disabled:hover {\n",
              "    background-color: var(--disabled-bg-color);\n",
              "    fill: var(--disabled-fill-color);\n",
              "    box-shadow: none;\n",
              "  }\n",
              "\n",
              "  .colab-df-spinner {\n",
              "    border: 2px solid var(--fill-color);\n",
              "    border-color: transparent;\n",
              "    border-bottom-color: var(--fill-color);\n",
              "    animation:\n",
              "      spin 1s steps(1) infinite;\n",
              "  }\n",
              "\n",
              "  @keyframes spin {\n",
              "    0% {\n",
              "      border-color: transparent;\n",
              "      border-bottom-color: var(--fill-color);\n",
              "      border-left-color: var(--fill-color);\n",
              "    }\n",
              "    20% {\n",
              "      border-color: transparent;\n",
              "      border-left-color: var(--fill-color);\n",
              "      border-top-color: var(--fill-color);\n",
              "    }\n",
              "    30% {\n",
              "      border-color: transparent;\n",
              "      border-left-color: var(--fill-color);\n",
              "      border-top-color: var(--fill-color);\n",
              "      border-right-color: var(--fill-color);\n",
              "    }\n",
              "    40% {\n",
              "      border-color: transparent;\n",
              "      border-right-color: var(--fill-color);\n",
              "      border-top-color: var(--fill-color);\n",
              "    }\n",
              "    60% {\n",
              "      border-color: transparent;\n",
              "      border-right-color: var(--fill-color);\n",
              "    }\n",
              "    80% {\n",
              "      border-color: transparent;\n",
              "      border-right-color: var(--fill-color);\n",
              "      border-bottom-color: var(--fill-color);\n",
              "    }\n",
              "    90% {\n",
              "      border-color: transparent;\n",
              "      border-bottom-color: var(--fill-color);\n",
              "    }\n",
              "  }\n",
              "</style>\n",
              "\n",
              "      <script>\n",
              "        async function quickchart(key) {\n",
              "          const quickchartButtonEl =\n",
              "            document.querySelector('#' + key + ' button');\n",
              "          quickchartButtonEl.disabled = true;  // To prevent multiple clicks.\n",
              "          quickchartButtonEl.classList.add('colab-df-spinner');\n",
              "          try {\n",
              "            const charts = await google.colab.kernel.invokeFunction(\n",
              "                'suggestCharts', [key], {});\n",
              "          } catch (error) {\n",
              "            console.error('Error during call to suggestCharts:', error);\n",
              "          }\n",
              "          quickchartButtonEl.classList.remove('colab-df-spinner');\n",
              "          quickchartButtonEl.classList.add('colab-df-quickchart-complete');\n",
              "        }\n",
              "        (() => {\n",
              "          let quickchartButtonEl =\n",
              "            document.querySelector('#df-deb06316-32f9-4d0e-9802-a35347299655 button');\n",
              "          quickchartButtonEl.style.display =\n",
              "            google.colab.kernel.accessAllowed ? 'block' : 'none';\n",
              "        })();\n",
              "      </script>\n",
              "    </div>\n",
              "\n",
              "    </div>\n",
              "  </div>\n"
            ],
            "application/vnd.google.colaboratory.intrinsic+json": {
              "type": "dataframe",
              "summary": "{\n  \"name\": \"happy_df\",\n  \"rows\": 156,\n  \"fields\": [\n    {\n      \"column\": \"Happiness Score\",\n      \"properties\": {\n        \"dtype\": \"number\",\n        \"std\": 1.1421771944616943,\n        \"min\": 2.839,\n        \"max\": 7.587,\n        \"num_unique_values\": 155,\n        \"samples\": [\n          5.129,\n          3.781,\n          6.477\n        ],\n        \"semantic_type\": \"\",\n        \"description\": \"\"\n      }\n    },\n    {\n      \"column\": \"GDP\",\n      \"properties\": {\n        \"dtype\": \"number\",\n        \"std\": 0.4032819223180377,\n        \"min\": 0.0,\n        \"max\": 1.69042,\n        \"num_unique_values\": 156,\n        \"samples\": [\n          0.59066,\n          1.38604,\n          0.47038\n        ],\n        \"semantic_type\": \"\",\n        \"description\": \"\"\n      }\n    },\n    {\n      \"column\": \"Social Support\",\n      \"properties\": {\n        \"dtype\": \"number\",\n        \"std\": 0.2730014013254164,\n        \"min\": 0.0,\n        \"max\": 1.40223,\n        \"num_unique_values\": 156,\n        \"samples\": [\n          0.73803,\n          1.05818,\n          0.91612\n        ],\n        \"semantic_type\": \"\",\n        \"description\": \"\"\n      }\n    },\n    {\n      \"column\": \"Healthy Life Expectancy\",\n      \"properties\": {\n        \"dtype\": \"number\",\n        \"std\": 0.24778011895682114,\n        \"min\": 0.0,\n        \"max\": 1.02525,\n        \"num_unique_values\": 155,\n        \"samples\": [\n          0.29924,\n          0.38215,\n          0.69077\n        ],\n        \"semantic_type\": \"\",\n        \"description\": \"\"\n      }\n    },\n    {\n      \"column\": \"Freedom\",\n      \"properties\": {\n        \"dtype\": \"number\",\n        \"std\": 0.15062784129386392,\n        \"min\": 0.0,\n        \"max\": 0.66973,\n        \"num_unique_values\": 156,\n        \"samples\": [\n          0.59591,\n          0.59608,\n          0.48827\n        ],\n        \"semantic_type\": \"\",\n        \"description\": \"\"\n      }\n    },\n    {\n      \"column\": \"Corruption Perception\",\n      \"properties\": {\n        \"dtype\": \"number\",\n        \"std\": 0.12032114550430165,\n        \"min\": 0.0,\n        \"max\": 0.55191,\n        \"num_unique_values\": 155,\n        \"samples\": [\n          0.12468,\n          0.05747,\n          0.0512\n        ],\n        \"semantic_type\": \"\",\n        \"description\": \"\"\n      }\n    },\n    {\n      \"column\": \"Generosity\",\n      \"properties\": {\n        \"dtype\": \"number\",\n        \"std\": 0.12725758836981232,\n        \"min\": 0.0,\n        \"max\": 0.79588,\n        \"num_unique_values\": 156,\n        \"samples\": [\n          0.42192,\n          0.39478,\n          0.19591\n        ],\n        \"semantic_type\": \"\",\n        \"description\": \"\"\n      }\n    },\n    {\n      \"column\": \"Region Encoded\",\n      \"properties\": {\n        \"dtype\": \"number\",\n        \"std\": 2,\n        \"min\": 0,\n        \"max\": 9,\n        \"num_unique_values\": 10,\n        \"samples\": [\n          8,\n          1,\n          5\n        ],\n        \"semantic_type\": \"\",\n        \"description\": \"\"\n      }\n    }\n  ]\n}"
            }
          },
          "metadata": {},
          "execution_count": 123
        }
      ]
    },
    {
      "cell_type": "code",
      "source": [
        "x = happy_df.select_dtypes(include='number').drop(\"Region Encoded\", axis=1)\n",
        "y = happy_df[\"Region Encoded\"]"
      ],
      "metadata": {
        "id": "NZGLpbP6E5GY"
      },
      "execution_count": 127,
      "outputs": []
    },
    {
      "cell_type": "markdown",
      "metadata": {
        "id": "djC1sj3oE5GZ"
      },
      "source": [
        "#### **Step #3: Split data into training and testing data**\n",
        "\n",
        "Complete the code below to split the data, using 80% for training and 20% for testing."
      ]
    },
    {
      "cell_type": "code",
      "source": [
        "X_train, X_test, y_train, y_test = train_test_split(x, y, test_size=0.2, random_state=2025)"
      ],
      "metadata": {
        "id": "r3YE1P5PE5GZ"
      },
      "execution_count": 128,
      "outputs": []
    },
    {
      "cell_type": "markdown",
      "metadata": {
        "id": "KWsq7ReOE5GZ"
      },
      "source": [
        "#### **Step #4: Import the algorithm**"
      ]
    },
    {
      "cell_type": "code",
      "source": [
        "from sklearn.neighbors import KNeighborsClassifier"
      ],
      "metadata": {
        "id": "F3PaG1FzE5GZ"
      },
      "execution_count": 130,
      "outputs": []
    },
    {
      "cell_type": "markdown",
      "metadata": {
        "id": "XGNNOAncSEDM"
      },
      "source": [
        "#### **Step #5: Initialize the model and set hyperparameters**\n",
        "\n",
        "Specifically,\n",
        "* For Linear Regression, there are no hyperparameters to set.\n",
        "* For KNN, choose a reasonable value for `n_neighbors`. You are encouraged to try Steps #5 - 7 for several values and picking the model with the highest performance."
      ]
    },
    {
      "cell_type": "code",
      "source": [
        "import math\n",
        "model_1 = KNeighborsClassifier(n_neighbors=int(math.sqrt(happy_df.shape[0])))"
      ],
      "metadata": {
        "id": "r3xju1miE5GZ"
      },
      "execution_count": 137,
      "outputs": []
    },
    {
      "cell_type": "markdown",
      "metadata": {
        "id": "9nk_tLXnE5GZ"
      },
      "source": [
        "#### **Step #6: Fit your model and make a prediction.**\n",
        "\n",
        "Create a visualization if applicable.\n",
        "\n",
        "Specifically,\n",
        "\n",
        "1. Fit the model to the training data and make predictions on the test data.\n",
        "2. Visualize the results."
      ]
    },
    {
      "cell_type": "markdown",
      "source": [
        "##### **1. Fit the model to the training data.**"
      ],
      "metadata": {
        "id": "GaunVzj4E5GZ"
      }
    },
    {
      "cell_type": "code",
      "source": [
        "model_1.fit(X_train, y_train)\n",
        "predictions = model_1.predict(X_test)"
      ],
      "metadata": {
        "id": "6H04Op7QE5GZ"
      },
      "execution_count": 138,
      "outputs": []
    },
    {
      "cell_type": "markdown",
      "source": [
        "##### **2. Visualize the results.**\n",
        "\n",
        "The code is provided for both linear regression and KNN, but it is up to you to decide which one makes the most sense here."
      ],
      "metadata": {
        "id": "ei8qXhfUE5GZ"
      }
    },
    {
      "cell_type": "markdown",
      "source": [
        "###### **Linear Regression Visualization**"
      ],
      "metadata": {
        "id": "Z0uReehGE5GZ"
      }
    },
    {
      "cell_type": "code",
      "source": [
        "# Visualize comparison of predictions vs. actual values\n",
        "plt.scatter(y_test, predictions)\n",
        "plt.plot([y_test.min(), y_test.max()], [y_test.min(), y_test.max()], color = 'black', label='Correct Predictions')\n",
        "\n",
        "\n",
        "plt.xlabel('True Value')\n",
        "plt.ylabel('Predicted Value')\n",
        "plt.title('Real vs Value')\n",
        "plt.legend()\n",
        "\n",
        "plt.show()"
      ],
      "metadata": {
        "id": "1EomRElbE5GZ"
      },
      "execution_count": null,
      "outputs": []
    },
    {
      "cell_type": "markdown",
      "source": [
        "###### **KNN Visualization**"
      ],
      "metadata": {
        "id": "aD9TwOaPE5GZ"
      }
    },
    {
      "cell_type": "code",
      "source": [
        "feature_1_name = 'GDP'\n",
        "feature_2_name = 'Healthy Life Expectancy'\n",
        "\n",
        "\n",
        "# Make the same scatter plot of the training data\n",
        "fig, ax = plt.subplots(figsize=(10,6))\n",
        "\n",
        "xx, yy = np.meshgrid(np.arange(happy_df[feature_1_name].min() - 0.1, happy_df[feature_1_name].max() + 0.1, 0.01),\n",
        "                     np.arange(happy_df[feature_2_name].min() - 0.1, happy_df[feature_2_name].max() + 0.1, 0.01))\n",
        "means = x.mean()\n",
        "inputs = [[means[0], x, means[2], y, means[4], means[5], means[6]] for (x, y) in np.c_[xx.ravel(), yy.ravel()]]\n",
        "z = model_1.predict(inputs)\n",
        "z = z.reshape(xx.shape)\n",
        "\n",
        "ax.pcolormesh(xx, yy, z, alpha=0.1)\n",
        "\n",
        "for label, data in happy_df.groupby('Region'):\n",
        "  ax.scatter(data[feature_1_name], data[feature_2_name], label=label)\n",
        "\n",
        "ax.set_title(\"Decision Boundary of the KNN Classifier\")\n",
        "ax.set_xlabel(feature_1_name)\n",
        "ax.set_ylabel(feature_2_name)\n",
        "ax.legend()\n",
        "plt.show()"
      ],
      "metadata": {
        "id": "EBOzFa8pE5GZ",
        "outputId": "178e26cd-97c7-4237-eddb-acf14b1d526e",
        "colab": {
          "base_uri": "https://localhost:8080/",
          "height": 564
        }
      },
      "execution_count": 139,
      "outputs": [
        {
          "output_type": "display_data",
          "data": {
            "text/plain": [
              "<Figure size 1000x600 with 1 Axes>"
            ],
            "image/png": "[encoded data removed]"
          },
          "metadata": {}
        }
      ]
    },
    {
      "cell_type": "markdown",
      "metadata": {
        "id": "wdbPdS_BSXpY"
      },
      "source": [
        "#### **Step #7: Evaluate the model’s performance**\n",
        "\n",
        "To complete this step, you will need to recall or find out what evaluation metrics we typically use for whichever type of model you have trained.\n",
        "\n",
        "<br>\n",
        "\n",
        "If you used KNN, you should try several values for Steps #5 - 7 and pick the model that performs highest according to these metrics."
      ]
    },
    {
      "cell_type": "code",
      "source": [
        "accuracy_score(y_test, predictions)"
      ],
      "metadata": {
        "id": "Npy8lq_6E5Ga",
        "outputId": "c64a2921-55ee-41dc-83ee-ae9e72395d4b",
        "colab": {
          "base_uri": "https://localhost:8080/"
        }
      },
      "execution_count": 140,
      "outputs": [
        {
          "output_type": "execute_result",
          "data": {
            "text/plain": [
              "0.65625"
            ]
          },
          "metadata": {},
          "execution_count": 140
        }
      ]
    },
    {
      "cell_type": "markdown",
      "metadata": {
        "id": "6dbGqSTJE5Ga"
      },
      "source": [
        "#### **Step #8: Use the model**\n",
        "\n",
        "Specifically,\n",
        "\n",
        "1. Predict the region of three countries that reported provided results for their numerical measures.\n",
        "\n",
        "2. Visualize the modeled relationship between `Happinesss Score` and `Social Support` to see if a qualitative relationship can be inferred.\n",
        "\n",
        "3. *If you used linear regression*, look at the coefficients and intercept to determine the modeled relationships quantitatively."
      ]
    },
    {
      "cell_type": "markdown",
      "source": [
        "##### **1. Predict the region of these countries that reported the following results for their numerical measures:**\n",
        "\n",
        "**Country 1**\n",
        "\n",
        "* `Happiness Score`: 2.3\n",
        "* `GDP`: 0.9\n",
        "* `Social Support`: 0.4\n",
        "* `Healthy Life Expectancy`: 0.8\n",
        "* `Freedom`: 0.4\n",
        "* `Corruption Perception`: 0.2\n",
        "* `Generosity`: 0.09\n",
        "\n",
        "<br>\n",
        "\n",
        "**Country 2**\n",
        "\n",
        "* `Happiness Score`: 7.8\n",
        "* `GDP`: 0.9\n",
        "* `Social Support`: 0.4\n",
        "* `Healthy Life Expectancy`: 0.8\n",
        "* `Freedom`: 0.4\n",
        "* `Corruption Perception`: 0.2\n",
        "* `Generosity`: 0.09\n",
        "\n",
        "<br>\n",
        "\n",
        "**Country 3**\n",
        "\n",
        "* `Happiness Score`: 4.5\n",
        "* `GDP`: 1.1\n",
        "* `Social Support`: 0.9\n",
        "* `Healthy Life Expectancy`: 1.01\n",
        "* `Freedom`: 0.9\n",
        "* `Corruption Perception`: 1.1\n",
        "* `Generosity`: 0.9"
      ],
      "metadata": {
        "id": "bku6k9_wE5Ga"
      }
    },
    {
      "cell_type": "code",
      "source": [
        "# Country 1 data (excluding Happiness Score)\n",
        "country_1 = pd.DataFrame([[2.3, 0.9, 0.4, 0.8, 0.4, 0.2, 0.09]], columns=X_test.columns)\n",
        "\n",
        "# Predict region\n",
        "region_1 = model_1.predict(country_1)\n",
        "print(happy_df['Region'].unique()[region_1[0]])"
      ],
      "metadata": {
        "id": "57oSrPsOE5Ga",
        "outputId": "b3edc3ed-df41-4014-b64c-c82eb61dcd99",
        "colab": {
          "base_uri": "https://localhost:8080/"
        }
      },
      "execution_count": 149,
      "outputs": [
        {
          "output_type": "stream",
          "name": "stdout",
          "text": [
            "Sub-Saharan Africa\n"
          ]
        }
      ]
    },
    {
      "cell_type": "code",
      "source": [
        "new_country = pd.DataFrame([[7.8, 0.9, 0.4, 0.8, 0.4, 0.2, 0.09]], columns=X_test.columns)\n",
        "\n",
        "region = model_1.predict(new_country)\n",
        "print(happy_df['Region'].unique()[region[0]])"
      ],
      "metadata": {
        "id": "bBZisTMME5Ga",
        "outputId": "b7d197c4-8435-46a5-e7b8-cd0fb40c5eea",
        "colab": {
          "base_uri": "https://localhost:8080/"
        }
      },
      "execution_count": 150,
      "outputs": [
        {
          "output_type": "stream",
          "name": "stdout",
          "text": [
            "Latin America and Caribbean\n"
          ]
        }
      ]
    },
    {
      "cell_type": "code",
      "source": [
        "new_country = pd.DataFrame([[4.5, 1.1, 0.9, 1.01, 0.9, 1.1, 0.9]], columns=X_test.columns)\n",
        "\n",
        "region = model_1.predict(new_country)\n",
        "print(happy_df['Region'].unique()[region[0]])"
      ],
      "metadata": {
        "id": "LuoaErMNE5Ga",
        "outputId": "6b8e9b18-d7ca-4eae-825c-bc47457454af",
        "colab": {
          "base_uri": "https://localhost:8080/"
        }
      },
      "execution_count": 151,
      "outputs": [
        {
          "output_type": "stream",
          "name": "stdout",
          "text": [
            "Southeastern Asia\n"
          ]
        }
      ]
    },
    {
      "cell_type": "markdown",
      "source": [
        "##### **2. Visualize the modeled relationship between `Region` and `Healthy Life Expectancy` to see if a qualitative relationship can be inferred.**"
      ],
      "metadata": {
        "id": "an3S5LktE5Ga"
      }
    },
    {
      "cell_type": "code",
      "source": [
        "# COMPLETE THIS CODE\n",
        "\n",
        "plt.barh(happy_df[\"Region\"], happy_df[\"Healthy Life Expectancy\"])\n",
        "plt.xlabel(\"Healthy Life Expectancy\")\n",
        "plt.ylabel(\"Region\")\n",
        "plt.title(\"Region compared to Healthy Life Expectancy\")\n",
        "plt.yticks(ticks = range(10), labels = happy_df['Region'].unique())\n",
        "\n",
        "plt.show()"
      ],
      "metadata": {
        "id": "96zinD1XE5Ga",
        "outputId": "2dc5e3c4-ca4f-4619-e8f3-c1cf503ada8a",
        "colab": {
          "base_uri": "https://localhost:8080/",
          "height": 472
        }
      },
      "execution_count": 159,
      "outputs": [
        {
          "output_type": "display_data",
          "data": {
            "text/plain": [
              "<Figure size 640x480 with 1 Axes>"
            ],
            "image/png": "[encoded data removed]"
          },
          "metadata": {}
        }
      ]
    },
    {
      "cell_type": "markdown",
      "source": [
        "##### **3. *If you used linear regression*, complete the cells below to look at the coefficients and intercept to determine the modeled relationships quantitatively.**"
      ],
      "metadata": {
        "id": "ZaPbThUnE5Ga"
      }
    },
    {
      "cell_type": "code",
      "source": [
        "coefficients = model_1.coefficients\n",
        "intercept = model_1.intercept_\n",
        "\n",
        "coefficients = pd.DataFrame([coefficients], columns = X_test.columns)\n",
        "intercept = pd.DataFrame([intercept], columns = [\"Happiness Score\"])"
      ],
      "metadata": {
        "id": "m4dmh6wpE5Ga",
        "outputId": "906aff27-086c-4dcc-dd5c-8271a02e95f6",
        "colab": {
          "base_uri": "https://localhost:8080/",
          "height": 226
        }
      },
      "execution_count": 162,
      "outputs": [
        {
          "output_type": "error",
          "ename": "AttributeError",
          "evalue": "'KNeighborsClassifier' object has no attribute 'coefficients'",
          "traceback": [
            "\u001b[0;31m---------------------------------------------------------------------------\u001b[0m",
            "\u001b[0;31mAttributeError\u001b[0m                            Traceback (most recent call last)",
            "\u001b[0;32m/tmp/ipython-input-162-515636493.py\u001b[0m in \u001b[0;36m<cell line: 0>\u001b[0;34m()\u001b[0m\n\u001b[0;32m----> 1\u001b[0;31m \u001b[0mcoefficients\u001b[0m \u001b[0;34m=\u001b[0m \u001b[0mmodel_1\u001b[0m\u001b[0;34m.\u001b[0m\u001b[0mcoefficients\u001b[0m\u001b[0;34m\u001b[0m\u001b[0;34m\u001b[0m\u001b[0m\n\u001b[0m\u001b[1;32m      2\u001b[0m \u001b[0mintercept\u001b[0m \u001b[0;34m=\u001b[0m \u001b[0mmodel_1\u001b[0m\u001b[0;34m.\u001b[0m\u001b[0mintercept_\u001b[0m\u001b[0;34m\u001b[0m\u001b[0;34m\u001b[0m\u001b[0m\n\u001b[1;32m      3\u001b[0m \u001b[0;34m\u001b[0m\u001b[0m\n\u001b[1;32m      4\u001b[0m \u001b[0mcoefficients\u001b[0m \u001b[0;34m=\u001b[0m \u001b[0mpd\u001b[0m\u001b[0;34m.\u001b[0m\u001b[0mDataFrame\u001b[0m\u001b[0;34m(\u001b[0m\u001b[0;34m[\u001b[0m\u001b[0mcoefficients\u001b[0m\u001b[0;34m]\u001b[0m\u001b[0;34m,\u001b[0m \u001b[0mcolumns\u001b[0m \u001b[0;34m=\u001b[0m \u001b[0mX_test\u001b[0m\u001b[0;34m.\u001b[0m\u001b[0mcolumns\u001b[0m\u001b[0;34m)\u001b[0m\u001b[0;34m\u001b[0m\u001b[0;34m\u001b[0m\u001b[0m\n\u001b[1;32m      5\u001b[0m \u001b[0mintercept\u001b[0m \u001b[0;34m=\u001b[0m \u001b[0mpd\u001b[0m\u001b[0;34m.\u001b[0m\u001b[0mDataFrame\u001b[0m\u001b[0;34m(\u001b[0m\u001b[0;34m[\u001b[0m\u001b[0mintercept\u001b[0m\u001b[0;34m]\u001b[0m\u001b[0;34m,\u001b[0m \u001b[0mcolumns\u001b[0m \u001b[0;34m=\u001b[0m \u001b[0;34m[\u001b[0m\u001b[0;34m\"Happiness Score\"\u001b[0m\u001b[0;34m]\u001b[0m\u001b[0;34m)\u001b[0m\u001b[0;34m\u001b[0m\u001b[0;34m\u001b[0m\u001b[0m\n",
            "\u001b[0;31mAttributeError\u001b[0m: 'KNeighborsClassifier' object has no attribute 'coefficients'"
          ]
        }
      ]
    },
    {
      "cell_type": "code",
      "source": [
        "print(\"Coefficients:\")\n",
        "coefficients.head()"
      ],
      "metadata": {
        "id": "Jm9zzcEPE5Ga"
      },
      "execution_count": null,
      "outputs": []
    },
    {
      "cell_type": "code",
      "source": [
        "print(\"\\nIntercept:\")\n",
        "intercept.head()"
      ],
      "metadata": {
        "id": "dTES_SghE5Ga"
      },
      "execution_count": null,
      "outputs": []
    },
    {
      "cell_type": "markdown",
      "source": [
        "<a name=\"p32\"></a>\n",
        "\n",
        "---\n",
        "### **Part 3.2: Using the 2 Best Numerical Features**\n",
        "---"
      ],
      "metadata": {
        "id": "BxdlnZ9iE5Gb"
      }
    },
    {
      "cell_type": "markdown",
      "source": [
        "#### **Step #1: Load your data**\n",
        "\n",
        "This step was already done previously."
      ],
      "metadata": {
        "id": "dV130a77KU8L"
      }
    },
    {
      "cell_type": "markdown",
      "metadata": {
        "id": "jZ9_kHbOE5Gb"
      },
      "source": [
        "#### **Step #2: Decide independent and dependent variables**\n",
        "\n",
        "Examine the correlations to select the 2 best numerical features.\n",
        "\n",
        "<br>\n",
        "\n",
        "**NOTE**: `y` will be the same in all of Part 3."
      ]
    },
    {
      "cell_type": "code",
      "source": [
        "happy_df.select_dtypes(include=\"number\").corr()"
      ],
      "metadata": {
        "id": "kUoFOKVafrHW",
        "outputId": "64758301-a395-435d-e6cd-ccf128d5043f",
        "colab": {
          "base_uri": "https://localhost:8080/",
          "height": 300
        }
      },
      "execution_count": 164,
      "outputs": [
        {
          "output_type": "execute_result",
          "data": {
            "text/plain": [
              "                         Happiness Score       GDP  Social Support  \\\n",
              "Happiness Score                 1.000000  0.781898        0.738371   \n",
              "GDP                             0.781898  1.000000        0.643373   \n",
              "Social Support                  0.738371  0.643373        1.000000   \n",
              "Healthy Life Expectancy         0.722515  0.815871        0.527575   \n",
              "Freedom                         0.565710  0.362182        0.437326   \n",
              "Corruption Perception           0.399748  0.303918        0.205316   \n",
              "Generosity                      0.175286 -0.017218        0.082820   \n",
              "Region Encoded                 -0.687681 -0.688493       -0.495771   \n",
              "\n",
              "                         Healthy Life Expectancy   Freedom  \\\n",
              "Happiness Score                         0.722515  0.565710   \n",
              "GDP                                     0.815871  0.362182   \n",
              "Social Support                          0.527575  0.437326   \n",
              "Healthy Life Expectancy                 1.000000  0.355214   \n",
              "Freedom                                 0.355214  1.000000   \n",
              "Corruption Perception                   0.247486  0.491362   \n",
              "Generosity                              0.103858  0.370082   \n",
              "Region Encoded                         -0.709942 -0.371392   \n",
              "\n",
              "                         Corruption Perception  Generosity  Region Encoded  \n",
              "Happiness Score                       0.399748    0.175286       -0.687681  \n",
              "GDP                                   0.303918   -0.017218       -0.688493  \n",
              "Social Support                        0.205316    0.082820       -0.495771  \n",
              "Healthy Life Expectancy               0.247486    0.103858       -0.709942  \n",
              "Freedom                               0.491362    0.370082       -0.371392  \n",
              "Corruption Perception                 1.000000    0.274579       -0.340560  \n",
              "Generosity                            0.274579    1.000000       -0.155978  \n",
              "Region Encoded                       -0.340560   -0.155978        1.000000  "
            ],
            "text/html": [
              "\n",
              "  <div id=\"df-0edee3fb-5252-4464-b6af-f5b9607b5514\" class=\"colab-df-container\">\n",
              "    <div>\n",
              "<style scoped>\n",
              "    .dataframe tbody tr th:only-of-type {\n",
              "        vertical-align: middle;\n",
              "    }\n",
              "\n",
              "    .dataframe tbody tr th {\n",
              "        vertical-align: top;\n",
              "    }\n",
              "\n",
              "    .dataframe thead th {\n",
              "        text-align: right;\n",
              "    }\n",
              "</style>\n",
              "<table border=\"1\" class=\"dataframe\">\n",
              "  <thead>\n",
              "    <tr style=\"text-align: right;\">\n",
              "      <th></th>\n",
              "      <th>Happiness Score</th>\n",
              "      <th>GDP</th>\n",
              "      <th>Social Support</th>\n",
              "      <th>Healthy Life Expectancy</th>\n",
              "      <th>Freedom</th>\n",
              "      <th>Corruption Perception</th>\n",
              "      <th>Generosity</th>\n",
              "      <th>Region Encoded</th>\n",
              "    </tr>\n",
              "  </thead>\n",
              "  <tbody>\n",
              "    <tr>\n",
              "      <th>Happiness Score</th>\n",
              "      <td>1.000000</td>\n",
              "      <td>0.781898</td>\n",
              "      <td>0.738371</td>\n",
              "      <td>0.722515</td>\n",
              "      <td>0.565710</td>\n",
              "      <td>0.399748</td>\n",
              "      <td>0.175286</td>\n",
              "      <td>-0.687681</td>\n",
              "    </tr>\n",
              "    <tr>\n",
              "      <th>GDP</th>\n",
              "      <td>0.781898</td>\n",
              "      <td>1.000000</td>\n",
              "      <td>0.643373</td>\n",
              "      <td>0.815871</td>\n",
              "      <td>0.362182</td>\n",
              "      <td>0.303918</td>\n",
              "      <td>-0.017218</td>\n",
              "      <td>-0.688493</td>\n",
              "    </tr>\n",
              "    <tr>\n",
              "      <th>Social Support</th>\n",
              "      <td>0.738371</td>\n",
              "      <td>0.643373</td>\n",
              "      <td>1.000000</td>\n",
              "      <td>0.527575</td>\n",
              "      <td>0.437326</td>\n",
              "      <td>0.205316</td>\n",
              "      <td>0.082820</td>\n",
              "      <td>-0.495771</td>\n",
              "    </tr>\n",
              "    <tr>\n",
              "      <th>Healthy Life Expectancy</th>\n",
              "      <td>0.722515</td>\n",
              "      <td>0.815871</td>\n",
              "      <td>0.527575</td>\n",
              "      <td>1.000000</td>\n",
              "      <td>0.355214</td>\n",
              "      <td>0.247486</td>\n",
              "      <td>0.103858</td>\n",
              "      <td>-0.709942</td>\n",
              "    </tr>\n",
              "    <tr>\n",
              "      <th>Freedom</th>\n",
              "      <td>0.565710</td>\n",
              "      <td>0.362182</td>\n",
              "      <td>0.437326</td>\n",
              "      <td>0.355214</td>\n",
              "      <td>1.000000</td>\n",
              "      <td>0.491362</td>\n",
              "      <td>0.370082</td>\n",
              "      <td>-0.371392</td>\n",
              "    </tr>\n",
              "    <tr>\n",
              "      <th>Corruption Perception</th>\n",
              "      <td>0.399748</td>\n",
              "      <td>0.303918</td>\n",
              "      <td>0.205316</td>\n",
              "      <td>0.247486</td>\n",
              "      <td>0.491362</td>\n",
              "      <td>1.000000</td>\n",
              "      <td>0.274579</td>\n",
              "      <td>-0.340560</td>\n",
              "    </tr>\n",
              "    <tr>\n",
              "      <th>Generosity</th>\n",
              "      <td>0.175286</td>\n",
              "      <td>-0.017218</td>\n",
              "      <td>0.082820</td>\n",
              "      <td>0.103858</td>\n",
              "      <td>0.370082</td>\n",
              "      <td>0.274579</td>\n",
              "      <td>1.000000</td>\n",
              "      <td>-0.155978</td>\n",
              "    </tr>\n",
              "    <tr>\n",
              "      <th>Region Encoded</th>\n",
              "      <td>-0.687681</td>\n",
              "      <td>-0.688493</td>\n",
              "      <td>-0.495771</td>\n",
              "      <td>-0.709942</td>\n",
              "      <td>-0.371392</td>\n",
              "      <td>-0.340560</td>\n",
              "      <td>-0.155978</td>\n",
              "      <td>1.000000</td>\n",
              "    </tr>\n",
              "  </tbody>\n",
              "</table>\n",
              "</div>\n",
              "    <div class=\"colab-df-buttons\">\n",
              "\n",
              "  <div class=\"colab-df-container\">\n",
              "    <button class=\"colab-df-convert\" onclick=\"convertToInteractive('df-0edee3fb-5252-4464-b6af-f5b9607b5514')\"\n",
              "            title=\"Convert this dataframe to an interactive table.\"\n",
              "            style=\"display:none;\">\n",
              "\n",
              "  <svg xmlns=\"http://www.w3.org/2000/svg\" height=\"24px\" viewBox=\"0 -960 960 960\">\n",
              "    <path d=\"M120-120v-720h720v720H120Zm60-500h600v-160H180v160Zm220 220h160v-160H400v160Zm0 220h160v-160H400v160ZM180-400h160v-160H180v160Zm440 0h160v-160H620v160ZM180-180h160v-160H180v160Zm440 0h160v-160H620v160Z\"/>\n",
              "  </svg>\n",
              "    </button>\n",
              "\n",
              "  <style>\n",
              "    .colab-df-container {\n",
              "      display:flex;\n",
              "      gap: 12px;\n",
              "    }\n",
              "\n",
              "    .colab-df-convert {\n",
              "      background-color: #E8F0FE;\n",
              "      border: none;\n",
              "      border-radius: 50%;\n",
              "      cursor: pointer;\n",
              "      display: none;\n",
              "      fill: #1967D2;\n",
              "      height: 32px;\n",
              "      padding: 0 0 0 0;\n",
              "      width: 32px;\n",
              "    }\n",
              "\n",
              "    .colab-df-convert:hover {\n",
              "      background-color: #E2EBFA;\n",
              "      box-shadow: 0px 1px 2px rgba(60, 64, 67, 0.3), 0px 1px 3px 1px rgba(60, 64, 67, 0.15);\n",
              "      fill: #174EA6;\n",
              "    }\n",
              "\n",
              "    .colab-df-buttons div {\n",
              "      margin-bottom: 4px;\n",
              "    }\n",
              "\n",
              "    [theme=dark] .colab-df-convert {\n",
              "      background-color: #3B4455;\n",
              "      fill: #D2E3FC;\n",
              "    }\n",
              "\n",
              "    [theme=dark] .colab-df-convert:hover {\n",
              "      background-color: #434B5C;\n",
              "      box-shadow: 0px 1px 3px 1px rgba(0, 0, 0, 0.15);\n",
              "      filter: drop-shadow(0px 1px 2px rgba(0, 0, 0, 0.3));\n",
              "      fill: #FFFFFF;\n",
              "    }\n",
              "  </style>\n",
              "\n",
              "    <script>\n",
              "      const buttonEl =\n",
              "        document.querySelector('#df-0edee3fb-5252-4464-b6af-f5b9607b5514 button.colab-df-convert');\n",
              "      buttonEl.style.display =\n",
              "        google.colab.kernel.accessAllowed ? 'block' : 'none';\n",
              "\n",
              "      async function convertToInteractive(key) {\n",
              "        const element = document.querySelector('#df-0edee3fb-5252-4464-b6af-f5b9607b5514');\n",
              "        const dataTable =\n",
              "          await google.colab.kernel.invokeFunction('convertToInteractive',\n",
              "                                                    [key], {});\n",
              "        if (!dataTable) return;\n",
              "\n",
              "        const docLinkHtml = 'Like what you see? Visit the ' +\n",
              "          '<a target=\"_blank\" href=https://colab.research.google.com/notebooks/data_table.ipynb>data table notebook</a>'\n",
              "          + ' to learn more about interactive tables.';\n",
              "        element.innerHTML = '';\n",
              "        dataTable['output_type'] = 'display_data';\n",
              "        await google.colab.output.renderOutput(dataTable, element);\n",
              "        const docLink = document.createElement('div');\n",
              "        docLink.innerHTML = docLinkHtml;\n",
              "        element.appendChild(docLink);\n",
              "      }\n",
              "    </script>\n",
              "  </div>\n",
              "\n",
              "\n",
              "    <div id=\"df-28289d51-83d4-4bfa-b3d0-7c77102456f8\">\n",
              "      <button class=\"colab-df-quickchart\" onclick=\"quickchart('df-28289d51-83d4-4bfa-b3d0-7c77102456f8')\"\n",
              "                title=\"Suggest charts\"\n",
              "                style=\"display:none;\">\n",
              "\n",
              "<svg xmlns=\"http://www.w3.org/2000/svg\" height=\"24px\"viewBox=\"0 0 24 24\"\n",
              "     width=\"24px\">\n",
              "    <g>\n",
              "        <path d=\"M19 3H5c-1.1 0-2 .9-2 2v14c0 1.1.9 2 2 2h14c1.1 0 2-.9 2-2V5c0-1.1-.9-2-2-2zM9 17H7v-7h2v7zm4 0h-2V7h2v10zm4 0h-2v-4h2v4z\"/>\n",
              "    </g>\n",
              "</svg>\n",
              "      </button>\n",
              "\n",
              "<style>\n",
              "  .colab-df-quickchart {\n",
              "      --bg-color: #E8F0FE;\n",
              "      --fill-color: #1967D2;\n",
              "      --hover-bg-color: #E2EBFA;\n",
              "      --hover-fill-color: #174EA6;\n",
              "      --disabled-fill-color: #AAA;\n",
              "      --disabled-bg-color: #DDD;\n",
              "  }\n",
              "\n",
              "  [theme=dark] .colab-df-quickchart {\n",
              "      --bg-color: #3B4455;\n",
              "      --fill-color: #D2E3FC;\n",
              "      --hover-bg-color: #434B5C;\n",
              "      --hover-fill-color: #FFFFFF;\n",
              "      --disabled-bg-color: #3B4455;\n",
              "      --disabled-fill-color: #666;\n",
              "  }\n",
              "\n",
              "  .colab-df-quickchart {\n",
              "    background-color: var(--bg-color);\n",
              "    border: none;\n",
              "    border-radius: 50%;\n",
              "    cursor: pointer;\n",
              "    display: none;\n",
              "    fill: var(--fill-color);\n",
              "    height: 32px;\n",
              "    padding: 0;\n",
              "    width: 32px;\n",
              "  }\n",
              "\n",
              "  .colab-df-quickchart:hover {\n",
              "    background-color: var(--hover-bg-color);\n",
              "    box-shadow: 0 1px 2px rgba(60, 64, 67, 0.3), 0 1px 3px 1px rgba(60, 64, 67, 0.15);\n",
              "    fill: var(--button-hover-fill-color);\n",
              "  }\n",
              "\n",
              "  .colab-df-quickchart-complete:disabled,\n",
              "  .colab-df-quickchart-complete:disabled:hover {\n",
              "    background-color: var(--disabled-bg-color);\n",
              "    fill: var(--disabled-fill-color);\n",
              "    box-shadow: none;\n",
              "  }\n",
              "\n",
              "  .colab-df-spinner {\n",
              "    border: 2px solid var(--fill-color);\n",
              "    border-color: transparent;\n",
              "    border-bottom-color: var(--fill-color);\n",
              "    animation:\n",
              "      spin 1s steps(1) infinite;\n",
              "  }\n",
              "\n",
              "  @keyframes spin {\n",
              "    0% {\n",
              "      border-color: transparent;\n",
              "      border-bottom-color: var(--fill-color);\n",
              "      border-left-color: var(--fill-color);\n",
              "    }\n",
              "    20% {\n",
              "      border-color: transparent;\n",
              "      border-left-color: var(--fill-color);\n",
              "      border-top-color: var(--fill-color);\n",
              "    }\n",
              "    30% {\n",
              "      border-color: transparent;\n",
              "      border-left-color: var(--fill-color);\n",
              "      border-top-color: var(--fill-color);\n",
              "      border-right-color: var(--fill-color);\n",
              "    }\n",
              "    40% {\n",
              "      border-color: transparent;\n",
              "      border-right-color: var(--fill-color);\n",
              "      border-top-color: var(--fill-color);\n",
              "    }\n",
              "    60% {\n",
              "      border-color: transparent;\n",
              "      border-right-color: var(--fill-color);\n",
              "    }\n",
              "    80% {\n",
              "      border-color: transparent;\n",
              "      border-right-color: var(--fill-color);\n",
              "      border-bottom-color: var(--fill-color);\n",
              "    }\n",
              "    90% {\n",
              "      border-color: transparent;\n",
              "      border-bottom-color: var(--fill-color);\n",
              "    }\n",
              "  }\n",
              "</style>\n",
              "\n",
              "      <script>\n",
              "        async function quickchart(key) {\n",
              "          const quickchartButtonEl =\n",
              "            document.querySelector('#' + key + ' button');\n",
              "          quickchartButtonEl.disabled = true;  // To prevent multiple clicks.\n",
              "          quickchartButtonEl.classList.add('colab-df-spinner');\n",
              "          try {\n",
              "            const charts = await google.colab.kernel.invokeFunction(\n",
              "                'suggestCharts', [key], {});\n",
              "          } catch (error) {\n",
              "            console.error('Error during call to suggestCharts:', error);\n",
              "          }\n",
              "          quickchartButtonEl.classList.remove('colab-df-spinner');\n",
              "          quickchartButtonEl.classList.add('colab-df-quickchart-complete');\n",
              "        }\n",
              "        (() => {\n",
              "          let quickchartButtonEl =\n",
              "            document.querySelector('#df-28289d51-83d4-4bfa-b3d0-7c77102456f8 button');\n",
              "          quickchartButtonEl.style.display =\n",
              "            google.colab.kernel.accessAllowed ? 'block' : 'none';\n",
              "        })();\n",
              "      </script>\n",
              "    </div>\n",
              "\n",
              "    </div>\n",
              "  </div>\n"
            ],
            "application/vnd.google.colaboratory.intrinsic+json": {
              "type": "dataframe",
              "summary": "{\n  \"name\": \"happy_df\",\n  \"rows\": 8,\n  \"fields\": [\n    {\n      \"column\": \"Happiness Score\",\n      \"properties\": {\n        \"dtype\": \"number\",\n        \"std\": 0.5284249957048095,\n        \"min\": -0.6876810785537608,\n        \"max\": 1.0,\n        \"num_unique_values\": 8,\n        \"samples\": [\n          0.7818984723026766,\n          0.39974754482452785,\n          1.0\n        ],\n        \"semantic_type\": \"\",\n        \"description\": \"\"\n      }\n    },\n    {\n      \"column\": \"GDP\",\n      \"properties\": {\n        \"dtype\": \"number\",\n        \"std\": 0.5487096139327565,\n        \"min\": -0.6884933407225297,\n        \"max\": 1.0,\n        \"num_unique_values\": 8,\n        \"samples\": [\n          1.0,\n          0.3039183687127125,\n          0.7818984723026766\n        ],\n        \"semantic_type\": \"\",\n        \"description\": \"\"\n      }\n    },\n    {\n      \"column\": \"Social Support\",\n      \"properties\": {\n        \"dtype\": \"number\",\n        \"std\": 0.4616491901925343,\n        \"min\": -0.4957713490433585,\n        \"max\": 1.0,\n        \"num_unique_values\": 8,\n        \"samples\": [\n          0.6433731881208568,\n          0.20531605371731135,\n          0.7383707653116804\n        ],\n        \"semantic_type\": \"\",\n        \"description\": \"\"\n      }\n    },\n    {\n      \"column\": \"Healthy Life Expectancy\",\n      \"properties\": {\n        \"dtype\": \"number\",\n        \"std\": 0.5339632946790772,\n        \"min\": -0.7099423399504898,\n        \"max\": 1.0,\n        \"num_unique_values\": 8,\n        \"samples\": [\n          0.8158709455101024,\n          0.2474860642669325,\n          0.7225154268610169\n        ],\n        \"semantic_type\": \"\",\n        \"description\": \"\"\n      }\n    },\n    {\n      \"column\": \"Freedom\",\n      \"properties\": {\n        \"dtype\": \"number\",\n        \"std\": 0.3773144528420233,\n        \"min\": -0.3713921874190421,\n        \"max\": 1.0,\n        \"num_unique_values\": 8,\n        \"samples\": [\n          0.3621815696048075,\n          0.4913624945389049,\n          0.5657096975855836\n        ],\n        \"semantic_type\": \"\",\n        \"description\": \"\"\n      }\n    },\n    {\n      \"column\": \"Corruption Perception\",\n      \"properties\": {\n        \"dtype\": \"number\",\n        \"std\": 0.36938883908315706,\n        \"min\": -0.3405598445016776,\n        \"max\": 1.0,\n        \"num_unique_values\": 8,\n        \"samples\": [\n          0.3039183687127125,\n          1.0,\n          0.39974754482452785\n        ],\n        \"semantic_type\": \"\",\n        \"description\": \"\"\n      }\n    },\n    {\n      \"column\": \"Generosity\",\n      \"properties\": {\n        \"dtype\": \"number\",\n        \"std\": 0.351561246550048,\n        \"min\": -0.15597750628177223,\n        \"max\": 1.0,\n        \"num_unique_values\": 8,\n        \"samples\": [\n          -0.017217826305155153,\n          0.27457869863461953,\n          0.17528574594992136\n        ],\n        \"semantic_type\": \"\",\n        \"description\": \"\"\n      }\n    },\n    {\n      \"column\": \"Region Encoded\",\n      \"properties\": {\n        \"dtype\": \"number\",\n        \"std\": 0.5637599586721895,\n        \"min\": -0.7099423399504898,\n        \"max\": 1.0,\n        \"num_unique_values\": 8,\n        \"samples\": [\n          -0.6884933407225297,\n          -0.3405598445016776,\n          -0.6876810785537608\n        ],\n        \"semantic_type\": \"\",\n        \"description\": \"\"\n      }\n    }\n  ]\n}"
            }
          },
          "metadata": {},
          "execution_count": 164
        }
      ]
    },
    {
      "cell_type": "code",
      "source": [
        "best_features = happy_df[[\"GDP\", \"Social Support\"]]\n",
        "y = happy_df[\"Region Encoded\"]"
      ],
      "metadata": {
        "id": "kJ4wr8ZrE5Gb"
      },
      "execution_count": 165,
      "outputs": []
    },
    {
      "cell_type": "markdown",
      "metadata": {
        "id": "nuCRbGKnE5Gb"
      },
      "source": [
        "#### **Step #3: Split data into training and testing data**\n",
        "\n",
        "Complete the code below to split the data, using 80% for training and 20% for testing."
      ]
    },
    {
      "cell_type": "code",
      "source": [
        "X_train, X_test, y_train, y_test = train_test_split(best_features, y, test_size=0.2, random_state=2025)"
      ],
      "metadata": {
        "id": "cbKDQlNwE5Gb"
      },
      "execution_count": 166,
      "outputs": []
    },
    {
      "cell_type": "markdown",
      "metadata": {
        "id": "ZoF6MutCKgtR"
      },
      "source": [
        "#### **Step #4: Import the algorithm**"
      ]
    },
    {
      "cell_type": "code",
      "source": [
        "# Already imported KNN"
      ],
      "metadata": {
        "id": "uHph5lXCKgtR"
      },
      "execution_count": 167,
      "outputs": []
    },
    {
      "cell_type": "markdown",
      "metadata": {
        "id": "FpdqzlZeSGC7"
      },
      "source": [
        "#### **Step #5: Initialize the model and set hyperparameters**\n",
        "\n",
        "Specifically,\n",
        "* For Linear Regression, there are no hyperparameters to set.\n",
        "* For KNN, choose a reasonable value for `n_neighbors`. You are encouraged to try Steps #5 - 7 for several values and picking the model with the highest performance."
      ]
    },
    {
      "cell_type": "code",
      "source": [
        "import math\n",
        "model_2 = KNeighborsClassifier(n_neighbors=int(math.sqrt(happy_df.shape[0])))"
      ],
      "metadata": {
        "id": "PTAql5jlKgtR"
      },
      "execution_count": 168,
      "outputs": []
    },
    {
      "cell_type": "markdown",
      "metadata": {
        "id": "rj_z82LaKgtR"
      },
      "source": [
        "#### **Step #6: Fit your model and make a prediction. Create a visualization if applicable**\n",
        "\n",
        "Specifically,\n",
        "\n",
        "1. Fit the model to the training data and make predictions on the test data.\n",
        "2. Visualize the results."
      ]
    },
    {
      "cell_type": "markdown",
      "source": [
        "##### **1. Fit the model to the training data.**"
      ],
      "metadata": {
        "id": "54MAdOgGKgtR"
      }
    },
    {
      "cell_type": "code",
      "source": [
        "model_2.fit(X_train, y_train)\n",
        "predictions = model_2.predict(X_test)"
      ],
      "metadata": {
        "id": "IhboxB7TKgtR"
      },
      "execution_count": 169,
      "outputs": []
    },
    {
      "cell_type": "markdown",
      "source": [
        "##### **2. Visualize the results.**\n",
        "\n",
        "The code is provided for both linear regression and KNN, but it is up to you to decide which one makes the most sense here."
      ],
      "metadata": {
        "id": "6zengvEPKgtS"
      }
    },
    {
      "cell_type": "markdown",
      "source": [
        "###### **Linear Regression Visualization**"
      ],
      "metadata": {
        "id": "rC6KgbDPKgtS"
      }
    },
    {
      "cell_type": "code",
      "source": [
        "# Visualize comparison of predictions vs. actual values\n",
        "plt.scatter(y_test, predictions)\n",
        "plt.plot([y_test.min(), y_test.max()], [y_test.min(), y_test.max()], color = 'black', label='Correct Predictions')\n",
        "\n",
        "\n",
        "plt.xlabel('True Value')\n",
        "plt.ylabel('Predicted Value')\n",
        "plt.title('Real vs Value')\n",
        "plt.legend()\n",
        "\n",
        "plt.show()"
      ],
      "metadata": {
        "id": "f8mQ5YdDKgtS"
      },
      "execution_count": null,
      "outputs": []
    },
    {
      "cell_type": "markdown",
      "source": [
        "###### **KNN Visualization**"
      ],
      "metadata": {
        "id": "D4T40kbOKgtS"
      }
    },
    {
      "cell_type": "code",
      "source": [
        "labels = happy_df['Region'].unique()\n",
        "feature_1_name = 'GDP'\n",
        "feature_2_name = 'Healthy Life Expectancy'\n",
        "\n",
        "\n",
        "# Make the same scatter plot of the training data\n",
        "fig, ax = plt.subplots(figsize=(10,6))\n",
        "\n",
        "xx, yy = np.meshgrid(np.arange(happy_df[feature_1_name].min() - 0.1, happy_df[feature_1_name].max() + 0.1, 0.01),\n",
        "                     np.arange(happy_df[feature_2_name].min() - 0.1, happy_df[feature_2_name].max() + 0.1, 0.01))\n",
        "z = model_2.predict(np.c_[xx.ravel(), yy.ravel()])\n",
        "z = z.reshape(xx.shape)\n",
        "\n",
        "ax.pcolormesh(xx, yy, z, alpha=0.1)\n",
        "\n",
        "for label, data in happy_df.groupby('Region'):\n",
        "  ax.scatter(data[feature_1_name], data[feature_2_name], label=label)\n",
        "\n",
        "ax.set_title(\"Decision Boundary of the KNN Classifier\")\n",
        "ax.set_xlabel(feature_1_name)\n",
        "ax.set_ylabel(feature_2_name)\n",
        "ax.legend()\n",
        "plt.show()"
      ],
      "metadata": {
        "id": "hS7yC4FXKgtS",
        "outputId": "ffcb189c-0318-4874-b144-b10c4c58ef64",
        "colab": {
          "base_uri": "https://localhost:8080/",
          "height": 564
        }
      },
      "execution_count": 170,
      "outputs": [
        {
          "output_type": "display_data",
          "data": {
            "text/plain": [
              "<Figure size 1000x600 with 1 Axes>"
            ],
            "image/png": "[encoded data removed]"
          },
          "metadata": {}
        }
      ]
    },
    {
      "cell_type": "markdown",
      "metadata": {
        "id": "dKfkcxpVSY-G"
      },
      "source": [
        "#### **Step #7: Evaluate the model's performance**\n",
        "\n",
        "To complete this step, you will need to recall or find out what evaluation metrics we typically use for whichever type of model you have trained.\n",
        "\n",
        "<br>\n",
        "\n",
        "If you used KNN, you should try several values for Steps #5 - 7 and pick the model that performs highest according to these metrics."
      ]
    },
    {
      "cell_type": "code",
      "source": [
        "accuracy_score(y_test, predictions)"
      ],
      "metadata": {
        "id": "VIwVyyIhKgtS",
        "outputId": "0cad8a35-0603-4040-8aec-2b4b138fa1d8",
        "colab": {
          "base_uri": "https://localhost:8080/"
        }
      },
      "execution_count": 171,
      "outputs": [
        {
          "output_type": "execute_result",
          "data": {
            "text/plain": [
              "0.53125"
            ]
          },
          "metadata": {},
          "execution_count": 171
        }
      ]
    },
    {
      "cell_type": "markdown",
      "metadata": {
        "id": "85CBoOvZKgtS"
      },
      "source": [
        "#### **Step #8: Use the model**\n",
        "\n",
        "Specifically,\n",
        "\n",
        "1. Predict the region of three countries that reported provided results for their numerical measures.\n",
        "\n",
        "2. Visualize the modeled relationship between `Happinesss Score` and `Social Support` to see if a qualitative relationship can be inferred.\n",
        "\n",
        "3. *If you used linear regression*, look at the coefficients and intercept to determine the modeled relationships quantitatively."
      ]
    },
    {
      "cell_type": "markdown",
      "source": [
        "##### **1. Predict the region of these countries that reported the following results for their numerical measures:**\n",
        "\n",
        "**Country 1**\n",
        "\n",
        "* `Happiness Score`: 2.3\n",
        "* `GDP`: 0.9\n",
        "* `Social Support`: 0.4\n",
        "* `Healthy Life Expectancy`: 0.8\n",
        "* `Freedom`: 0.4\n",
        "* `Corruption Perception`: 0.2\n",
        "* `Generosity`: 0.09\n",
        "\n",
        "<br>\n",
        "\n",
        "**Country 2**\n",
        "\n",
        "* `Happiness Score`: 7.8\n",
        "* `GDP`: 0.9\n",
        "* `Social Support`: 0.4\n",
        "* `Healthy Life Expectancy`: 0.8\n",
        "* `Freedom`: 0.4\n",
        "* `Corruption Perception`: 0.2\n",
        "* `Generosity`: 0.09\n",
        "\n",
        "<br>\n",
        "\n",
        "**Country 3**\n",
        "\n",
        "* `Happiness Score`: 4.5\n",
        "* `GDP`: 1.1\n",
        "* `Social Support`: 0.9\n",
        "* `Healthy Life Expectancy`: 1.01\n",
        "* `Freedom`: 0.9\n",
        "* `Corruption Perception`: 1.1\n",
        "* `Generosity`: 0.9\n",
        "\n",
        "<br>\n",
        "\n",
        "**NOTE**: Since we selected only the top 2 features, you will need to only provide these 2 values for each prediction. Looking at the columns in the X data could be helpful here."
      ],
      "metadata": {
        "id": "Gpm6o6KYKgtS"
      }
    },
    {
      "cell_type": "code",
      "source": [
        "# COUNTRY 1\n",
        "new_country = pd.DataFrame([[2.3, 0.4]], columns=X_test.columns)\n",
        "\n",
        "region = model_2.predict(new_country)\n",
        "print(happy_df['Region'].unique()[region[0]])"
      ],
      "metadata": {
        "id": "Ar7qsFovKgtS",
        "outputId": "1c676db8-3514-4112-ea03-cfd256992cd1",
        "colab": {
          "base_uri": "https://localhost:8080/"
        }
      },
      "execution_count": 172,
      "outputs": [
        {
          "output_type": "stream",
          "name": "stdout",
          "text": [
            "Western Europe\n"
          ]
        }
      ]
    },
    {
      "cell_type": "code",
      "source": [
        "# COUNTRY 2\n",
        "new_country = pd.DataFrame([[7.8, 0.4]], columns=X_test.columns)\n",
        "\n",
        "region = model_2.predict(new_country)\n",
        "print(happy_df['Region'].unique()[region[0]])"
      ],
      "metadata": {
        "id": "kr4_fWHvKgtS",
        "outputId": "301bb4c0-83a2-40bb-b24c-043e531c2d34",
        "colab": {
          "base_uri": "https://localhost:8080/"
        }
      },
      "execution_count": 173,
      "outputs": [
        {
          "output_type": "stream",
          "name": "stdout",
          "text": [
            "Western Europe\n"
          ]
        }
      ]
    },
    {
      "cell_type": "code",
      "source": [
        "# COUNTRY 3\n",
        "new_country = pd.DataFrame([[4.5, 0.9]], columns=X_test.columns)\n",
        "\n",
        "region = model_2.predict(new_country)\n",
        "print(happy_df['Region'].unique()[region[0]])"
      ],
      "metadata": {
        "id": "Ba0dMw20KgtS",
        "outputId": "8a5e20b3-af43-44cd-d4b5-a98102a23e2d",
        "colab": {
          "base_uri": "https://localhost:8080/"
        }
      },
      "execution_count": 174,
      "outputs": [
        {
          "output_type": "stream",
          "name": "stdout",
          "text": [
            "Western Europe\n"
          ]
        }
      ]
    },
    {
      "cell_type": "markdown",
      "source": [
        "##### **2. Visualize the modeled relationship between `Region` and `Healthy Life Expectancy` to see if a qualitative relationship can be inferred.**"
      ],
      "metadata": {
        "id": "Mh8BKsj7KgtT"
      }
    },
    {
      "cell_type": "code",
      "source": [
        "# COMPLETE THIS CODE\n",
        "\n",
        "plt.barh(happy_df[\"Region\"], happy_df[\"Healthy Life Expectancy\"])\n",
        "plt.xlabel(\"Healthy Life Expectancy\")\n",
        "plt.ylabel(\"Region\")\n",
        "plt.title(\"Region compared to Healthy Life Expectancy\")\n",
        "plt.yticks(ticks = range(10), labels = happy_df['Region'].unique())\n",
        "\n",
        "plt.show()"
      ],
      "metadata": {
        "id": "0S-OVEKyKgtT",
        "outputId": "9c16194f-6c4d-434f-88c1-af52748c2203",
        "colab": {
          "base_uri": "https://localhost:8080/",
          "height": 472
        }
      },
      "execution_count": 176,
      "outputs": [
        {
          "output_type": "display_data",
          "data": {
            "text/plain": [
              "<Figure size 640x480 with 1 Axes>"
            ],
            "image/png": "[encoded data removed]"
          },
          "metadata": {}
        }
      ]
    },
    {
      "cell_type": "markdown",
      "source": [
        "##### **3. *If you used linear regression*, complete the cells below to look at the coefficients and intercept to determine the modeled relationships quantitatively.**"
      ],
      "metadata": {
        "id": "fMFcejH4KgtT"
      }
    },
    {
      "cell_type": "code",
      "source": [
        "coefficients = model_1.# COMPLETE THIS LINE\n",
        "intercept = model_1.# COMPLETE THIS LINE\n",
        "\n",
        "coefficients = pd.DataFrame([coefficients], columns = X_test.columns)\n",
        "intercept = pd.DataFrame([intercept], columns = [\"Happiness Score\"])"
      ],
      "metadata": {
        "id": "bUjlVAJWKgtT"
      },
      "execution_count": null,
      "outputs": []
    },
    {
      "cell_type": "code",
      "source": [
        "print(\"Coefficients:\")\n",
        "coefficients.head()"
      ],
      "metadata": {
        "id": "hPJpVIeSKgtT"
      },
      "execution_count": null,
      "outputs": []
    },
    {
      "cell_type": "code",
      "source": [
        "print(\"\\nIntercept:\")\n",
        "intercept.head()"
      ],
      "metadata": {
        "id": "Nz0kG99FKgtT"
      },
      "execution_count": null,
      "outputs": []
    },
    {
      "cell_type": "markdown",
      "source": [
        "#### **Reflection Questions**\n",
        "\n",
        "Now that you have trained several models to accomplish this task, answer the following questions:\n",
        "\n",
        "1. Is Linear Regression or KNN better suited to this task? Why?\n",
        "2. Were there any hyperparameters you need to tune and, if so, what were the best values you found?\n",
        "3. Did selecting a smaller number of features improve or decrease the performance of your model?\n",
        "4. What 2 variables seem to play the largest role in determining `Region Encoded` based on your work in this part?"
      ],
      "metadata": {
        "id": "f99CjA0aE5Gd"
      }
    },
    {
      "cell_type": "markdown",
      "source": [
        "\n",
        "\n",
        "---\n",
        "© 2025 The Coding School, All rights reserved"
      ],
      "metadata": {
        "id": "Q6JQKCHn3Fmj"
      }
    }
  ],
  "metadata": {
    "colab": {
      "provenance": [],
      "include_colab_link": true
    },
    "kernelspec": {
      "display_name": "Python 3 (ipykernel)",
      "language": "python",
      "name": "python3"
    },
    "language_info": {
      "codemirror_mode": {
        "name": "ipython",
        "version": 3
      },
      "file_extension": ".py",
      "mimetype": "text/x-python",
      "name": "python",
      "nbconvert_exporter": "python",
      "pygments_lexer": "ipython3",
      "version": "3.9.7"
    }
  },
  "nbformat": 4,
  "nbformat_minor": 0
}