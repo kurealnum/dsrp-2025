{
  "nbformat": 4,
  "nbformat_minor": 0,
  "metadata": {
    "colab": {
      "provenance": [],
      "include_colab_link": true
    },
    "kernelspec": {
      "name": "python3",
      "display_name": "Python 3"
    },
    "language_info": {
      "name": "python"
    }
  },
  "cells": [
    {
      "cell_type": "markdown",
      "metadata": {
        "id": "view-in-github",
        "colab_type": "text"
      },
      "source": [
        "<a href=\"https://colab.research.google.com/github/kurealnum/dsrp-2025/blob/main/DSRP_Day_1_Lab_Notebook_%5BSTUDENT%5D.ipynb\" target=\"_parent\"><img src=\"https://colab.research.google.com/assets/colab-badge.svg\" alt=\"Open In Colab\"/></a>"
      ]
    },
    {
      "cell_type": "markdown",
      "source": [
        "---\n",
        "# **Lab 1: Python Basics**\n",
        "---\n",
        "\n",
        "\n",
        "### **Description**\n",
        "This lab is designed to provide hands-on practice with Python basics to solidify the foundation upon which we will build our machine learning and data science skills in the coming weeks.\n",
        "\n",
        "\n",
        "<br>\n",
        "\n",
        "### **Lab Structure**\n",
        "**Part 1**: [Print Statements](#p1)\n",
        "\n",
        "**Part 2**: [Variables and Data Types](#p2)\n",
        "\n",
        "**Part 3**: [Arithmetic Operators](#p3)\n",
        "\n",
        "**Part 4**: [Extra Practice](#p4) [optional]\n",
        "\n",
        "\n",
        "\n",
        "<br>\n",
        "\n",
        "### **Learning Objectives**\n",
        " By the end of this lab, we will:\n",
        "* Recognize how information is outputted to the screen.\n",
        "* Recognize that variables are a way to store data.\n",
        "* Recognize the main data types and how to modify them with basic arithmetic operators.\n",
        "\n",
        "\n",
        "<br>\n",
        "\n",
        "\n",
        "### **Resources**\n",
        "* [Python basics Cheat Sheet](https://docs.google.com/document/d/1P3mae56ecUhbi3zq5eCT9T7HamCGEcd3lqqdZvUZAvU/edit?usp=sharing)"
      ],
      "metadata": {
        "id": "rh5I8K12qeQr"
      }
    },
    {
      "cell_type": "markdown",
      "source": [
        "<a name=\"p1\"></a>\n",
        "\n",
        "---\n",
        "## **Part #1: Print Functions**\n",
        "---"
      ],
      "metadata": {
        "id": "Nncig8FoErJz"
      }
    },
    {
      "cell_type": "markdown",
      "source": [
        "### **Problem #1.1**\n",
        "\n",
        "Create a code cell and type: `print(\"Hello!\")`."
      ],
      "metadata": {
        "id": "sicHQHskOR5k"
      }
    },
    {
      "cell_type": "markdown",
      "source": [
        "---\n",
        "### **Problem #1.2**\n",
        "\n",
        "\n",
        "Create a code cell and type: `print(\"Today I learned about the basics of Python programming!\")`."
      ],
      "metadata": {
        "id": "gBznbwzhGVPa"
      }
    },
    {
      "cell_type": "markdown",
      "source": [
        "---\n",
        "\n",
        "### **Now your turn! Try Problems #1.3-1.5 on your own.**\n",
        "\n",
        "---"
      ],
      "metadata": {
        "id": "BaXdKVoFi5Qd"
      }
    },
    {
      "cell_type": "markdown",
      "source": [
        "\n",
        "### **Problem #1.3**\n",
        "\n",
        "\n",
        "Print your favorite color."
      ],
      "metadata": {
        "id": "1FxKXJTnEuW5"
      }
    },
    {
      "cell_type": "code",
      "source": [
        "print('blue')"
      ],
      "metadata": {
        "id": "ev94xJlcpXo3",
        "colab": {
          "base_uri": "https://localhost:8080/"
        },
        "outputId": "e3cf7b36-13a9-4ef5-e3f6-e251b6309efd"
      },
      "execution_count": null,
      "outputs": [
        {
          "output_type": "stream",
          "name": "stdout",
          "text": [
            "blue\n"
          ]
        }
      ]
    },
    {
      "cell_type": "markdown",
      "source": [
        "---\n",
        "### **Problem #1.4**\n",
        "\n",
        "\n",
        "Print a sentence that describes what state or country you are from.\n"
      ],
      "metadata": {
        "id": "rGlILc5uFHhr"
      }
    },
    {
      "cell_type": "code",
      "source": [
        "print(\"I am from Virginia\")"
      ],
      "metadata": {
        "id": "ksGcBOdPFNwh"
      },
      "execution_count": null,
      "outputs": []
    },
    {
      "cell_type": "markdown",
      "source": [
        "---\n",
        "### **Problem #1.5**\n",
        "\n",
        "Print the food you had for breakfast today."
      ],
      "metadata": {
        "id": "uxrrgBQlFSSS"
      }
    },
    {
      "cell_type": "code",
      "source": [
        "print(\"Oatmeal\")"
      ],
      "metadata": {
        "id": "-S0HsjPlFZgv"
      },
      "execution_count": null,
      "outputs": []
    },
    {
      "cell_type": "markdown",
      "source": [
        "---\n",
        "### **Problem #1.6**\n",
        "\n",
        "The ability to choose between single quotes and double quotes is useful when trying to print either of these characters. We can use one to print the other.\n"
      ],
      "metadata": {
        "id": "y1zOK6Ii3es6"
      }
    },
    {
      "cell_type": "code",
      "source": [
        "print(\"My cat's name is Charlie.\")\n",
        "\n",
        "print('Charlie said \"meow\".')"
      ],
      "metadata": {
        "colab": {
          "base_uri": "https://localhost:8080/"
        },
        "id": "XtE6o0K13es7",
        "outputId": "582967b2-1739-4371-9487-b02e24acc58a"
      },
      "execution_count": null,
      "outputs": [
        {
          "output_type": "stream",
          "name": "stdout",
          "text": [
            "My cat's name is Charlie.\n",
            "Charlie said \"meow\".\n"
          ]
        }
      ]
    },
    {
      "cell_type": "code",
      "source": [
        "# Print where this Google Colab is (?)\n",
        "print()"
      ],
      "metadata": {
        "id": "g-Z1zW3kLtfq"
      },
      "execution_count": null,
      "outputs": []
    },
    {
      "cell_type": "markdown",
      "source": [
        "---\n",
        "###Back To Lab Slides\n",
        "---\n"
      ],
      "metadata": {
        "id": "6c7e-a7BFd7x"
      }
    },
    {
      "cell_type": "markdown",
      "source": [
        "\n",
        "### **Problem #1.6**\n",
        "\n",
        "\n",
        "Create a code cell and print your favorite number."
      ],
      "metadata": {
        "id": "nCe6tA7tHLIc"
      }
    },
    {
      "cell_type": "code",
      "source": [
        "print(1234234)"
      ],
      "metadata": {
        "id": "ZLYF6wlONnT0"
      },
      "execution_count": null,
      "outputs": []
    },
    {
      "cell_type": "markdown",
      "source": [
        "---\n",
        "### **Problem #1.7**\n",
        "\n",
        "\n",
        "Create a code cell and print the sum of 33 and -11."
      ],
      "metadata": {
        "id": "U4eyO4sCHVlb"
      }
    },
    {
      "cell_type": "code",
      "source": [
        "print(33 + -11)"
      ],
      "metadata": {
        "id": "P7iFhqQMNpz-"
      },
      "execution_count": null,
      "outputs": []
    },
    {
      "cell_type": "markdown",
      "source": [
        "---\n",
        "\n",
        "### **Now your turn! Try Problems #1.8-1.11 on your own.**\n",
        "\n",
        "---"
      ],
      "metadata": {
        "id": "pZ07b0dxjr-k"
      }
    },
    {
      "cell_type": "markdown",
      "source": [
        "\n",
        "### **Problem #1.8**\n",
        "\n",
        "\n",
        "Print the number of months in a year."
      ],
      "metadata": {
        "id": "73KBI9U4IAnW"
      }
    },
    {
      "cell_type": "code",
      "source": [
        "print(12)"
      ],
      "metadata": {
        "id": "zmA7sZEmUJtt"
      },
      "execution_count": null,
      "outputs": []
    },
    {
      "cell_type": "markdown",
      "source": [
        "---\n",
        "### **Problem #1.9**\n",
        "\n",
        "\n",
        "Print the current year."
      ],
      "metadata": {
        "id": "1L9UH0tVIQS3"
      }
    },
    {
      "cell_type": "code",
      "source": [
        "print(2025)"
      ],
      "metadata": {
        "id": "6UcV-z_aULfy"
      },
      "execution_count": null,
      "outputs": []
    },
    {
      "cell_type": "markdown",
      "source": [
        "---\n",
        "### **Problem #1.10**\n",
        "\n",
        "\n",
        "Print today's date in the following format: MDDYYYY."
      ],
      "metadata": {
        "id": "kEWPBjjYIWBY"
      }
    },
    {
      "cell_type": "code",
      "source": [
        "print(\"07/07/2025\")"
      ],
      "metadata": {
        "id": "zVu0tbWyUNXK"
      },
      "execution_count": null,
      "outputs": []
    },
    {
      "cell_type": "markdown",
      "source": [
        "---\n",
        "### **Problem #1.11**\n",
        "\n",
        "\n",
        "Print the sum of your age plus the age of your best friend."
      ],
      "metadata": {
        "id": "w5_afO4Qed4Q"
      }
    },
    {
      "cell_type": "code",
      "source": [
        "print(18 + 17)"
      ],
      "metadata": {
        "id": "r4-UjPTpN-rH"
      },
      "execution_count": null,
      "outputs": []
    },
    {
      "cell_type": "markdown",
      "source": [
        "---\n",
        "###Back To Lab Slides\n",
        "---\n"
      ],
      "metadata": {
        "id": "IHoWW-vDIj4k"
      }
    },
    {
      "cell_type": "markdown",
      "source": [
        "<a name=\"p2\"></a>\n",
        "\n",
        "---\n",
        "## **Part #2: Variables & Data Types**\n",
        "---"
      ],
      "metadata": {
        "id": "8ZlKbmO6kmGl"
      }
    },
    {
      "cell_type": "markdown",
      "source": [
        "### **Problem #2.1**\n",
        "\n",
        "\n",
        "Create a variable called `my_name` and assign it to your first name. Print this variable."
      ],
      "metadata": {
        "id": "6tp4GH_pFiXc"
      }
    },
    {
      "cell_type": "code",
      "source": [
        "my_name = \"Oscar\"\n",
        "print(my_name)"
      ],
      "metadata": {
        "id": "mRRdH1SnF2ck",
        "outputId": "64eab722-5e03-49e0-c80a-a31e26246ec5",
        "colab": {
          "base_uri": "https://localhost:8080/"
        }
      },
      "execution_count": 1,
      "outputs": [
        {
          "output_type": "stream",
          "name": "stdout",
          "text": [
            "Oscar\n"
          ]
        }
      ]
    },
    {
      "cell_type": "markdown",
      "source": [
        "---\n",
        "### **Problem #2.2**\n",
        "\n",
        "Create and name a variable with your favorite number as an integer. Print that variable."
      ],
      "metadata": {
        "id": "GeA492pRF9Et"
      }
    },
    {
      "cell_type": "code",
      "source": [
        "fav_num = 3\n",
        "print(fav_num)"
      ],
      "metadata": {
        "id": "2UIxtgq1GEfP",
        "outputId": "2ab71cfa-b152-4feb-a56f-5df9b4a0a58e",
        "colab": {
          "base_uri": "https://localhost:8080/"
        }
      },
      "execution_count": 2,
      "outputs": [
        {
          "output_type": "stream",
          "name": "stdout",
          "text": [
            "3\n"
          ]
        }
      ]
    },
    {
      "cell_type": "markdown",
      "source": [
        "---\n",
        "### **Problem #2.3**\n",
        "\n",
        "Create and name a variable with your favorite number as a float. Print that variable."
      ],
      "metadata": {
        "id": "PFzpApaisZj3"
      }
    },
    {
      "cell_type": "code",
      "source": [
        "fav_num = 3.0\n",
        "print(fav_num)"
      ],
      "metadata": {
        "id": "TJ1lbMmBseNz",
        "outputId": "8e67b503-f457-43ac-921c-6912207a2ddb",
        "colab": {
          "base_uri": "https://localhost:8080/"
        }
      },
      "execution_count": 3,
      "outputs": [
        {
          "output_type": "stream",
          "name": "stdout",
          "text": [
            "3.0\n"
          ]
        }
      ]
    },
    {
      "cell_type": "markdown",
      "source": [
        "---\n",
        "\n",
        "### **Now your turn! Try Problems #2.4-2.6 on your own.**\n",
        "\n",
        "---\n"
      ],
      "metadata": {
        "id": "jK_9G-b4Thcu"
      }
    },
    {
      "cell_type": "markdown",
      "source": [
        "\n",
        "### **Problem #2.4**\n",
        "\n",
        "\n",
        "\n",
        "Look through the given declarations. Which ones are incorrect?\n",
        "\n",
        "```py\n",
        "Var1 = 7\n",
        "VAR5 = 8\n",
        "2var = 92 # incorrect\n",
        "first_last_name = \"james gooding\"\n",
        "Hello! = 0.283 # incorrect\n",
        "variable24 = \"my favorite food is\"\n",
        "str = \"string\" # incorrect\n",
        "```\n",
        "\n"
      ],
      "metadata": {
        "id": "idKFoy5PGMXj"
      }
    },
    {
      "cell_type": "markdown",
      "source": [
        "---\n",
        "### **Problem #2.5**\n",
        "\n",
        "\n",
        "Create and a name a variable that stores a list of 3 fruits. Print that variable.\n",
        "\n"
      ],
      "metadata": {
        "id": "9spWwdiHrt_o"
      }
    },
    {
      "cell_type": "code",
      "source": [
        "x = [\"apple\", \"pear\", \"tomato\"]\n",
        "print(x)"
      ],
      "metadata": {
        "id": "28BdodiAszpO",
        "outputId": "be5cc323-6723-4b11-8b00-92c1ac003525",
        "colab": {
          "base_uri": "https://localhost:8080/"
        }
      },
      "execution_count": 8,
      "outputs": [
        {
          "output_type": "stream",
          "name": "stdout",
          "text": [
            "['apple', 'pear', 'tomato']\n"
          ]
        }
      ]
    },
    {
      "cell_type": "markdown",
      "source": [
        "---\n",
        "### **Problem #2.6**\n",
        "\n",
        "Create two variables to represent your height, one variable for feet, one for inches. Name your variables appropriately."
      ],
      "metadata": {
        "id": "qCkX0Ndbu099"
      }
    },
    {
      "cell_type": "code",
      "source": [
        "my_height_feet = 5\n",
        "my_height_inches = 11"
      ],
      "metadata": {
        "id": "eAck5rdUvJbm"
      },
      "execution_count": 7,
      "outputs": []
    },
    {
      "cell_type": "markdown",
      "source": [
        "---\n",
        "###Back To Lab Slides\n",
        "---"
      ],
      "metadata": {
        "id": "zQraW7-mGkcl"
      }
    },
    {
      "cell_type": "markdown",
      "source": [
        "<a name=\"p3\"></a>\n",
        "\n",
        "---\n",
        "## **Part 3: Arithmetic Operators**\n",
        "---"
      ],
      "metadata": {
        "id": "H5MIexSZviqM"
      }
    },
    {
      "cell_type": "markdown",
      "source": [
        "### **Problem #3.1**\n",
        "\n",
        "\n",
        "Print the sum of 3 and 2. Take note of the output."
      ],
      "metadata": {
        "id": "Nkrwij4gSu0h"
      }
    },
    {
      "cell_type": "code",
      "source": [
        "print(3 + 2)"
      ],
      "metadata": {
        "id": "rwGjkCmrT8cp"
      },
      "execution_count": null,
      "outputs": []
    },
    {
      "cell_type": "markdown",
      "source": [
        "---\n",
        "### **Problem #3.2**\n",
        "\n",
        "\n",
        "Print the sum of 7.0 and 2.0. Take note of the output."
      ],
      "metadata": {
        "id": "TMg9xuU4bGXO"
      }
    },
    {
      "cell_type": "code",
      "source": [
        "print(7.0 + 2.0)"
      ],
      "metadata": {
        "id": "gxuz6DBtbS4b"
      },
      "execution_count": null,
      "outputs": []
    },
    {
      "cell_type": "markdown",
      "source": [
        "---\n",
        "### **Problem #3.3**\n",
        "\n",
        "\n",
        "What is 23 divided by 2? Print the answer. Take note of the output."
      ],
      "metadata": {
        "id": "AoNyZMOLbHzG"
      }
    },
    {
      "cell_type": "code",
      "source": [
        "print(23/2)"
      ],
      "metadata": {
        "id": "2qLvU5ArbX9e",
        "outputId": "6f7277e0-55bb-4fff-a5e7-39cb36636442",
        "colab": {
          "base_uri": "https://localhost:8080/"
        }
      },
      "execution_count": 9,
      "outputs": [
        {
          "output_type": "stream",
          "name": "stdout",
          "text": [
            "11.5\n"
          ]
        }
      ]
    },
    {
      "cell_type": "markdown",
      "source": [
        "---\n",
        "### **Problem #3.4**\n",
        "\n",
        "\n",
        "Print the product of 24.0 and 25.4. Take note of the output."
      ],
      "metadata": {
        "id": "MAhg9IhNbIW9"
      }
    },
    {
      "cell_type": "code",
      "source": [
        "print(24.0 * 25.4)"
      ],
      "metadata": {
        "id": "vQouy4o_brEN",
        "outputId": "a87f888b-7aac-49b2-fcb2-a8db44887406",
        "colab": {
          "base_uri": "https://localhost:8080/"
        }
      },
      "execution_count": 10,
      "outputs": [
        {
          "output_type": "stream",
          "name": "stdout",
          "text": [
            "609.5999999999999\n"
          ]
        }
      ]
    },
    {
      "cell_type": "markdown",
      "source": [
        "---\n",
        "### **Problem #3.5**\n",
        "\n",
        "\n",
        "Create and name a variable `fav_number` with your favorite number as an integer. Multiply the variable by 3 and print the result."
      ],
      "metadata": {
        "id": "EcB4WGxvTKYZ"
      }
    },
    {
      "cell_type": "code",
      "source": [
        "fav_number = 3\n",
        "print(3 * fav_number)"
      ],
      "metadata": {
        "id": "0hNxBDXHUT77"
      },
      "execution_count": null,
      "outputs": []
    },
    {
      "cell_type": "markdown",
      "source": [
        "---\n",
        "\n",
        "### **Now your turn! Try Problems #3.6-3.10 on your own.**\n",
        "\n",
        "---"
      ],
      "metadata": {
        "id": "Ttxn0Y39k4mS"
      }
    },
    {
      "cell_type": "markdown",
      "source": [
        "\n",
        "### **Problem #3.6**\n",
        "\n",
        "\n",
        "You have 2 bananas and 5 apples. How many fruits do you have in total?"
      ],
      "metadata": {
        "id": "1cPGnpbfTdGP"
      }
    },
    {
      "cell_type": "code",
      "source": [
        "bananas = 2\n",
        "apples = 5\n",
        "print(bananas + apples)"
      ],
      "metadata": {
        "id": "cUws429IUVhO",
        "outputId": "03df4eef-a30c-4eec-ebec-59b43444ddfb",
        "colab": {
          "base_uri": "https://localhost:8080/"
        }
      },
      "execution_count": 11,
      "outputs": [
        {
          "output_type": "stream",
          "name": "stdout",
          "text": [
            "7\n"
          ]
        }
      ]
    },
    {
      "cell_type": "code",
      "source": [
        "!curl ipinfo.io"
      ],
      "metadata": {
        "id": "gMEmocuiascA",
        "outputId": "b650b5fc-3648-4287-8bbd-66025db5c19f",
        "colab": {
          "base_uri": "https://localhost:8080/"
        }
      },
      "execution_count": 18,
      "outputs": [
        {
          "output_type": "stream",
          "name": "stdout",
          "text": [
            "{\n",
            "  \"ip\": \"34.83.131.8\",\n",
            "  \"hostname\": \"8.131.83.34.bc.googleusercontent.com\",\n",
            "  \"city\": \"The Dalles\",\n",
            "  \"region\": \"Oregon\",\n",
            "  \"country\": \"US\",\n",
            "  \"loc\": \"45.5946,-121.1787\",\n",
            "  \"org\": \"AS396982 Google LLC\",\n",
            "  \"postal\": \"97058\",\n",
            "  \"timezone\": \"America/Los_Angeles\",\n",
            "  \"readme\": \"https://ipinfo.io/missingauth\"\n",
            "}"
          ]
        }
      ]
    },
    {
      "cell_type": "markdown",
      "source": [
        "---\n",
        "### **Problem #3.7**\n",
        "\n",
        "\n",
        "You got a 90 on your biology test, and then answered the extra credit question, which gave you an additional 4 points. Calculate and print your final grade.\n",
        "\n"
      ],
      "metadata": {
        "id": "fn83nMUNTmfx"
      }
    },
    {
      "cell_type": "code",
      "source": [
        "original_grade = 90\n",
        "bonus = 4\n",
        "print(original_grade + bonus)"
      ],
      "metadata": {
        "id": "FMtsQNH0UXsB"
      },
      "execution_count": null,
      "outputs": []
    },
    {
      "cell_type": "markdown",
      "source": [
        "---\n",
        "### **Problem #3.8**\n",
        "\n",
        "\n",
        "The length and width of a rectangle are 5 and 8, respectively. Calculate the area of a rectangle using these variables and print the result."
      ],
      "metadata": {
        "id": "jzGCZY4Vy4wq"
      }
    },
    {
      "cell_type": "code",
      "source": [
        "length = 5\n",
        "width = 8\n",
        "print(length * width)"
      ],
      "metadata": {
        "id": "W0m-Cu7600R5"
      },
      "execution_count": null,
      "outputs": []
    },
    {
      "cell_type": "markdown",
      "source": [
        "---\n",
        "### **Problem #3.9**\n",
        "\n",
        "\n",
        "Create three variables `num1`, `num2`, and `num3` and assign them the values of 5, 24, and 67, respectively. Then calculate the average of these three numbers."
      ],
      "metadata": {
        "id": "nqFlPpynzsCE"
      }
    },
    {
      "cell_type": "code",
      "source": [
        "num1 = 5\n",
        "num2 = 24\n",
        "num3 = 67\n",
        "print((num1 + num2 + num3) / 3)"
      ],
      "metadata": {
        "id": "xcZdD-_A1nHc"
      },
      "execution_count": null,
      "outputs": []
    },
    {
      "cell_type": "markdown",
      "source": [
        "---\n",
        "### **Problem #3.10**\n",
        "\n",
        "\n",
        "Create a variable named `temperature` and assign a value of 25. Convert the temperature from Celsius to Fahrenheit using the formula (`temperature` * 9/5) + 32 and print the result."
      ],
      "metadata": {
        "id": "YFE22tI8zsJI"
      }
    },
    {
      "cell_type": "code",
      "source": [
        "temperature = 25\n",
        "print((temperature * 9/5) + 32)"
      ],
      "metadata": {
        "id": "FsLpVgJN7uXG",
        "outputId": "b890d415-c05a-4058-c160-e38477ab83df",
        "colab": {
          "base_uri": "https://localhost:8080/"
        }
      },
      "execution_count": 12,
      "outputs": [
        {
          "output_type": "stream",
          "name": "stdout",
          "text": [
            "77.0\n"
          ]
        }
      ]
    },
    {
      "cell_type": "markdown",
      "source": [
        "---\n",
        "###Back To Lab Slides\n",
        "---"
      ],
      "metadata": {
        "id": "QC52fy-oT2Wv"
      }
    },
    {
      "cell_type": "markdown",
      "source": [
        "<a name=\"p4\"></a>\n",
        "\n",
        "---\n",
        "## **Part 4: Extra Practice** [OPTIONAL]\n",
        "---"
      ],
      "metadata": {
        "id": "ifCz5BOUJsZG"
      }
    },
    {
      "cell_type": "markdown",
      "source": [
        "### **Problem #4.1**\n",
        "\n",
        "\n",
        "What's wrong with the following declaration?\n",
        "\n",
        "A)\n",
        "```py\n",
        "1var = 323.0 # Starts with decimal\n",
        "```\n",
        "B)\n",
        "```py\n",
        "month@month = \"July\" # Has an @\n",
        "```\n",
        "\n",
        "C)\n",
        "```py\n",
        "month year = \"july2020\" # Has a space in the name\n",
        "```"
      ],
      "metadata": {
        "id": "KVG4EcnAFl_D"
      }
    },
    {
      "cell_type": "markdown",
      "source": [
        "---\n",
        "### **Problem #4.2**\n",
        "\n",
        "\n",
        "Create a list named `nums` with values 1, 2, and 3."
      ],
      "metadata": {
        "id": "KJaTpSVBsuAO"
      }
    },
    {
      "cell_type": "code",
      "source": [
        "nums = [1, 2, 3]"
      ],
      "metadata": {
        "id": "oNKRJdj1s3LM"
      },
      "execution_count": null,
      "outputs": []
    },
    {
      "cell_type": "markdown",
      "source": [
        "---\n",
        "### **Problem #4.3**\n",
        "\n",
        "\n",
        "Divide 13 by 7. Make sure the answer has decimals."
      ],
      "metadata": {
        "id": "21SvhgGZx9i8"
      }
    },
    {
      "cell_type": "code",
      "source": [
        "print(13/7)"
      ],
      "metadata": {
        "id": "JWFKJiJZyvS0"
      },
      "execution_count": null,
      "outputs": []
    },
    {
      "cell_type": "markdown",
      "source": [
        "---\n",
        "### **Problem #4.4**\n",
        "\n",
        "\n",
        "Starting with the code below, reassign the variable, `candybar`, to \"Milkyway.\" Check to make sure it worked."
      ],
      "metadata": {
        "id": "8_PhufOasfz6"
      }
    },
    {
      "cell_type": "code",
      "source": [
        "candybar = \"Snickers\"\n",
        "candybar = \"Milkyway\"\n",
        "print(candybar)"
      ],
      "metadata": {
        "id": "iiuPR05DtmTz",
        "outputId": "a3af3e8e-5a07-4861-9aa0-5d6196ca833a",
        "colab": {
          "base_uri": "https://localhost:8080/"
        }
      },
      "execution_count": 13,
      "outputs": [
        {
          "output_type": "stream",
          "name": "stdout",
          "text": [
            "Milkyway\n"
          ]
        }
      ]
    },
    {
      "cell_type": "markdown",
      "source": [
        "---\n",
        "### **Problem #4.5**\n",
        "\n",
        "\n",
        "Using the code below, what will print when you `print(bananas)`? Why?\n",
        "\n",
        "```py\n",
        "bananas = 4\n",
        "apples = 3\n",
        "oranges = banana\n",
        "bananas = 8\n",
        "print(bananas) # 8, due to the most recent assignment\n",
        "```"
      ],
      "metadata": {
        "id": "CwVZnyLVJzUK"
      }
    },
    {
      "cell_type": "markdown",
      "source": [
        "---\n",
        "### **Problem #4.6**\n",
        "\n",
        "\n",
        "Name a variable `name` and assign it your name. Then change the value to your instructor's name."
      ],
      "metadata": {
        "id": "haFKT9ykFGnT"
      }
    },
    {
      "cell_type": "code",
      "source": [
        "name = \"Oscar\"\n",
        "name = \"Lev\"\n",
        "print(name)"
      ],
      "metadata": {
        "id": "zgK-yT__vafM"
      },
      "execution_count": null,
      "outputs": []
    },
    {
      "cell_type": "markdown",
      "source": [
        "---\n",
        "### **Problem #4.7**\n",
        "\n",
        "\n",
        "Create a list named 'grocery_list' and add 5 items. Print the list."
      ],
      "metadata": {
        "id": "Gv3521gxaoSd"
      }
    },
    {
      "cell_type": "code",
      "source": [
        "grocery_list = [\"Eggs\", \"Milk\", \"Bread\", \"Fish\", \"Coconuts\"]\n",
        "print(grocery_list)"
      ],
      "metadata": {
        "id": "2w6oV7LTbTpH"
      },
      "execution_count": null,
      "outputs": []
    },
    {
      "cell_type": "markdown",
      "source": [
        "---\n",
        "### **Problem #4.8**\n",
        "\n",
        "\n",
        "What are the following data types?\n",
        "\n",
        "```py\n",
        "4323 # int\n",
        "\n",
        "\"word\" # string\n",
        "\n",
        "[4.0, 25.4, 192.0] # list of floats\n",
        "\n",
        "[\"apples\", \"bananas\", \"oranges\"] # list of strings\n",
        "\n",
        "-1.231 # float\n",
        "```"
      ],
      "metadata": {
        "id": "NSImpFSvtABU"
      }
    },
    {
      "cell_type": "markdown",
      "source": [
        "---\n",
        "### **Problem #4.9**\n",
        "\n",
        "\n",
        "Create a list called `capitals` and list 5 U.S. State capitals.\n",
        "\n",
        "Print the list."
      ],
      "metadata": {
        "id": "fnbDhhBdaDGQ"
      }
    },
    {
      "cell_type": "code",
      "source": [
        "capitals = [\"Montgomery\", \"Juneau\", \"Phoenix\", \"Little Rock\", \"Sacramento\"]\n",
        "print(capitals)"
      ],
      "metadata": {
        "id": "tbK8zwjYaAHf",
        "outputId": "8db4381e-5b85-40eb-9620-20200eb17c65",
        "colab": {
          "base_uri": "https://localhost:8080/"
        }
      },
      "execution_count": 14,
      "outputs": [
        {
          "output_type": "stream",
          "name": "stdout",
          "text": [
            "['Montgomery', 'Juneau', 'Phoenix', 'Little Rock', 'Sacramento']\n"
          ]
        }
      ]
    },
    {
      "cell_type": "markdown",
      "source": [
        "---\n",
        "### **Problem #4.10**\n",
        "\n",
        "\n",
        "Your plant grew 5.3 inches in 10 days. Create a variable `height` and assign it to value 5.3. Create a variable `days` and assign it to value 10. Assuming your plant grew the same amount everyday, how much did it grow each day?"
      ],
      "metadata": {
        "id": "CAOsjIOJEwZr"
      }
    },
    {
      "cell_type": "code",
      "source": [
        "height = 5.3\n",
        "days = 10\n",
        "print(\"My plant grew \" + str(5.3 / 10) + \" inches per day.\")"
      ],
      "metadata": {
        "id": "M93r7YoBsy0s",
        "outputId": "ef6dbe04-af0f-4997-8a93-b3b1ff7a0339",
        "colab": {
          "base_uri": "https://localhost:8080/"
        }
      },
      "execution_count": 16,
      "outputs": [
        {
          "output_type": "stream",
          "name": "stdout",
          "text": [
            "My plant grew 0.53 inches per day.\n"
          ]
        }
      ]
    },
    {
      "cell_type": "markdown",
      "source": [
        "---\n",
        "### **Problem #4.11**\n",
        "\n",
        "\n",
        "Jake has 5 bags of coins. Each bag has 18 coins in it. How many coins in total does Jake have? Create variables `bags` and `coins` and print their product: `total`.\n"
      ],
      "metadata": {
        "id": "UHeue490wHt_"
      }
    },
    {
      "cell_type": "code",
      "source": [
        "bags = 5\n",
        "coins = 18\n",
        "total = bags * coins\n",
        "print(total)"
      ],
      "metadata": {
        "id": "TMvP1YBuxWLI",
        "outputId": "48bddfd1-0676-4066-d769-9b6e1e48ae46",
        "colab": {
          "base_uri": "https://localhost:8080/"
        }
      },
      "execution_count": 17,
      "outputs": [
        {
          "output_type": "stream",
          "name": "stdout",
          "text": [
            "90\n"
          ]
        }
      ]
    },
    {
      "cell_type": "markdown",
      "source": [
        "---\n",
        "#End of notebook\n",
        "\n",
        "© 2025 The Coding School, All rights reserved"
      ],
      "metadata": {
        "id": "Q2wvzsccqNCk"
      }
    }
  ]
}