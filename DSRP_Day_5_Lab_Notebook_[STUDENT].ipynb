{
  "nbformat": 4,
  "nbformat_minor": 0,
  "metadata": {
    "colab": {
      "provenance": [],
      "toc_visible": true,
      "include_colab_link": true
    },
    "kernelspec": {
      "name": "python3",
      "display_name": "Python 3"
    },
    "language_info": {
      "name": "python"
    }
  },
  "cells": [
    {
      "cell_type": "markdown",
      "metadata": {
        "id": "view-in-github",
        "colab_type": "text"
      },
      "source": [
        "<a href=\"https://colab.research.google.com/github/kurealnum/dsrp-2025/blob/main/DSRP_Day_5_Lab_Notebook_%5BSTUDENT%5D.ipynb\" target=\"_parent\"><img src=\"https://colab.research.google.com/assets/colab-badge.svg\" alt=\"Open In Colab\"/></a>"
      ]
    },
    {
      "cell_type": "markdown",
      "source": [
        "---\n",
        "# **Titanic Project**\n",
        "---\n",
        "\n",
        "Through the following questions, you will hone and apply your skills to a famous dataset containing information about passengers on the Titanic and whether they survived or not: [Titanic dataset from Kaggle](https://www.kaggle.com/competitions/titanic/overview).\n",
        "\n",
        "\n",
        "<br>\n",
        "\n",
        "There are twelve columns in the dataset. The target column is `Survived` which indicates if a passenger survived (1) or not (0). The features initially available are:\n",
        "\n",
        "* `PassengerId`: Numeric, a unique number for each passenger.\n",
        "* `Pclass`: Numeric, the ticket class.\t1 = 1st, 2 = 2nd, 3 = 3rd.\n",
        "* `Name`: Categorical, the name of the passenger.\n",
        "* `Sex`: Categorical, the sex of the passenger.\n",
        "* `Age`: Numeric, the passenger's age in years.\n",
        "* `Sibsp`: Numeric, the number of siblings / spouses aboard the Titanic.\n",
        "* `Parch`: Numeric, the number of parents / children aboard the Titanic.\n",
        "* `Ticket`: Categorical, ticket number.\n",
        "* `Fare`: Numeric, passenger fare.\n",
        "* `Cabin`: Categorical, cabin number.\n",
        "* `Embarked`: Categorical, port of embarkation.\tC = Cherbourg, Q = Queenstown, S = Southampton.\n",
        "* `Hometown`: Categorical, passenger home town.\n",
        "* `Destination`: Categorical, ultimate return point.\n",
        "* `HasCabin`: Categorical, whether the passenger(s) had a cabin or not.\n",
        "\n",
        "<br>\n",
        "\n",
        "**Run the cell below to import all necessary libraries and functions.**"
      ],
      "metadata": {
        "id": "Ji7AqfTKLQ57"
      }
    },
    {
      "cell_type": "code",
      "source": [
        "import warnings\n",
        "warnings.filterwarnings('ignore')\n",
        "\n",
        "import pandas as pd\n",
        "import matplotlib.pyplot as plt\n",
        "\n",
        "import numpy as np\n",
        "\n",
        "url = \"https://github.com/the-codingschool/TRAIN-datasets/raw/main/titanic/titanic_cleaned.csv\"\n",
        "data = pd.read_csv(url)"
      ],
      "metadata": {
        "id": "sy1IOFkVlQQr"
      },
      "execution_count": null,
      "outputs": []
    },
    {
      "cell_type": "markdown",
      "source": [
        "#### **Problem #1**\n",
        "\n",
        "Print the first 10 rows of the data."
      ],
      "metadata": {
        "id": "b-soLic_vu7S"
      }
    },
    {
      "cell_type": "code",
      "source": [
        "# COMPLETE THIS CODE"
      ],
      "metadata": {
        "id": "x8R3iCfG0R4e"
      },
      "execution_count": null,
      "outputs": []
    },
    {
      "cell_type": "markdown",
      "source": [
        "#### **Problem #2**\n",
        "\n",
        "Determine how many data points and how many variables are in this dataset using the `.shape` attribute."
      ],
      "metadata": {
        "id": "c5xyfR8Y6G5b"
      }
    },
    {
      "cell_type": "code",
      "source": [
        "# COMPLETE THIS CODE"
      ],
      "metadata": {
        "id": "7NkNRxGI6G5p"
      },
      "execution_count": null,
      "outputs": []
    },
    {
      "cell_type": "markdown",
      "source": [
        "#### **Problem #3**\n",
        "\n",
        "Now, get a general picture of the data's statistics using the `.describe()` method. Then, specifically determine:\n",
        "\n",
        "* The average age of the passengers.\n",
        "* The standard deviation (std) of the fare."
      ],
      "metadata": {
        "id": "aDheMZhf6vxp"
      }
    },
    {
      "cell_type": "code",
      "source": [
        "# COMPLETE THIS CODE"
      ],
      "metadata": {
        "id": "RPqrQ60Y6vx2"
      },
      "execution_count": null,
      "outputs": []
    },
    {
      "cell_type": "markdown",
      "source": [
        "#### **Problem #4**\n",
        "\n",
        "Determine how many passengers did or did not survive using the `.value_counts()` method."
      ],
      "metadata": {
        "id": "AHRPC38_7eq0"
      }
    },
    {
      "cell_type": "code",
      "source": [
        "# COMPLETE THIS CODE"
      ],
      "metadata": {
        "id": "O4wPmM067erC"
      },
      "execution_count": null,
      "outputs": []
    },
    {
      "cell_type": "markdown",
      "source": [
        "#### **Problem #5**\n",
        "\n",
        "Visualize the number of passengers who did versus did not survive using a bar graph."
      ],
      "metadata": {
        "id": "eoeq-QqI8G8s"
      }
    },
    {
      "cell_type": "code",
      "source": [
        "categories = ['Not Survived', 'Survived']\n",
        "bars = # COMPLETE THIS CODE\n",
        "\n",
        "plt.# COMPLETE THIS CODE\n",
        "\n",
        "plt.ylabel(# COMPLETE THIS CODE\n",
        "plt.title(# COMPLETE THIS CODE\n",
        "\n",
        "plt.show()"
      ],
      "metadata": {
        "id": "U0A21AZR8G84",
        "colab": {
          "base_uri": "https://localhost:8080/",
          "height": 108
        },
        "outputId": "374fe590-b729-4e6b-b4b5-edd440bfb63e"
      },
      "execution_count": null,
      "outputs": [
        {
          "output_type": "error",
          "ename": "SyntaxError",
          "evalue": "invalid syntax (<ipython-input-7-40dcc3e2a99f>, line 2)",
          "traceback": [
            "\u001b[0;36m  File \u001b[0;32m\"<ipython-input-7-40dcc3e2a99f>\"\u001b[0;36m, line \u001b[0;32m2\u001b[0m\n\u001b[0;31m    bars = # COMPLETE THIS CODE\u001b[0m\n\u001b[0m           ^\u001b[0m\n\u001b[0;31mSyntaxError\u001b[0m\u001b[0;31m:\u001b[0m invalid syntax\n"
          ]
        }
      ]
    },
    {
      "cell_type": "markdown",
      "source": [
        "#### **Problem #6**\n",
        "\n",
        "Visualize the number of male versus female passengers."
      ],
      "metadata": {
        "id": "NR6MXcz-84Na"
      }
    },
    {
      "cell_type": "code",
      "source": [
        "categories = ['Male', 'Female']\n",
        "bars = # COMPLETE THIS CODE\n",
        "\n",
        "plt.# COMPLETE THIS CODE\n",
        "\n",
        "plt.ylabel(# COMPLETE THIS CODE\n",
        "plt.title(# COMPLETE THIS CODE\n",
        "\n",
        "plt.show()"
      ],
      "metadata": {
        "id": "_mppJoFk84No"
      },
      "execution_count": null,
      "outputs": []
    },
    {
      "cell_type": "markdown",
      "source": [
        "#### **Problem #7**\n",
        "\n",
        "Create the following two bar plots:\n",
        "1. Number of males who did or did not survive.\n",
        "2. Number of females who did or did not survive."
      ],
      "metadata": {
        "id": "aU5pHtH09dR4"
      }
    },
    {
      "cell_type": "code",
      "source": [
        "categories = ['Not Survived', 'Survived']\n",
        "\n",
        "male_data = data[# COMPLETE THIS CODE\n",
        "male_bars = male_data[# COMPLETE THIS CODE\n",
        "\n",
        "plt.bar(# COMPLETE THIS CODE\n",
        "\n",
        "plt.ylabel(# COMPLETE THIS CODE\n",
        "plt.title(# COMPLETE THIS CODE\n",
        "\n",
        "plt.show()"
      ],
      "metadata": {
        "id": "Ec4vEFaZ9dR6"
      },
      "execution_count": null,
      "outputs": []
    },
    {
      "cell_type": "code",
      "source": [
        "# COMPLETE THIS CODE"
      ],
      "metadata": {
        "id": "lHp_dkzxAiXv"
      },
      "execution_count": null,
      "outputs": []
    },
    {
      "cell_type": "markdown",
      "source": [
        "#### **Problem #8**\n",
        "\n",
        "Comparing these values can be difficult since there is a different number of males and females in this dataset as seen in Problem #6. To more properly compare, do the following:\n",
        "1. Use the `.groupby(...)` method to group the data by sex.\n",
        "2. Determine the mean value of `Survived` for males and females. **NOTE**: This represents the *fraction* of those who survived since `Survived` is either 0 or 1.\n",
        "3. Visualize the results with a bar graph."
      ],
      "metadata": {
        "id": "YahpEf1SDKgZ"
      }
    },
    {
      "cell_type": "code",
      "source": [
        "grouped_data = data.groupby(# COMPLETE THIS CODE\n",
        "surv_frac = grouped_data['Survived'].# COMPLETE THIS CODE\n",
        "\n",
        "x_values = surv_frac.index\n",
        "plt.bar(x_values, surv_frac)\n",
        "\n",
        "plt.xlabel(# COMPLETE THIS CODE\n",
        "plt.ylabel(# COMPLETE THIS CODE\n",
        "plt.title(# COMPLETE THIS CODE\n",
        "\n",
        "plt.show()"
      ],
      "metadata": {
        "id": "tGrLOLchDKgm"
      },
      "execution_count": null,
      "outputs": []
    },
    {
      "cell_type": "markdown",
      "source": [
        "#### **Problem #9**\n",
        "\n",
        "Now, perform the same analysis as in Problem #8 using the variable `HasCabin` instead of `Sex`."
      ],
      "metadata": {
        "id": "Ym3Ua_uhFK1A"
      }
    },
    {
      "cell_type": "code",
      "source": [
        "# COMPLETE THIS CODE"
      ],
      "metadata": {
        "id": "nGDhNWPqFK1M"
      },
      "execution_count": null,
      "outputs": []
    },
    {
      "cell_type": "markdown",
      "source": [
        "#### **Problem #10**\n",
        "\n",
        "Performing the same type of analysis, determine which port of embarkation had the least survivors.\n",
        "\n",
        "<br>\n",
        "\n",
        "**NOTE**: The description of the dataset at the top of the notebook explains what each possible category (C, Q, S) means."
      ],
      "metadata": {
        "id": "hOT2P3yTFz3J"
      }
    },
    {
      "cell_type": "code",
      "source": [
        "# COMPLETE THIS CODE"
      ],
      "metadata": {
        "id": "IBRjXjzRFz3X"
      },
      "execution_count": null,
      "outputs": []
    },
    {
      "cell_type": "markdown",
      "source": [
        "#### **Problem #11**\n",
        "\n",
        "Performing the same type of analysis, determine if the passenger class had a noticeable effect on survival."
      ],
      "metadata": {
        "id": "L-gkdA-GGeQ6"
      }
    },
    {
      "cell_type": "code",
      "source": [
        "# COMPLETE THIS CODE"
      ],
      "metadata": {
        "id": "tRe3YBe-GeRI"
      },
      "execution_count": null,
      "outputs": []
    },
    {
      "cell_type": "markdown",
      "source": [
        "#### **Problem #12**\n",
        "\n",
        "Performing the same type of analysis on the new variable created below, determine if the family size had a noticeable effect on survival."
      ],
      "metadata": {
        "id": "SuPOXt3zGrnY"
      }
    },
    {
      "cell_type": "code",
      "source": [
        "data['FamilySize'] = data['Sibsp'] + data['Parch'] + 1\n",
        "\n",
        "# COMPLETE THIS CODE"
      ],
      "metadata": {
        "id": "xhr_MPKVGrnl"
      },
      "execution_count": null,
      "outputs": []
    },
    {
      "cell_type": "markdown",
      "source": [
        "#### **Problem #13**\n",
        "\n",
        "For sake of comparison, visualize the fraction of survivors versus family size found in Problem #12 using a *line plot*."
      ],
      "metadata": {
        "id": "Itm4O5BqG6ba"
      }
    },
    {
      "cell_type": "code",
      "source": [
        "grouped_data = # COMPLETE THIS CODE\n",
        "surv_frac = grouped_data[# COMPLETE THIS CODE\n",
        "\n",
        "x_values = surv_frac.index\n",
        "plt.# COMPLETE THIS CODE\n",
        "\n",
        "plt.xlabel(# COMPLETE THIS CODE\n",
        "plt.ylabel(# COMPLETE THIS CODE\n",
        "plt.title(# COMPLETE THIS CODE\n",
        "\n",
        "plt.# COMPLETE THIS CODE"
      ],
      "metadata": {
        "id": "Tb9SpilIG6bj"
      },
      "execution_count": null,
      "outputs": []
    },
    {
      "cell_type": "markdown",
      "source": [
        "#### **Problem #14**\n",
        "\n",
        "Visualize the fraction of survivors versus age using a scatter plot."
      ],
      "metadata": {
        "id": "suyAS9qjJQoe"
      }
    },
    {
      "cell_type": "code",
      "source": [
        "# COMPLETE THIS CODE"
      ],
      "metadata": {
        "id": "auyVf7vUJQor"
      },
      "execution_count": null,
      "outputs": []
    },
    {
      "cell_type": "markdown",
      "source": [
        "#### **Problem #15**\n",
        "\n",
        "The results from Problem #14 are not very insightful because we are treating age like a categorical variable when it's realistically a numerical variable that can take on *many* values.\n",
        "\n",
        "<br>\n",
        "\n",
        "So, let's *make* a categorical age variable as follows:\n",
        "1. Run the first cell to create this categorical variable.\n",
        "2. Create a bar plot showing the survival rate versus age category."
      ],
      "metadata": {
        "id": "9KlTXU2sJfm8"
      }
    },
    {
      "cell_type": "code",
      "source": [
        "data['Age Category'] = 'unknown'\n",
        "\n",
        "data['Age Category'][data['Age'] < 13] = 1\n",
        "data['Age Category'][(data['Age'] >= 13) & (data['Age'] < 18)] = 2\n",
        "data['Age Category'][(data['Age'] >= 18) & (data['Age'] < 35)] = 3\n",
        "data['Age Category'][(data['Age'] >= 35) & (data['Age'] < 65)] = 4\n",
        "data['Age Category'][data['Age'] >= 65] = 5"
      ],
      "metadata": {
        "id": "eM1axct1KIIk"
      },
      "execution_count": null,
      "outputs": []
    },
    {
      "cell_type": "code",
      "source": [
        "# COMPLETE THIS CODE"
      ],
      "metadata": {
        "id": "H6KRWtYhJfnJ"
      },
      "execution_count": null,
      "outputs": []
    },
    {
      "cell_type": "markdown",
      "source": [
        "#### **Problem #16**\n",
        "\n",
        "Apply what you've learned about this data to *try* making predictions about who survived or not. Specifically,\n",
        "\n",
        "1. Run the provided code to predict that only first class passengers survived (based on the fact that they had the highest survival rate). **Make sure you understand this code before moving on.**\n",
        "\n",
        "2. Using the same approach, make predictions based on whether the passengers were male or female and considering the results you found above.\n",
        "\n",
        "3. Using the same approach, make predictions based on which port the passengers embarked from and considering the results you found above."
      ],
      "metadata": {
        "id": "0Wy_--MPpU6M"
      }
    },
    {
      "cell_type": "code",
      "source": [
        "predicted_values = (data['Pclass'] == 1)\n",
        "\n",
        "correct_predictions = (data['Survived'] == predicted_values)\n",
        "\n",
        "correct_predictions.value_counts()"
      ],
      "metadata": {
        "colab": {
          "base_uri": "https://localhost:8080/"
        },
        "id": "ey_FciSjmzIh",
        "outputId": "1b784aec-1cd8-408e-9161-946cb919413b"
      },
      "execution_count": null,
      "outputs": [
        {
          "output_type": "execute_result",
          "data": {
            "text/plain": [
              "True     605\n",
              "False    286\n",
              "dtype: int64"
            ]
          },
          "metadata": {},
          "execution_count": 195
        }
      ]
    },
    {
      "cell_type": "code",
      "source": [
        "# COMPLETE THIS CODE"
      ],
      "metadata": {
        "id": "Ipi0u4LYpU6M"
      },
      "execution_count": null,
      "outputs": []
    },
    {
      "cell_type": "code",
      "source": [
        "# COMPLETE THIS CODE"
      ],
      "metadata": {
        "id": "WpdqQnqxv3Tv"
      },
      "execution_count": null,
      "outputs": []
    },
    {
      "cell_type": "markdown",
      "source": [
        "#### **Reflection Questions**\n",
        "\n",
        "If you wish to take your analysis further, consider reflecting on the following questions related to this project and in general:\n",
        "\n",
        "1. How does each of the following variables relate to survival rates and why might this be?\n",
        "> * Passenger class: `Pclass`\n",
        "> * Sex: `Sex`\n",
        "> * Embarkation port: `Embarked`\n",
        "> * Age: `Age` and `Age Category`\n",
        "> * Family Size: `Family Size`\n",
        "\n",
        "1. How effective were each of the three variables used for prediction in Problem #16? What are the potential values and drawbacks of using this prediction approach generally?\n",
        "\n",
        "1. What ethical considerations should be taken into account when analyzing sensitive data, such as information about individuals who were in a disaster such as this?"
      ],
      "metadata": {
        "id": "vUckaCSGJhQv"
      }
    }
  ]
}