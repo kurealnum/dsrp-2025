{
  "nbformat": 4,
  "nbformat_minor": 0,
  "metadata": {
    "colab": {
      "provenance": [],
      "authorship_tag": "ABX9TyOBGK4DNhUSu+Cey0bYju/o",
      "include_colab_link": true
    },
    "kernelspec": {
      "name": "python3",
      "display_name": "Python 3"
    },
    "language_info": {
      "name": "python"
    }
  },
  "cells": [
    {
      "cell_type": "markdown",
      "metadata": {
        "id": "view-in-github",
        "colab_type": "text"
      },
      "source": [
        "<a href=\"https://colab.research.google.com/github/kurealnum/dsrp-2025/blob/main/DSRP_Global_Debt.ipynb\" target=\"_parent\"><img src=\"https://colab.research.google.com/assets/colab-badge.svg\" alt=\"Open In Colab\"/></a>"
      ]
    },
    {
      "cell_type": "code",
      "execution_count": 27,
      "metadata": {
        "id": "hkyGj8KC6mm9",
        "outputId": "4bdae3b6-b834-4ee9-9ef4-3068c075bd9e",
        "colab": {
          "base_uri": "https://localhost:8080/"
        }
      },
      "outputs": [
        {
          "output_type": "stream",
          "name": "stdout",
          "text": [
            "Requirement already satisfied: pandas in /usr/local/lib/python3.11/dist-packages (2.2.2)\n",
            "Requirement already satisfied: numpy>=1.23.2 in /usr/local/lib/python3.11/dist-packages (from pandas) (2.0.2)\n",
            "Requirement already satisfied: python-dateutil>=2.8.2 in /usr/local/lib/python3.11/dist-packages (from pandas) (2.9.0.post0)\n",
            "Requirement already satisfied: pytz>=2020.1 in /usr/local/lib/python3.11/dist-packages (from pandas) (2025.2)\n",
            "Requirement already satisfied: tzdata>=2022.7 in /usr/local/lib/python3.11/dist-packages (from pandas) (2025.2)\n",
            "Requirement already satisfied: six>=1.5 in /usr/local/lib/python3.11/dist-packages (from python-dateutil>=2.8.2->pandas) (1.17.0)\n",
            "Requirement already satisfied: python-calamine in /usr/local/lib/python3.11/dist-packages (0.4.0)\n",
            "Requirement already satisfied: packaging>=23.1 in /usr/local/lib/python3.11/dist-packages (from python-calamine) (25.0)\n"
          ]
        }
      ],
      "source": [
        "!pip install pandas\n",
        "!pip install python-calamine\n",
        "import pandas as pd"
      ]
    },
    {
      "cell_type": "code",
      "source": [
        "# We have to use python-calamine to load the following datasets for some reason.\n",
        "\n",
        "# The following is for private debt\n",
        "# Private debt, loans and debt securities\n",
        "private_debt_loans_url = \"\"\n",
        "\n",
        "private_debt_loans_df = pd.read_excel(private_debt_loans_url, engine=\"calamine\")\n",
        "\n",
        "# Household debt, loans and debt securities\n",
        "household_debt_loans_url = \"\"\n",
        "household_debt_loans_df = pd.read_excel(household_debt_loans_url, engine=\"calamine\")\n",
        "\n",
        "# Nonfinancial corporate debt, loans and debt securities\n",
        "nfc_debt_loans_url = \"\"\n",
        "nfc_debt_loans_df = pd.read_excel(nfc_debt_loans_url, engine=\"calamine\")\n",
        "\n",
        "# Private debt, all instruments\n",
        "private_debt_all_url = \"\"\n",
        "private_debt_all_df = pd.read_excel(private_debt_all_url, engine=\"calamine\")\n",
        "\n",
        "# Household debt, all instruments\n",
        "household_debt_all_url = \"\"\n",
        "household_debt_all_df = pd.read_excel(household_debt_all_url, engine=\"calamine\")\n",
        "\n",
        "# Nonfinancial corporate debt, all instruments\n",
        "nfc_debt_all_url = \"\"\n",
        "nfc_debt_all_df = pd.read_excel(nfc_debt_all_url, engine=\"calamine\")\n",
        "\n",
        "# The following is for public debt\n",
        "# Central Government Debt\n",
        "central_govt_debt_url = \"\"\n",
        "central_govt_debt_df = pd.read_excel(central_govt_debt_url, engine=\"calamine\")\n",
        "\n",
        "# General Government Debt\n",
        "general_govt_debt_url = \"\"\n",
        "general_govt_debt_df = pd.read_excel(general_govt_debt_url, engine=\"calamine\")\n",
        "\n",
        "# Nonfinancial Public Sector Debt\n",
        "nonfinancial_public_sector_debt_url = \"\"\n",
        "nonfinancial_public_sector_debt_df = pd.read_excel(nonfinancial_public_sector_debt_url, engine=\"calamine\")\n",
        "\n",
        "# Public Sector Debt\n",
        "public_sector_debt_url = \"\"\n",
        "public_sector_debt_df = pd.read_excel(public_sector_debt_url, engine=\"calamine\")\n"
      ],
      "metadata": {
        "id": "kRWNBO0i7Hua"
      },
      "execution_count": 29,
      "outputs": []
    }
  ]
}