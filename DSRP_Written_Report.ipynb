{
  "nbformat": 4,
  "nbformat_minor": 0,
  "metadata": {
    "colab": {
      "provenance": [],
      "authorship_tag": "ABX9TyM9c/WW5+OSG0l3Nh6pDpL2",
      "include_colab_link": true
    },
    "kernelspec": {
      "name": "python3",
      "display_name": "Python 3"
    },
    "language_info": {
      "name": "python"
    }
  },
  "cells": [
    {
      "cell_type": "markdown",
      "metadata": {
        "id": "view-in-github",
        "colab_type": "text"
      },
      "source": [
        "<a href=\"https://colab.research.google.com/github/kurealnum/dsrp-2025/blob/main/DSRP_Written_Report.ipynb\" target=\"_parent\"><img src=\"https://colab.research.google.com/assets/colab-badge.svg\" alt=\"Open In Colab\"/></a>"
      ]
    },
    {
      "cell_type": "markdown",
      "source": [
        "# Central Government Debt levels of other countries can predict Central Government Debt levels of the United States\n",
        "By Oscar Gaske"
      ],
      "metadata": {
        "id": "kE_46IeEpsfj"
      }
    },
    {
      "cell_type": "markdown",
      "source": [
        "## Abstract"
      ],
      "metadata": {
        "id": "9eoaLDkHpHDt"
      }
    },
    {
      "cell_type": "markdown",
      "source": [
        "# Background\n",
        "Our economy determines a number of different factors in our daily lives. From mortgage rates to the price of eggs, our economy is constantly changing and fluctuating. Thus, an understanding of our economy and the ability to make accurate and precise predictions on how it might perform in the next 5, 15, or even 30 years can benefit all of us. There are many different methods for predicting the future of our economy, however the provided dataset that was utilized for this research included the Central Government Debt (CGD) metric that was used.\n",
        "\n",
        "CGD refers to the total stock of debt liabilities issued by the central government as a share of GDP. The \"central government\" is the core goverment of a country -- for instance, in the United States, central government refers to the federal government.\n",
        "\n",
        "With that being said, the primary research question is as follows: can CGD levels of other countries predict CGD levels of the United States? \"(O)ther countries\" will be more strictly defined in the following sections."
      ],
      "metadata": {
        "id": "7sHC7iI0pIfE"
      }
    },
    {
      "cell_type": "markdown",
      "source": [
        "# Results"
      ],
      "metadata": {
        "id": "d2EHmrGhpKl5"
      }
    },
    {
      "cell_type": "markdown",
      "source": [
        "This research utilizes a least squares linear regression model to predict CGD levels for the United States. Other models were considered, such as Ridge regression, Bayesian regression, and Lasso regression. However, none of these models were applicable for the data.\n",
        "\n",
        "As input to the least squares linear regression model, the CGD levels of 21 countries were used. These countries were chosen not by a stastical test, but by the number of data points that each country had. The Central Government Debt dataset spans from 1950 to 2023, inclusive, and the majority of countries (156 countries) in the dataset had either a missing year or sections of missing years, making it challenging to appropriately utilize these countries in a machine learning model. Thus, this research only utilized countries that had all 74 data points from 1950 to 2023 -- 21 out of 177 countries. It should also be noted that there was no reason given as to why only ~12% of countries had consistent data.\n",
        "\n",
        "Nevertheless, we will examine"
      ],
      "metadata": {
        "id": "8f_Hw4oSsT1H"
      }
    },
    {
      "cell_type": "markdown",
      "source": [
        "# Discussion"
      ],
      "metadata": {
        "id": "-M2-C8aXpNjk"
      }
    },
    {
      "cell_type": "markdown",
      "source": [
        "# Code and Data Availability"
      ],
      "metadata": {
        "id": "U4G6L5w4pO_6"
      }
    },
    {
      "cell_type": "markdown",
      "source": [
        "# Acknowledgements"
      ],
      "metadata": {
        "id": "vojXRs4CpQqY"
      }
    }
  ]
}